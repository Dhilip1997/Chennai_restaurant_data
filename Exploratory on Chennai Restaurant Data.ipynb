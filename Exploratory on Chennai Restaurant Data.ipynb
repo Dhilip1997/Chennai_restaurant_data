{
 "cells": [
  {
   "cell_type": "markdown",
   "id": "3ab852fa",
   "metadata": {},
   "source": [
    "# Exploratory data analysis on Chennai Zomato Restaurant data\n",
    "\n",
    "## Introduction\n",
    "\n",
    "The Data entirely derived from web scraping Zomato Chennai page and this problem is posted in Kaggle platform and where downloaded for analysis purpose.\n",
    "\n",
    "\n",
    "## Problem statement:\n",
    "A set of peoples who is new to Chennai city, they don't have an idea to select right restaurant in exploring the good and tasty foods at Chennai. To make them select with right choice on best hotel and also get a quick knowledge to get plan their breakfast, lunch and dinner with budget price and quality food.\n",
    "\n",
    "I am here to provide the valuable information in form of analysis and data visualization to these people by using Zomato Chennai's Restaurant data. Let quickly jump into the analysis part using Data."
   ]
  },
  {
   "cell_type": "code",
   "execution_count": 244,
   "id": "fdb79aa6",
   "metadata": {},
   "outputs": [],
   "source": [
    "import pandas as pd\n",
    "import numpy as np\n",
    "import matplotlib.pyplot as plt\n",
    "import seaborn\n",
    "import plotly.graph_objs as go\n",
    "import plotly.express as px\n",
    "from wordcloud import WordCloud"
   ]
  },
  {
   "cell_type": "code",
   "execution_count": 245,
   "id": "e39de765",
   "metadata": {},
   "outputs": [
    {
     "data": {
      "text/html": [
       "<div>\n",
       "<style scoped>\n",
       "    .dataframe tbody tr th:only-of-type {\n",
       "        vertical-align: middle;\n",
       "    }\n",
       "\n",
       "    .dataframe tbody tr th {\n",
       "        vertical-align: top;\n",
       "    }\n",
       "\n",
       "    .dataframe thead th {\n",
       "        text-align: right;\n",
       "    }\n",
       "</style>\n",
       "<table border=\"1\" class=\"dataframe\">\n",
       "  <thead>\n",
       "    <tr style=\"text-align: right;\">\n",
       "      <th></th>\n",
       "      <th>Zomato URL</th>\n",
       "      <th>Name of Restaurant</th>\n",
       "      <th>Address</th>\n",
       "      <th>Location</th>\n",
       "      <th>Cuisine</th>\n",
       "      <th>Top Dishes</th>\n",
       "      <th>Price for 2</th>\n",
       "      <th>Dining Rating</th>\n",
       "      <th>Dining Rating Count</th>\n",
       "      <th>Delivery Rating</th>\n",
       "      <th>Delivery Rating Count</th>\n",
       "      <th>Features</th>\n",
       "    </tr>\n",
       "  </thead>\n",
       "  <tbody>\n",
       "    <tr>\n",
       "      <th>0</th>\n",
       "      <td>https://www.zomato.com/chennai/yaa-mohaideen-b...</td>\n",
       "      <td>Yaa Mohaideen Briyani</td>\n",
       "      <td>336 &amp; 338, Main Road, Pallavaram, Chennai</td>\n",
       "      <td>Pallavaram</td>\n",
       "      <td>['Biryani']</td>\n",
       "      <td>['Bread Halwa', ' Chicken 65', ' Mutton Biryan...</td>\n",
       "      <td>500.0</td>\n",
       "      <td>4.3</td>\n",
       "      <td>1500</td>\n",
       "      <td>4.3</td>\n",
       "      <td>9306</td>\n",
       "      <td>['Home Delivery', 'Indoor Seating']</td>\n",
       "    </tr>\n",
       "    <tr>\n",
       "      <th>1</th>\n",
       "      <td>https://www.zomato.com/chennai/sukkubhai-biriy...</td>\n",
       "      <td>Sukkubhai Biriyani</td>\n",
       "      <td>New 14, Old 11/3Q, Railway Station Road, MKN ...</td>\n",
       "      <td>Alandur</td>\n",
       "      <td>['Biryani', ' North Indian', ' Mughlai', ' Des...</td>\n",
       "      <td>['Beef Biryani', ' Beef Fry', ' Paratha', ' Pa...</td>\n",
       "      <td>1000.0</td>\n",
       "      <td>4.4</td>\n",
       "      <td>3059</td>\n",
       "      <td>4.1</td>\n",
       "      <td>39200</td>\n",
       "      <td>['Home Delivery', 'Free Parking', 'Table booki...</td>\n",
       "    </tr>\n",
       "    <tr>\n",
       "      <th>2</th>\n",
       "      <td>https://www.zomato.com/chennai/ss-hyderabad-bi...</td>\n",
       "      <td>SS Hyderabad Biryani</td>\n",
       "      <td>98/339, Arcot Road, Opposite Gokulam Chit Fun...</td>\n",
       "      <td>Kodambakkam</td>\n",
       "      <td>['Biryani', ' North Indian', ' Chinese', ' Ara...</td>\n",
       "      <td>['Brinjal Curry', ' Tandoori Chicken', ' Chick...</td>\n",
       "      <td>500.0</td>\n",
       "      <td>4.3</td>\n",
       "      <td>1361</td>\n",
       "      <td>4.4</td>\n",
       "      <td>10500</td>\n",
       "      <td>['Home Delivery', 'Indoor Seating']</td>\n",
       "    </tr>\n",
       "    <tr>\n",
       "      <th>3</th>\n",
       "      <td>https://www.zomato.com/chennai/kfc-perambur</td>\n",
       "      <td>KFC</td>\n",
       "      <td>10, Periyar Nagar, 70 Feet Road, Near Sheeba ...</td>\n",
       "      <td>Perambur</td>\n",
       "      <td>['Burger', ' Fast Food', ' Finger Food', ' Bev...</td>\n",
       "      <td>['Zinger Burger']</td>\n",
       "      <td>500.0</td>\n",
       "      <td>4.0</td>\n",
       "      <td>1101</td>\n",
       "      <td>4.0</td>\n",
       "      <td>11200</td>\n",
       "      <td>['Home Delivery', 'Free Parking', 'Card Upon D...</td>\n",
       "    </tr>\n",
       "    <tr>\n",
       "      <th>4</th>\n",
       "      <td>https://www.zomato.com/chennai/tasty-kitchen-p...</td>\n",
       "      <td>Tasty Kitchen</td>\n",
       "      <td>135B, SRP Colony, Peravallur, Near Perambur, ...</td>\n",
       "      <td>Perambur</td>\n",
       "      <td>['Chinese', ' Biryani', ' North Indian', ' Che...</td>\n",
       "      <td>['Mutton Biryani', ' Chicken Rice', ' Tomato R...</td>\n",
       "      <td>450.0</td>\n",
       "      <td>4.2</td>\n",
       "      <td>617</td>\n",
       "      <td>4.1</td>\n",
       "      <td>22400</td>\n",
       "      <td>['Home Delivery', 'Indoor Seating']</td>\n",
       "    </tr>\n",
       "  </tbody>\n",
       "</table>\n",
       "</div>"
      ],
      "text/plain": [
       "                                          Zomato URL     Name of Restaurant  \\\n",
       "0  https://www.zomato.com/chennai/yaa-mohaideen-b...  Yaa Mohaideen Briyani   \n",
       "1  https://www.zomato.com/chennai/sukkubhai-biriy...     Sukkubhai Biriyani   \n",
       "2  https://www.zomato.com/chennai/ss-hyderabad-bi...   SS Hyderabad Biryani   \n",
       "3        https://www.zomato.com/chennai/kfc-perambur                    KFC   \n",
       "4  https://www.zomato.com/chennai/tasty-kitchen-p...          Tasty Kitchen   \n",
       "\n",
       "                                             Address     Location  \\\n",
       "0          336 & 338, Main Road, Pallavaram, Chennai   Pallavaram   \n",
       "1   New 14, Old 11/3Q, Railway Station Road, MKN ...      Alandur   \n",
       "2   98/339, Arcot Road, Opposite Gokulam Chit Fun...  Kodambakkam   \n",
       "3   10, Periyar Nagar, 70 Feet Road, Near Sheeba ...     Perambur   \n",
       "4   135B, SRP Colony, Peravallur, Near Perambur, ...     Perambur   \n",
       "\n",
       "                                             Cuisine  \\\n",
       "0                                        ['Biryani']   \n",
       "1  ['Biryani', ' North Indian', ' Mughlai', ' Des...   \n",
       "2  ['Biryani', ' North Indian', ' Chinese', ' Ara...   \n",
       "3  ['Burger', ' Fast Food', ' Finger Food', ' Bev...   \n",
       "4  ['Chinese', ' Biryani', ' North Indian', ' Che...   \n",
       "\n",
       "                                          Top Dishes  Price for 2  \\\n",
       "0  ['Bread Halwa', ' Chicken 65', ' Mutton Biryan...        500.0   \n",
       "1  ['Beef Biryani', ' Beef Fry', ' Paratha', ' Pa...       1000.0   \n",
       "2  ['Brinjal Curry', ' Tandoori Chicken', ' Chick...        500.0   \n",
       "3                                  ['Zinger Burger']        500.0   \n",
       "4  ['Mutton Biryani', ' Chicken Rice', ' Tomato R...        450.0   \n",
       "\n",
       "  Dining Rating Dining Rating Count Delivery Rating Delivery Rating Count  \\\n",
       "0           4.3                1500             4.3                  9306   \n",
       "1           4.4                3059             4.1                 39200   \n",
       "2           4.3                1361             4.4                 10500   \n",
       "3           4.0                1101             4.0                 11200   \n",
       "4           4.2                 617             4.1                 22400   \n",
       "\n",
       "                                            Features  \n",
       "0                ['Home Delivery', 'Indoor Seating']  \n",
       "1  ['Home Delivery', 'Free Parking', 'Table booki...  \n",
       "2                ['Home Delivery', 'Indoor Seating']  \n",
       "3  ['Home Delivery', 'Free Parking', 'Card Upon D...  \n",
       "4                ['Home Delivery', 'Indoor Seating']  "
      ]
     },
     "execution_count": 245,
     "metadata": {},
     "output_type": "execute_result"
    }
   ],
   "source": [
    "zomato_data = pd.read_csv(\"Zomato Chennai Listing 2020.csv\")\n",
    "zomato_data.head()"
   ]
  },
  {
   "cell_type": "markdown",
   "id": "f996739a",
   "metadata": {},
   "source": [
    "### Checking the number of features present in dataset"
   ]
  },
  {
   "cell_type": "code",
   "execution_count": 246,
   "id": "a794df43",
   "metadata": {},
   "outputs": [
    {
     "name": "stdout",
     "output_type": "stream",
     "text": [
      "Checking the column name:  Index(['Zomato URL', 'Name of Restaurant', 'Address', 'Location', 'Cuisine',\n",
      "       'Top Dishes', 'Price for 2', 'Dining Rating', 'Dining Rating Count',\n",
      "       'Delivery Rating', 'Delivery Rating Count', 'Features'],\n",
      "      dtype='object')\n"
     ]
    }
   ],
   "source": [
    "print(\"Checking the column name: \", zomato_data.columns)"
   ]
  },
  {
   "cell_type": "code",
   "execution_count": 247,
   "id": "35b7c5de",
   "metadata": {},
   "outputs": [
    {
     "name": "stdout",
     "output_type": "stream",
     "text": [
      "Number of Records present in the data : 12032\n"
     ]
    }
   ],
   "source": [
    "print(\"Number of Records present in the data :\" , len(zomato_data))"
   ]
  },
  {
   "cell_type": "markdown",
   "id": "508db9c4",
   "metadata": {},
   "source": [
    "### Replacing the Not value in sentence to Null value"
   ]
  },
  {
   "cell_type": "code",
   "execution_count": 248,
   "id": "a22c1095",
   "metadata": {},
   "outputs": [],
   "source": [
    "zomato_data.replace(['None','Invalid','Does not offer Delivery','Does not offer Dining','Not enough Delivery Reviews','Not enough Dining Reviews'], value = np.nan, inplace = True)"
   ]
  },
  {
   "cell_type": "markdown",
   "id": "9e39a9e3",
   "metadata": {},
   "source": [
    "### Executing the null values in dataset"
   ]
  },
  {
   "cell_type": "code",
   "execution_count": 249,
   "id": "2ca557df",
   "metadata": {
    "scrolled": true
   },
   "outputs": [
    {
     "data": {
      "text/html": [
       "<div>\n",
       "<style scoped>\n",
       "    .dataframe tbody tr th:only-of-type {\n",
       "        vertical-align: middle;\n",
       "    }\n",
       "\n",
       "    .dataframe tbody tr th {\n",
       "        vertical-align: top;\n",
       "    }\n",
       "\n",
       "    .dataframe thead th {\n",
       "        text-align: right;\n",
       "    }\n",
       "</style>\n",
       "<table border=\"1\" class=\"dataframe\">\n",
       "  <thead>\n",
       "    <tr style=\"text-align: right;\">\n",
       "      <th></th>\n",
       "      <th>Zomato URL</th>\n",
       "      <th>Name of Restaurant</th>\n",
       "      <th>Address</th>\n",
       "      <th>Location</th>\n",
       "      <th>Cuisine</th>\n",
       "      <th>Top Dishes</th>\n",
       "      <th>Price for 2</th>\n",
       "      <th>Dining Rating</th>\n",
       "      <th>Dining Rating Count</th>\n",
       "      <th>Delivery Rating</th>\n",
       "      <th>Delivery Rating Count</th>\n",
       "      <th>Features</th>\n",
       "    </tr>\n",
       "  </thead>\n",
       "  <tbody>\n",
       "    <tr>\n",
       "      <th>6</th>\n",
       "      <td>https://www.zomato.com/chennai/bai-veetu-kalya...</td>\n",
       "      <td>Bai Veetu Kalyanam</td>\n",
       "      <td>1/187, Thalambur Road, Navallur, Chennai</td>\n",
       "      <td>Navallur</td>\n",
       "      <td>['Biryani']</td>\n",
       "      <td>['Bread Halwa', ' Mutton Biryani', ' Brinjal G...</td>\n",
       "      <td>350.0</td>\n",
       "      <td>NaN</td>\n",
       "      <td>NaN</td>\n",
       "      <td>4.3</td>\n",
       "      <td>1061</td>\n",
       "      <td>['Home Delivery']</td>\n",
       "    </tr>\n",
       "    <tr>\n",
       "      <th>15</th>\n",
       "      <td>https://www.zomato.com/chennai/welcome-hotel-p...</td>\n",
       "      <td>Welcome Hotel</td>\n",
       "      <td>112/241, Purasawalkam High Road, Purasavakkam...</td>\n",
       "      <td>Purasavakkam</td>\n",
       "      <td>['South Indian', ' Desserts', ' Beverages']</td>\n",
       "      <td>['Pongal', ' Podi Dosa', ' Idli Sambar', ' Vad...</td>\n",
       "      <td>300.0</td>\n",
       "      <td>4.5</td>\n",
       "      <td>1094</td>\n",
       "      <td>NaN</td>\n",
       "      <td>NaN</td>\n",
       "      <td>['Breakfast', 'Vegetarian Only', 'Indoor Seati...</td>\n",
       "    </tr>\n",
       "    <tr>\n",
       "      <th>18</th>\n",
       "      <td>https://www.zomato.com/chennai/wire-room-bar-k...</td>\n",
       "      <td>Wire Room Bar &amp; Kitchen</td>\n",
       "      <td>142, Phoenix Marketcity, New NGO Colony, Vela...</td>\n",
       "      <td>Phoenix Market City, Velachery</td>\n",
       "      <td>['Continental', ' Asian']</td>\n",
       "      <td>['Cocktails', ' Salad', ' Beer', ' Tikka', ' P...</td>\n",
       "      <td>2000.0</td>\n",
       "      <td>4.1</td>\n",
       "      <td>354</td>\n",
       "      <td>NaN</td>\n",
       "      <td>NaN</td>\n",
       "      <td>['Full Bar Available', 'Mall Parking', 'Dance ...</td>\n",
       "    </tr>\n",
       "    <tr>\n",
       "      <th>23</th>\n",
       "      <td>https://www.zomato.com/chennai/bff-2-0-ra-puram</td>\n",
       "      <td>BFF 2.0</td>\n",
       "      <td>80/29, 2nd Main Road, RA Puram, Chennai</td>\n",
       "      <td>RA Puram</td>\n",
       "      <td>['North Indian', ' Continental', ' Italian']</td>\n",
       "      <td>['Crispy Chicken', ' Cocktails', ' Pizza', ' N...</td>\n",
       "      <td>1500.0</td>\n",
       "      <td>4.2</td>\n",
       "      <td>464</td>\n",
       "      <td>NaN</td>\n",
       "      <td>NaN</td>\n",
       "      <td>['Full Bar Available', 'Indoor Seating', 'Nigh...</td>\n",
       "    </tr>\n",
       "    <tr>\n",
       "      <th>72</th>\n",
       "      <td>https://www.zomato.com/chennai/deen-biriyani-a...</td>\n",
       "      <td>Deen Biriyani</td>\n",
       "      <td>687/7, P.H Road, Aminijikarai, Chennai</td>\n",
       "      <td>Aminijikarai</td>\n",
       "      <td>['Biryani', ' South Indian', ' North Indian', ...</td>\n",
       "      <td>NaN</td>\n",
       "      <td>500.0</td>\n",
       "      <td>3.9</td>\n",
       "      <td>460</td>\n",
       "      <td>3.8</td>\n",
       "      <td>18</td>\n",
       "      <td>['Home Delivery', 'Indoor Seating']</td>\n",
       "    </tr>\n",
       "    <tr>\n",
       "      <th>...</th>\n",
       "      <td>...</td>\n",
       "      <td>...</td>\n",
       "      <td>...</td>\n",
       "      <td>...</td>\n",
       "      <td>...</td>\n",
       "      <td>...</td>\n",
       "      <td>...</td>\n",
       "      <td>...</td>\n",
       "      <td>...</td>\n",
       "      <td>...</td>\n",
       "      <td>...</td>\n",
       "      <td>...</td>\n",
       "    </tr>\n",
       "    <tr>\n",
       "      <th>12027</th>\n",
       "      <td>https://www.zomato.com/chennai/cks-sandwiches-...</td>\n",
       "      <td>CK's Sandwiches</td>\n",
       "      <td>Delivery Only</td>\n",
       "      <td>Porur</td>\n",
       "      <td>['Sandwich']</td>\n",
       "      <td>NaN</td>\n",
       "      <td>350.0</td>\n",
       "      <td>NaN</td>\n",
       "      <td>NaN</td>\n",
       "      <td>NaN</td>\n",
       "      <td>NaN</td>\n",
       "      <td>['Breakfast', 'Delivery Only']</td>\n",
       "    </tr>\n",
       "    <tr>\n",
       "      <th>12028</th>\n",
       "      <td>https://www.zomato.com/chennai/cks-sandwiches-...</td>\n",
       "      <td>CK's Sandwiches</td>\n",
       "      <td>Delivery Only</td>\n",
       "      <td>Kolathur</td>\n",
       "      <td>['Sandwich']</td>\n",
       "      <td>NaN</td>\n",
       "      <td>350.0</td>\n",
       "      <td>NaN</td>\n",
       "      <td>NaN</td>\n",
       "      <td>NaN</td>\n",
       "      <td>NaN</td>\n",
       "      <td>['Breakfast', 'Delivery Only']</td>\n",
       "    </tr>\n",
       "    <tr>\n",
       "      <th>12029</th>\n",
       "      <td>https://www.zomato.com/chennai/cks-sandwiches-...</td>\n",
       "      <td>CK's Sandwiches</td>\n",
       "      <td>Delivery Only</td>\n",
       "      <td>Anna Nagar East</td>\n",
       "      <td>['Sandwich']</td>\n",
       "      <td>NaN</td>\n",
       "      <td>350.0</td>\n",
       "      <td>NaN</td>\n",
       "      <td>NaN</td>\n",
       "      <td>NaN</td>\n",
       "      <td>NaN</td>\n",
       "      <td>['Breakfast', 'Delivery Only']</td>\n",
       "    </tr>\n",
       "    <tr>\n",
       "      <th>12030</th>\n",
       "      <td>https://www.zomato.com/chennai/cks-sandwiches-...</td>\n",
       "      <td>CK's Sandwiches</td>\n",
       "      <td>Delivery Only</td>\n",
       "      <td>Ramapuram</td>\n",
       "      <td>['Sandwich']</td>\n",
       "      <td>NaN</td>\n",
       "      <td>350.0</td>\n",
       "      <td>NaN</td>\n",
       "      <td>NaN</td>\n",
       "      <td>NaN</td>\n",
       "      <td>NaN</td>\n",
       "      <td>['Breakfast', 'Delivery Only']</td>\n",
       "    </tr>\n",
       "    <tr>\n",
       "      <th>12031</th>\n",
       "      <td>https://www.zomato.com/chennai/cks-sandwiches-...</td>\n",
       "      <td>CK's Sandwiches</td>\n",
       "      <td>Delivery Only</td>\n",
       "      <td>Sholinganallur</td>\n",
       "      <td>['Sandwich']</td>\n",
       "      <td>NaN</td>\n",
       "      <td>350.0</td>\n",
       "      <td>NaN</td>\n",
       "      <td>NaN</td>\n",
       "      <td>NaN</td>\n",
       "      <td>NaN</td>\n",
       "      <td>['Breakfast', 'Delivery Only']</td>\n",
       "    </tr>\n",
       "  </tbody>\n",
       "</table>\n",
       "<p>10354 rows × 12 columns</p>\n",
       "</div>"
      ],
      "text/plain": [
       "                                              Zomato URL  \\\n",
       "6      https://www.zomato.com/chennai/bai-veetu-kalya...   \n",
       "15     https://www.zomato.com/chennai/welcome-hotel-p...   \n",
       "18     https://www.zomato.com/chennai/wire-room-bar-k...   \n",
       "23       https://www.zomato.com/chennai/bff-2-0-ra-puram   \n",
       "72     https://www.zomato.com/chennai/deen-biriyani-a...   \n",
       "...                                                  ...   \n",
       "12027  https://www.zomato.com/chennai/cks-sandwiches-...   \n",
       "12028  https://www.zomato.com/chennai/cks-sandwiches-...   \n",
       "12029  https://www.zomato.com/chennai/cks-sandwiches-...   \n",
       "12030  https://www.zomato.com/chennai/cks-sandwiches-...   \n",
       "12031  https://www.zomato.com/chennai/cks-sandwiches-...   \n",
       "\n",
       "            Name of Restaurant  \\\n",
       "6           Bai Veetu Kalyanam   \n",
       "15               Welcome Hotel   \n",
       "18     Wire Room Bar & Kitchen   \n",
       "23                     BFF 2.0   \n",
       "72               Deen Biriyani   \n",
       "...                        ...   \n",
       "12027          CK's Sandwiches   \n",
       "12028          CK's Sandwiches   \n",
       "12029          CK's Sandwiches   \n",
       "12030          CK's Sandwiches   \n",
       "12031          CK's Sandwiches   \n",
       "\n",
       "                                                 Address  \\\n",
       "6               1/187, Thalambur Road, Navallur, Chennai   \n",
       "15      112/241, Purasawalkam High Road, Purasavakkam...   \n",
       "18      142, Phoenix Marketcity, New NGO Colony, Vela...   \n",
       "23               80/29, 2nd Main Road, RA Puram, Chennai   \n",
       "72                687/7, P.H Road, Aminijikarai, Chennai   \n",
       "...                                                  ...   \n",
       "12027                                      Delivery Only   \n",
       "12028                                      Delivery Only   \n",
       "12029                                      Delivery Only   \n",
       "12030                                      Delivery Only   \n",
       "12031                                      Delivery Only   \n",
       "\n",
       "                             Location  \\\n",
       "6                            Navallur   \n",
       "15                       Purasavakkam   \n",
       "18     Phoenix Market City, Velachery   \n",
       "23                           RA Puram   \n",
       "72                       Aminijikarai   \n",
       "...                               ...   \n",
       "12027                           Porur   \n",
       "12028                        Kolathur   \n",
       "12029                 Anna Nagar East   \n",
       "12030                       Ramapuram   \n",
       "12031                  Sholinganallur   \n",
       "\n",
       "                                                 Cuisine  \\\n",
       "6                                            ['Biryani']   \n",
       "15           ['South Indian', ' Desserts', ' Beverages']   \n",
       "18                             ['Continental', ' Asian']   \n",
       "23          ['North Indian', ' Continental', ' Italian']   \n",
       "72     ['Biryani', ' South Indian', ' North Indian', ...   \n",
       "...                                                  ...   \n",
       "12027                                       ['Sandwich']   \n",
       "12028                                       ['Sandwich']   \n",
       "12029                                       ['Sandwich']   \n",
       "12030                                       ['Sandwich']   \n",
       "12031                                       ['Sandwich']   \n",
       "\n",
       "                                              Top Dishes  Price for 2  \\\n",
       "6      ['Bread Halwa', ' Mutton Biryani', ' Brinjal G...        350.0   \n",
       "15     ['Pongal', ' Podi Dosa', ' Idli Sambar', ' Vad...        300.0   \n",
       "18     ['Cocktails', ' Salad', ' Beer', ' Tikka', ' P...       2000.0   \n",
       "23     ['Crispy Chicken', ' Cocktails', ' Pizza', ' N...       1500.0   \n",
       "72                                                   NaN        500.0   \n",
       "...                                                  ...          ...   \n",
       "12027                                                NaN        350.0   \n",
       "12028                                                NaN        350.0   \n",
       "12029                                                NaN        350.0   \n",
       "12030                                                NaN        350.0   \n",
       "12031                                                NaN        350.0   \n",
       "\n",
       "      Dining Rating Dining Rating Count Delivery Rating Delivery Rating Count  \\\n",
       "6               NaN                 NaN             4.3                  1061   \n",
       "15              4.5                1094             NaN                   NaN   \n",
       "18              4.1                 354             NaN                   NaN   \n",
       "23              4.2                 464             NaN                   NaN   \n",
       "72              3.9                 460             3.8                    18   \n",
       "...             ...                 ...             ...                   ...   \n",
       "12027           NaN                 NaN             NaN                   NaN   \n",
       "12028           NaN                 NaN             NaN                   NaN   \n",
       "12029           NaN                 NaN             NaN                   NaN   \n",
       "12030           NaN                 NaN             NaN                   NaN   \n",
       "12031           NaN                 NaN             NaN                   NaN   \n",
       "\n",
       "                                                Features  \n",
       "6                                      ['Home Delivery']  \n",
       "15     ['Breakfast', 'Vegetarian Only', 'Indoor Seati...  \n",
       "18     ['Full Bar Available', 'Mall Parking', 'Dance ...  \n",
       "23     ['Full Bar Available', 'Indoor Seating', 'Nigh...  \n",
       "72                   ['Home Delivery', 'Indoor Seating']  \n",
       "...                                                  ...  \n",
       "12027                     ['Breakfast', 'Delivery Only']  \n",
       "12028                     ['Breakfast', 'Delivery Only']  \n",
       "12029                     ['Breakfast', 'Delivery Only']  \n",
       "12030                     ['Breakfast', 'Delivery Only']  \n",
       "12031                     ['Breakfast', 'Delivery Only']  \n",
       "\n",
       "[10354 rows x 12 columns]"
      ]
     },
     "execution_count": 249,
     "metadata": {},
     "output_type": "execute_result"
    }
   ],
   "source": [
    "zomato_data[zomato_data.isnull().any(axis=1)]"
   ]
  },
  {
   "cell_type": "code",
   "execution_count": 250,
   "id": "dd7be3d8",
   "metadata": {},
   "outputs": [
    {
     "data": {
      "text/plain": [
       "Zomato URL                  0\n",
       "Name of Restaurant          0\n",
       "Address                     0\n",
       "Location                    0\n",
       "Cuisine                     0\n",
       "Top Dishes               9641\n",
       "Price for 2                 0\n",
       "Dining Rating            5351\n",
       "Dining Rating Count      5351\n",
       "Delivery Rating          5851\n",
       "Delivery Rating Count    5851\n",
       "Features                    0\n",
       "dtype: int64"
      ]
     },
     "execution_count": 250,
     "metadata": {},
     "output_type": "execute_result"
    }
   ],
   "source": [
    "zomato_data.isnull().sum()"
   ]
  },
  {
   "cell_type": "markdown",
   "id": "cd5c2e65",
   "metadata": {},
   "source": [
    "### Filtering the Location data"
   ]
  },
  {
   "cell_type": "code",
   "execution_count": 251,
   "id": "b8f2cead",
   "metadata": {},
   "outputs": [],
   "source": [
    "def loc_filter(location):\n",
    "    if len(location.split(\",\")) <= 2:\n",
    "        return(location.split(\",\")[-1].replace(\" \",\"\"))\n",
    "    else:\n",
    "        return location"
   ]
  },
  {
   "cell_type": "code",
   "execution_count": 252,
   "id": "c3cac32d",
   "metadata": {},
   "outputs": [],
   "source": [
    "zomato_data['Location'] = zomato_data['Location'].apply(lambda x:loc_filter(x)) "
   ]
  },
  {
   "cell_type": "code",
   "execution_count": 253,
   "id": "5193e153",
   "metadata": {},
   "outputs": [
    {
     "data": {
      "text/plain": [
       "TheSlate               1\n",
       "East...                1\n",
       "SomersetGreenways      2\n",
       "Kanchipuram            2\n",
       "GrandeBayResort        2\n",
       "                    ... \n",
       "Perungudi            288\n",
       "T.Nagar              340\n",
       "Ambattur             361\n",
       "Velachery            421\n",
       "Porur                421\n",
       "Name: Location, Length: 128, dtype: int64"
      ]
     },
     "execution_count": 253,
     "metadata": {},
     "output_type": "execute_result"
    }
   ],
   "source": [
    "zomato_data[\"Location\"].value_counts().sort_values(ascending=True)"
   ]
  },
  {
   "cell_type": "markdown",
   "id": "13540abc",
   "metadata": {},
   "source": [
    "### Number of Restaurant in each location"
   ]
  },
  {
   "cell_type": "code",
   "execution_count": 254,
   "id": "5e128543",
   "metadata": {
    "scrolled": false
   },
   "outputs": [
    {
     "data": {
      "application/vnd.plotly.v1+json": {
       "config": {
        "plotlyServerURL": "https://plot.ly"
       },
       "data": [
        {
         "marker": {
          "color": "orange"
         },
         "orientation": "h",
         "text": [
          "421",
          "421",
          "361",
          "340",
          "288",
          "285",
          "279",
          "277",
          "271",
          "258",
          "252",
          "245",
          "243",
          "220",
          "218",
          "206",
          "203",
          "202",
          "201",
          "192",
          "181",
          "180",
          "170",
          "169",
          "164",
          "158",
          "155",
          "151",
          "151",
          "149",
          "142",
          "138",
          "132",
          "128",
          "124",
          "123",
          "122",
          "122",
          "121",
          "121",
          "120",
          "119",
          "117",
          "117",
          "117",
          "110",
          "107",
          "102",
          "95",
          "94",
          "91",
          "89",
          "77",
          "76",
          "76",
          "76",
          "75",
          "74",
          "73",
          "72",
          "72",
          "69",
          "65",
          "64",
          "63",
          "61",
          "61",
          "61",
          "60",
          "59",
          "53",
          "53",
          "51",
          "49",
          "48",
          "48",
          "48",
          "47",
          "44",
          "44",
          "43",
          "41",
          "41",
          "40",
          "39",
          "38",
          "38",
          "37",
          "36",
          "32",
          "31",
          "30",
          "29",
          "26",
          "26",
          "25",
          "17",
          "17",
          "16",
          "15",
          "13",
          "12",
          "12",
          "11",
          "10",
          "9",
          "7",
          "6",
          "4",
          "4",
          "4",
          "4",
          "3",
          "3",
          "3",
          "3",
          "3",
          "3",
          "3",
          "3",
          "2",
          "2",
          "2",
          "2",
          "2",
          "2",
          "1",
          "1"
         ],
         "type": "bar",
         "x": [
          421,
          421,
          361,
          340,
          288,
          285,
          279,
          277,
          271,
          258,
          252,
          245,
          243,
          220,
          218,
          206,
          203,
          202,
          201,
          192,
          181,
          180,
          170,
          169,
          164,
          158,
          155,
          151,
          151,
          149,
          142,
          138,
          132,
          128,
          124,
          123,
          122,
          122,
          121,
          121,
          120,
          119,
          117,
          117,
          117,
          110,
          107,
          102,
          95,
          94,
          91,
          89,
          77,
          76,
          76,
          76,
          75,
          74,
          73,
          72,
          72,
          69,
          65,
          64,
          63,
          61,
          61,
          61,
          60,
          59,
          53,
          53,
          51,
          49,
          48,
          48,
          48,
          47,
          44,
          44,
          43,
          41,
          41,
          40,
          39,
          38,
          38,
          37,
          36,
          32,
          31,
          30,
          29,
          26,
          26,
          25,
          17,
          17,
          16,
          15,
          13,
          12,
          12,
          11,
          10,
          9,
          7,
          6,
          4,
          4,
          4,
          4,
          3,
          3,
          3,
          3,
          3,
          3,
          3,
          3,
          2,
          2,
          2,
          2,
          2,
          2,
          1,
          1
         ],
         "y": [
          "Porur",
          "Velachery",
          "Ambattur",
          "T.Nagar",
          "Perungudi",
          "AnnaNagarEast",
          "Nungambakkam",
          "Perambur",
          "Medavakkam",
          "Tambaram",
          "Ramapuram",
          "AnnaNagarWest",
          "Thuraipakkam",
          "Mogappair",
          "Selaiyur",
          "Kilpauk",
          "GSTRoad",
          "Madipakkam",
          "Adyar",
          "Pallavaram",
          "Mylapore",
          "Chromepet",
          "Kolathur",
          "Sholinganallur",
          "AshokNagar",
          "Poonamalle",
          "KanchipuramDistrict",
          "Egmore",
          "Navallur",
          "Vadapalani",
          "Taramani",
          "Chengalpattu",
          "Kodambakkam",
          "Alwarpet",
          "Avadi",
          "Valasaravakkam",
          "Potheri",
          "Purasavakkam",
          "Royapettah",
          "Washermenpet",
          "Triplicane",
          "BesantNagar",
          "Pallikaranai",
          "Adambakkam",
          "Thiruvanmiyur",
          "K.K.Nagar",
          "Nanganallur",
          "Choolaimedu",
          "Karapakkam",
          "Maduravoyal",
          "Teynampet",
          "Arumbakkam",
          "Aminijikarai",
          "Ekkaduthangal",
          "Virugambakkam",
          "Padur",
          "Thiruvallur",
          "Tiruvottiyur",
          "GeorgeTown",
          "ThousandLights",
          "Saligramam",
          "Vandalur",
          "WestMambalam",
          "Saidapet",
          "Vepery",
          "Madhavaram",
          "Egatoor",
          "OldMahabalipuramRoad(OMR)",
          "Guindy",
          "Royapuram",
          "RedHills",
          "Palavakkam",
          "Mahabalipuram",
          "Koyambedu",
          "Kelambakkam",
          "Gopalapuram",
          "Sowcarpet",
          "Injambakkam",
          "RAPuram",
          "Kottivakkam",
          "Chetpet",
          "Mandaveli",
          "ParkTown",
          "Parrys",
          "Nandanam",
          "Semmancheri",
          "Neelangarai",
          "Alandur",
          "AnnaSalai",
          "St.ThomasMount",
          "ShenoyNagar",
          "EastCoastRoad(ECR)",
          "Kanathur",
          "Kotturpuram",
          "AnnaNagar",
          "Santhome",
          "Okkiyampet",
          "Kandanchavadi",
          "Akkarai",
          "Guduvancheri",
          "RKSalai(CathedralRoad)",
          "Kovalam",
          "MRCNagar",
          "Muttukadu",
          "Vettuvankeni",
          "Meenambakkam",
          "Abhiramapuram",
          "Mamallapuram",
          "TuryaaChennai",
          "OldMahabalipuramRoad",
          "Oragadam",
          "Redhills",
          "GrandbyGRTHotels",
          "FoodiesKitchen",
          "ARadhaHotel",
          "OMR",
          "NovotelChennaiSipcot",
          "Perumbakkam",
          "Vivanta Chennai, IT Expressway, Sholinganallur ",
          "V7Hotel",
          "Kanchipuram",
          "GrandeBayResort",
          "Sriperumbudur",
          "HolidayInnChennaiOMRITExpressway",
          "SomersetGreenways",
          "Citadines",
          "East...",
          "TheSlate"
         ]
        }
       ],
       "layout": {
        "height": 3000,
        "template": {
         "data": {
          "bar": [
           {
            "error_x": {
             "color": "#2a3f5f"
            },
            "error_y": {
             "color": "#2a3f5f"
            },
            "marker": {
             "line": {
              "color": "#E5ECF6",
              "width": 0.5
             },
             "pattern": {
              "fillmode": "overlay",
              "size": 10,
              "solidity": 0.2
             }
            },
            "type": "bar"
           }
          ],
          "barpolar": [
           {
            "marker": {
             "line": {
              "color": "#E5ECF6",
              "width": 0.5
             },
             "pattern": {
              "fillmode": "overlay",
              "size": 10,
              "solidity": 0.2
             }
            },
            "type": "barpolar"
           }
          ],
          "carpet": [
           {
            "aaxis": {
             "endlinecolor": "#2a3f5f",
             "gridcolor": "white",
             "linecolor": "white",
             "minorgridcolor": "white",
             "startlinecolor": "#2a3f5f"
            },
            "baxis": {
             "endlinecolor": "#2a3f5f",
             "gridcolor": "white",
             "linecolor": "white",
             "minorgridcolor": "white",
             "startlinecolor": "#2a3f5f"
            },
            "type": "carpet"
           }
          ],
          "choropleth": [
           {
            "colorbar": {
             "outlinewidth": 0,
             "ticks": ""
            },
            "type": "choropleth"
           }
          ],
          "contour": [
           {
            "colorbar": {
             "outlinewidth": 0,
             "ticks": ""
            },
            "colorscale": [
             [
              0,
              "#0d0887"
             ],
             [
              0.1111111111111111,
              "#46039f"
             ],
             [
              0.2222222222222222,
              "#7201a8"
             ],
             [
              0.3333333333333333,
              "#9c179e"
             ],
             [
              0.4444444444444444,
              "#bd3786"
             ],
             [
              0.5555555555555556,
              "#d8576b"
             ],
             [
              0.6666666666666666,
              "#ed7953"
             ],
             [
              0.7777777777777778,
              "#fb9f3a"
             ],
             [
              0.8888888888888888,
              "#fdca26"
             ],
             [
              1,
              "#f0f921"
             ]
            ],
            "type": "contour"
           }
          ],
          "contourcarpet": [
           {
            "colorbar": {
             "outlinewidth": 0,
             "ticks": ""
            },
            "type": "contourcarpet"
           }
          ],
          "heatmap": [
           {
            "colorbar": {
             "outlinewidth": 0,
             "ticks": ""
            },
            "colorscale": [
             [
              0,
              "#0d0887"
             ],
             [
              0.1111111111111111,
              "#46039f"
             ],
             [
              0.2222222222222222,
              "#7201a8"
             ],
             [
              0.3333333333333333,
              "#9c179e"
             ],
             [
              0.4444444444444444,
              "#bd3786"
             ],
             [
              0.5555555555555556,
              "#d8576b"
             ],
             [
              0.6666666666666666,
              "#ed7953"
             ],
             [
              0.7777777777777778,
              "#fb9f3a"
             ],
             [
              0.8888888888888888,
              "#fdca26"
             ],
             [
              1,
              "#f0f921"
             ]
            ],
            "type": "heatmap"
           }
          ],
          "heatmapgl": [
           {
            "colorbar": {
             "outlinewidth": 0,
             "ticks": ""
            },
            "colorscale": [
             [
              0,
              "#0d0887"
             ],
             [
              0.1111111111111111,
              "#46039f"
             ],
             [
              0.2222222222222222,
              "#7201a8"
             ],
             [
              0.3333333333333333,
              "#9c179e"
             ],
             [
              0.4444444444444444,
              "#bd3786"
             ],
             [
              0.5555555555555556,
              "#d8576b"
             ],
             [
              0.6666666666666666,
              "#ed7953"
             ],
             [
              0.7777777777777778,
              "#fb9f3a"
             ],
             [
              0.8888888888888888,
              "#fdca26"
             ],
             [
              1,
              "#f0f921"
             ]
            ],
            "type": "heatmapgl"
           }
          ],
          "histogram": [
           {
            "marker": {
             "pattern": {
              "fillmode": "overlay",
              "size": 10,
              "solidity": 0.2
             }
            },
            "type": "histogram"
           }
          ],
          "histogram2d": [
           {
            "colorbar": {
             "outlinewidth": 0,
             "ticks": ""
            },
            "colorscale": [
             [
              0,
              "#0d0887"
             ],
             [
              0.1111111111111111,
              "#46039f"
             ],
             [
              0.2222222222222222,
              "#7201a8"
             ],
             [
              0.3333333333333333,
              "#9c179e"
             ],
             [
              0.4444444444444444,
              "#bd3786"
             ],
             [
              0.5555555555555556,
              "#d8576b"
             ],
             [
              0.6666666666666666,
              "#ed7953"
             ],
             [
              0.7777777777777778,
              "#fb9f3a"
             ],
             [
              0.8888888888888888,
              "#fdca26"
             ],
             [
              1,
              "#f0f921"
             ]
            ],
            "type": "histogram2d"
           }
          ],
          "histogram2dcontour": [
           {
            "colorbar": {
             "outlinewidth": 0,
             "ticks": ""
            },
            "colorscale": [
             [
              0,
              "#0d0887"
             ],
             [
              0.1111111111111111,
              "#46039f"
             ],
             [
              0.2222222222222222,
              "#7201a8"
             ],
             [
              0.3333333333333333,
              "#9c179e"
             ],
             [
              0.4444444444444444,
              "#bd3786"
             ],
             [
              0.5555555555555556,
              "#d8576b"
             ],
             [
              0.6666666666666666,
              "#ed7953"
             ],
             [
              0.7777777777777778,
              "#fb9f3a"
             ],
             [
              0.8888888888888888,
              "#fdca26"
             ],
             [
              1,
              "#f0f921"
             ]
            ],
            "type": "histogram2dcontour"
           }
          ],
          "mesh3d": [
           {
            "colorbar": {
             "outlinewidth": 0,
             "ticks": ""
            },
            "type": "mesh3d"
           }
          ],
          "parcoords": [
           {
            "line": {
             "colorbar": {
              "outlinewidth": 0,
              "ticks": ""
             }
            },
            "type": "parcoords"
           }
          ],
          "pie": [
           {
            "automargin": true,
            "type": "pie"
           }
          ],
          "scatter": [
           {
            "marker": {
             "colorbar": {
              "outlinewidth": 0,
              "ticks": ""
             }
            },
            "type": "scatter"
           }
          ],
          "scatter3d": [
           {
            "line": {
             "colorbar": {
              "outlinewidth": 0,
              "ticks": ""
             }
            },
            "marker": {
             "colorbar": {
              "outlinewidth": 0,
              "ticks": ""
             }
            },
            "type": "scatter3d"
           }
          ],
          "scattercarpet": [
           {
            "marker": {
             "colorbar": {
              "outlinewidth": 0,
              "ticks": ""
             }
            },
            "type": "scattercarpet"
           }
          ],
          "scattergeo": [
           {
            "marker": {
             "colorbar": {
              "outlinewidth": 0,
              "ticks": ""
             }
            },
            "type": "scattergeo"
           }
          ],
          "scattergl": [
           {
            "marker": {
             "colorbar": {
              "outlinewidth": 0,
              "ticks": ""
             }
            },
            "type": "scattergl"
           }
          ],
          "scattermapbox": [
           {
            "marker": {
             "colorbar": {
              "outlinewidth": 0,
              "ticks": ""
             }
            },
            "type": "scattermapbox"
           }
          ],
          "scatterpolar": [
           {
            "marker": {
             "colorbar": {
              "outlinewidth": 0,
              "ticks": ""
             }
            },
            "type": "scatterpolar"
           }
          ],
          "scatterpolargl": [
           {
            "marker": {
             "colorbar": {
              "outlinewidth": 0,
              "ticks": ""
             }
            },
            "type": "scatterpolargl"
           }
          ],
          "scatterternary": [
           {
            "marker": {
             "colorbar": {
              "outlinewidth": 0,
              "ticks": ""
             }
            },
            "type": "scatterternary"
           }
          ],
          "surface": [
           {
            "colorbar": {
             "outlinewidth": 0,
             "ticks": ""
            },
            "colorscale": [
             [
              0,
              "#0d0887"
             ],
             [
              0.1111111111111111,
              "#46039f"
             ],
             [
              0.2222222222222222,
              "#7201a8"
             ],
             [
              0.3333333333333333,
              "#9c179e"
             ],
             [
              0.4444444444444444,
              "#bd3786"
             ],
             [
              0.5555555555555556,
              "#d8576b"
             ],
             [
              0.6666666666666666,
              "#ed7953"
             ],
             [
              0.7777777777777778,
              "#fb9f3a"
             ],
             [
              0.8888888888888888,
              "#fdca26"
             ],
             [
              1,
              "#f0f921"
             ]
            ],
            "type": "surface"
           }
          ],
          "table": [
           {
            "cells": {
             "fill": {
              "color": "#EBF0F8"
             },
             "line": {
              "color": "white"
             }
            },
            "header": {
             "fill": {
              "color": "#C8D4E3"
             },
             "line": {
              "color": "white"
             }
            },
            "type": "table"
           }
          ]
         },
         "layout": {
          "annotationdefaults": {
           "arrowcolor": "#2a3f5f",
           "arrowhead": 0,
           "arrowwidth": 1
          },
          "autotypenumbers": "strict",
          "coloraxis": {
           "colorbar": {
            "outlinewidth": 0,
            "ticks": ""
           }
          },
          "colorscale": {
           "diverging": [
            [
             0,
             "#8e0152"
            ],
            [
             0.1,
             "#c51b7d"
            ],
            [
             0.2,
             "#de77ae"
            ],
            [
             0.3,
             "#f1b6da"
            ],
            [
             0.4,
             "#fde0ef"
            ],
            [
             0.5,
             "#f7f7f7"
            ],
            [
             0.6,
             "#e6f5d0"
            ],
            [
             0.7,
             "#b8e186"
            ],
            [
             0.8,
             "#7fbc41"
            ],
            [
             0.9,
             "#4d9221"
            ],
            [
             1,
             "#276419"
            ]
           ],
           "sequential": [
            [
             0,
             "#0d0887"
            ],
            [
             0.1111111111111111,
             "#46039f"
            ],
            [
             0.2222222222222222,
             "#7201a8"
            ],
            [
             0.3333333333333333,
             "#9c179e"
            ],
            [
             0.4444444444444444,
             "#bd3786"
            ],
            [
             0.5555555555555556,
             "#d8576b"
            ],
            [
             0.6666666666666666,
             "#ed7953"
            ],
            [
             0.7777777777777778,
             "#fb9f3a"
            ],
            [
             0.8888888888888888,
             "#fdca26"
            ],
            [
             1,
             "#f0f921"
            ]
           ],
           "sequentialminus": [
            [
             0,
             "#0d0887"
            ],
            [
             0.1111111111111111,
             "#46039f"
            ],
            [
             0.2222222222222222,
             "#7201a8"
            ],
            [
             0.3333333333333333,
             "#9c179e"
            ],
            [
             0.4444444444444444,
             "#bd3786"
            ],
            [
             0.5555555555555556,
             "#d8576b"
            ],
            [
             0.6666666666666666,
             "#ed7953"
            ],
            [
             0.7777777777777778,
             "#fb9f3a"
            ],
            [
             0.8888888888888888,
             "#fdca26"
            ],
            [
             1,
             "#f0f921"
            ]
           ]
          },
          "colorway": [
           "#636efa",
           "#EF553B",
           "#00cc96",
           "#ab63fa",
           "#FFA15A",
           "#19d3f3",
           "#FF6692",
           "#B6E880",
           "#FF97FF",
           "#FECB52"
          ],
          "font": {
           "color": "#2a3f5f"
          },
          "geo": {
           "bgcolor": "white",
           "lakecolor": "white",
           "landcolor": "#E5ECF6",
           "showlakes": true,
           "showland": true,
           "subunitcolor": "white"
          },
          "hoverlabel": {
           "align": "left"
          },
          "hovermode": "closest",
          "mapbox": {
           "style": "light"
          },
          "paper_bgcolor": "white",
          "plot_bgcolor": "#E5ECF6",
          "polar": {
           "angularaxis": {
            "gridcolor": "white",
            "linecolor": "white",
            "ticks": ""
           },
           "bgcolor": "#E5ECF6",
           "radialaxis": {
            "gridcolor": "white",
            "linecolor": "white",
            "ticks": ""
           }
          },
          "scene": {
           "xaxis": {
            "backgroundcolor": "#E5ECF6",
            "gridcolor": "white",
            "gridwidth": 2,
            "linecolor": "white",
            "showbackground": true,
            "ticks": "",
            "zerolinecolor": "white"
           },
           "yaxis": {
            "backgroundcolor": "#E5ECF6",
            "gridcolor": "white",
            "gridwidth": 2,
            "linecolor": "white",
            "showbackground": true,
            "ticks": "",
            "zerolinecolor": "white"
           },
           "zaxis": {
            "backgroundcolor": "#E5ECF6",
            "gridcolor": "white",
            "gridwidth": 2,
            "linecolor": "white",
            "showbackground": true,
            "ticks": "",
            "zerolinecolor": "white"
           }
          },
          "shapedefaults": {
           "line": {
            "color": "#2a3f5f"
           }
          },
          "ternary": {
           "aaxis": {
            "gridcolor": "white",
            "linecolor": "white",
            "ticks": ""
           },
           "baxis": {
            "gridcolor": "white",
            "linecolor": "white",
            "ticks": ""
           },
           "bgcolor": "#E5ECF6",
           "caxis": {
            "gridcolor": "white",
            "linecolor": "white",
            "ticks": ""
           }
          },
          "title": {
           "x": 0.05
          },
          "xaxis": {
           "automargin": true,
           "gridcolor": "white",
           "linecolor": "white",
           "ticks": "",
           "title": {
            "standoff": 15
           },
           "zerolinecolor": "white",
           "zerolinewidth": 2
          },
          "yaxis": {
           "automargin": true,
           "gridcolor": "white",
           "linecolor": "white",
           "ticks": "",
           "title": {
            "standoff": 15
           },
           "zerolinecolor": "white",
           "zerolinewidth": 2
          }
         }
        },
        "width": 800,
        "xaxis": {
         "side": "top"
        }
       }
      },
      "text/html": [
       "<div>                            <div id=\"825ae6df-11bf-4803-b1b4-693bce9fd821\" class=\"plotly-graph-div\" style=\"height:3000px; width:800px;\"></div>            <script type=\"text/javascript\">                require([\"plotly\"], function(Plotly) {                    window.PLOTLYENV=window.PLOTLYENV || {};                                    if (document.getElementById(\"825ae6df-11bf-4803-b1b4-693bce9fd821\")) {                    Plotly.newPlot(                        \"825ae6df-11bf-4803-b1b4-693bce9fd821\",                        [{\"marker\":{\"color\":\"orange\"},\"orientation\":\"h\",\"text\":[\"421\",\"421\",\"361\",\"340\",\"288\",\"285\",\"279\",\"277\",\"271\",\"258\",\"252\",\"245\",\"243\",\"220\",\"218\",\"206\",\"203\",\"202\",\"201\",\"192\",\"181\",\"180\",\"170\",\"169\",\"164\",\"158\",\"155\",\"151\",\"151\",\"149\",\"142\",\"138\",\"132\",\"128\",\"124\",\"123\",\"122\",\"122\",\"121\",\"121\",\"120\",\"119\",\"117\",\"117\",\"117\",\"110\",\"107\",\"102\",\"95\",\"94\",\"91\",\"89\",\"77\",\"76\",\"76\",\"76\",\"75\",\"74\",\"73\",\"72\",\"72\",\"69\",\"65\",\"64\",\"63\",\"61\",\"61\",\"61\",\"60\",\"59\",\"53\",\"53\",\"51\",\"49\",\"48\",\"48\",\"48\",\"47\",\"44\",\"44\",\"43\",\"41\",\"41\",\"40\",\"39\",\"38\",\"38\",\"37\",\"36\",\"32\",\"31\",\"30\",\"29\",\"26\",\"26\",\"25\",\"17\",\"17\",\"16\",\"15\",\"13\",\"12\",\"12\",\"11\",\"10\",\"9\",\"7\",\"6\",\"4\",\"4\",\"4\",\"4\",\"3\",\"3\",\"3\",\"3\",\"3\",\"3\",\"3\",\"3\",\"2\",\"2\",\"2\",\"2\",\"2\",\"2\",\"1\",\"1\"],\"x\":[421,421,361,340,288,285,279,277,271,258,252,245,243,220,218,206,203,202,201,192,181,180,170,169,164,158,155,151,151,149,142,138,132,128,124,123,122,122,121,121,120,119,117,117,117,110,107,102,95,94,91,89,77,76,76,76,75,74,73,72,72,69,65,64,63,61,61,61,60,59,53,53,51,49,48,48,48,47,44,44,43,41,41,40,39,38,38,37,36,32,31,30,29,26,26,25,17,17,16,15,13,12,12,11,10,9,7,6,4,4,4,4,3,3,3,3,3,3,3,3,2,2,2,2,2,2,1,1],\"y\":[\"Porur\",\"Velachery\",\"Ambattur\",\"T.Nagar\",\"Perungudi\",\"AnnaNagarEast\",\"Nungambakkam\",\"Perambur\",\"Medavakkam\",\"Tambaram\",\"Ramapuram\",\"AnnaNagarWest\",\"Thuraipakkam\",\"Mogappair\",\"Selaiyur\",\"Kilpauk\",\"GSTRoad\",\"Madipakkam\",\"Adyar\",\"Pallavaram\",\"Mylapore\",\"Chromepet\",\"Kolathur\",\"Sholinganallur\",\"AshokNagar\",\"Poonamalle\",\"KanchipuramDistrict\",\"Egmore\",\"Navallur\",\"Vadapalani\",\"Taramani\",\"Chengalpattu\",\"Kodambakkam\",\"Alwarpet\",\"Avadi\",\"Valasaravakkam\",\"Potheri\",\"Purasavakkam\",\"Royapettah\",\"Washermenpet\",\"Triplicane\",\"BesantNagar\",\"Pallikaranai\",\"Adambakkam\",\"Thiruvanmiyur\",\"K.K.Nagar\",\"Nanganallur\",\"Choolaimedu\",\"Karapakkam\",\"Maduravoyal\",\"Teynampet\",\"Arumbakkam\",\"Aminijikarai\",\"Ekkaduthangal\",\"Virugambakkam\",\"Padur\",\"Thiruvallur\",\"Tiruvottiyur\",\"GeorgeTown\",\"ThousandLights\",\"Saligramam\",\"Vandalur\",\"WestMambalam\",\"Saidapet\",\"Vepery\",\"Madhavaram\",\"Egatoor\",\"OldMahabalipuramRoad(OMR)\",\"Guindy\",\"Royapuram\",\"RedHills\",\"Palavakkam\",\"Mahabalipuram\",\"Koyambedu\",\"Kelambakkam\",\"Gopalapuram\",\"Sowcarpet\",\"Injambakkam\",\"RAPuram\",\"Kottivakkam\",\"Chetpet\",\"Mandaveli\",\"ParkTown\",\"Parrys\",\"Nandanam\",\"Semmancheri\",\"Neelangarai\",\"Alandur\",\"AnnaSalai\",\"St.ThomasMount\",\"ShenoyNagar\",\"EastCoastRoad(ECR)\",\"Kanathur\",\"Kotturpuram\",\"AnnaNagar\",\"Santhome\",\"Okkiyampet\",\"Kandanchavadi\",\"Akkarai\",\"Guduvancheri\",\"RKSalai(CathedralRoad)\",\"Kovalam\",\"MRCNagar\",\"Muttukadu\",\"Vettuvankeni\",\"Meenambakkam\",\"Abhiramapuram\",\"Mamallapuram\",\"TuryaaChennai\",\"OldMahabalipuramRoad\",\"Oragadam\",\"Redhills\",\"GrandbyGRTHotels\",\"FoodiesKitchen\",\"ARadhaHotel\",\"OMR\",\"NovotelChennaiSipcot\",\"Perumbakkam\",\"Vivanta Chennai, IT Expressway, Sholinganallur \",\"V7Hotel\",\"Kanchipuram\",\"GrandeBayResort\",\"Sriperumbudur\",\"HolidayInnChennaiOMRITExpressway\",\"SomersetGreenways\",\"Citadines\",\"East...\",\"TheSlate\"],\"type\":\"bar\"}],                        {\"template\":{\"data\":{\"bar\":[{\"error_x\":{\"color\":\"#2a3f5f\"},\"error_y\":{\"color\":\"#2a3f5f\"},\"marker\":{\"line\":{\"color\":\"#E5ECF6\",\"width\":0.5},\"pattern\":{\"fillmode\":\"overlay\",\"size\":10,\"solidity\":0.2}},\"type\":\"bar\"}],\"barpolar\":[{\"marker\":{\"line\":{\"color\":\"#E5ECF6\",\"width\":0.5},\"pattern\":{\"fillmode\":\"overlay\",\"size\":10,\"solidity\":0.2}},\"type\":\"barpolar\"}],\"carpet\":[{\"aaxis\":{\"endlinecolor\":\"#2a3f5f\",\"gridcolor\":\"white\",\"linecolor\":\"white\",\"minorgridcolor\":\"white\",\"startlinecolor\":\"#2a3f5f\"},\"baxis\":{\"endlinecolor\":\"#2a3f5f\",\"gridcolor\":\"white\",\"linecolor\":\"white\",\"minorgridcolor\":\"white\",\"startlinecolor\":\"#2a3f5f\"},\"type\":\"carpet\"}],\"choropleth\":[{\"colorbar\":{\"outlinewidth\":0,\"ticks\":\"\"},\"type\":\"choropleth\"}],\"contour\":[{\"colorbar\":{\"outlinewidth\":0,\"ticks\":\"\"},\"colorscale\":[[0.0,\"#0d0887\"],[0.1111111111111111,\"#46039f\"],[0.2222222222222222,\"#7201a8\"],[0.3333333333333333,\"#9c179e\"],[0.4444444444444444,\"#bd3786\"],[0.5555555555555556,\"#d8576b\"],[0.6666666666666666,\"#ed7953\"],[0.7777777777777778,\"#fb9f3a\"],[0.8888888888888888,\"#fdca26\"],[1.0,\"#f0f921\"]],\"type\":\"contour\"}],\"contourcarpet\":[{\"colorbar\":{\"outlinewidth\":0,\"ticks\":\"\"},\"type\":\"contourcarpet\"}],\"heatmap\":[{\"colorbar\":{\"outlinewidth\":0,\"ticks\":\"\"},\"colorscale\":[[0.0,\"#0d0887\"],[0.1111111111111111,\"#46039f\"],[0.2222222222222222,\"#7201a8\"],[0.3333333333333333,\"#9c179e\"],[0.4444444444444444,\"#bd3786\"],[0.5555555555555556,\"#d8576b\"],[0.6666666666666666,\"#ed7953\"],[0.7777777777777778,\"#fb9f3a\"],[0.8888888888888888,\"#fdca26\"],[1.0,\"#f0f921\"]],\"type\":\"heatmap\"}],\"heatmapgl\":[{\"colorbar\":{\"outlinewidth\":0,\"ticks\":\"\"},\"colorscale\":[[0.0,\"#0d0887\"],[0.1111111111111111,\"#46039f\"],[0.2222222222222222,\"#7201a8\"],[0.3333333333333333,\"#9c179e\"],[0.4444444444444444,\"#bd3786\"],[0.5555555555555556,\"#d8576b\"],[0.6666666666666666,\"#ed7953\"],[0.7777777777777778,\"#fb9f3a\"],[0.8888888888888888,\"#fdca26\"],[1.0,\"#f0f921\"]],\"type\":\"heatmapgl\"}],\"histogram\":[{\"marker\":{\"pattern\":{\"fillmode\":\"overlay\",\"size\":10,\"solidity\":0.2}},\"type\":\"histogram\"}],\"histogram2d\":[{\"colorbar\":{\"outlinewidth\":0,\"ticks\":\"\"},\"colorscale\":[[0.0,\"#0d0887\"],[0.1111111111111111,\"#46039f\"],[0.2222222222222222,\"#7201a8\"],[0.3333333333333333,\"#9c179e\"],[0.4444444444444444,\"#bd3786\"],[0.5555555555555556,\"#d8576b\"],[0.6666666666666666,\"#ed7953\"],[0.7777777777777778,\"#fb9f3a\"],[0.8888888888888888,\"#fdca26\"],[1.0,\"#f0f921\"]],\"type\":\"histogram2d\"}],\"histogram2dcontour\":[{\"colorbar\":{\"outlinewidth\":0,\"ticks\":\"\"},\"colorscale\":[[0.0,\"#0d0887\"],[0.1111111111111111,\"#46039f\"],[0.2222222222222222,\"#7201a8\"],[0.3333333333333333,\"#9c179e\"],[0.4444444444444444,\"#bd3786\"],[0.5555555555555556,\"#d8576b\"],[0.6666666666666666,\"#ed7953\"],[0.7777777777777778,\"#fb9f3a\"],[0.8888888888888888,\"#fdca26\"],[1.0,\"#f0f921\"]],\"type\":\"histogram2dcontour\"}],\"mesh3d\":[{\"colorbar\":{\"outlinewidth\":0,\"ticks\":\"\"},\"type\":\"mesh3d\"}],\"parcoords\":[{\"line\":{\"colorbar\":{\"outlinewidth\":0,\"ticks\":\"\"}},\"type\":\"parcoords\"}],\"pie\":[{\"automargin\":true,\"type\":\"pie\"}],\"scatter\":[{\"marker\":{\"colorbar\":{\"outlinewidth\":0,\"ticks\":\"\"}},\"type\":\"scatter\"}],\"scatter3d\":[{\"line\":{\"colorbar\":{\"outlinewidth\":0,\"ticks\":\"\"}},\"marker\":{\"colorbar\":{\"outlinewidth\":0,\"ticks\":\"\"}},\"type\":\"scatter3d\"}],\"scattercarpet\":[{\"marker\":{\"colorbar\":{\"outlinewidth\":0,\"ticks\":\"\"}},\"type\":\"scattercarpet\"}],\"scattergeo\":[{\"marker\":{\"colorbar\":{\"outlinewidth\":0,\"ticks\":\"\"}},\"type\":\"scattergeo\"}],\"scattergl\":[{\"marker\":{\"colorbar\":{\"outlinewidth\":0,\"ticks\":\"\"}},\"type\":\"scattergl\"}],\"scattermapbox\":[{\"marker\":{\"colorbar\":{\"outlinewidth\":0,\"ticks\":\"\"}},\"type\":\"scattermapbox\"}],\"scatterpolar\":[{\"marker\":{\"colorbar\":{\"outlinewidth\":0,\"ticks\":\"\"}},\"type\":\"scatterpolar\"}],\"scatterpolargl\":[{\"marker\":{\"colorbar\":{\"outlinewidth\":0,\"ticks\":\"\"}},\"type\":\"scatterpolargl\"}],\"scatterternary\":[{\"marker\":{\"colorbar\":{\"outlinewidth\":0,\"ticks\":\"\"}},\"type\":\"scatterternary\"}],\"surface\":[{\"colorbar\":{\"outlinewidth\":0,\"ticks\":\"\"},\"colorscale\":[[0.0,\"#0d0887\"],[0.1111111111111111,\"#46039f\"],[0.2222222222222222,\"#7201a8\"],[0.3333333333333333,\"#9c179e\"],[0.4444444444444444,\"#bd3786\"],[0.5555555555555556,\"#d8576b\"],[0.6666666666666666,\"#ed7953\"],[0.7777777777777778,\"#fb9f3a\"],[0.8888888888888888,\"#fdca26\"],[1.0,\"#f0f921\"]],\"type\":\"surface\"}],\"table\":[{\"cells\":{\"fill\":{\"color\":\"#EBF0F8\"},\"line\":{\"color\":\"white\"}},\"header\":{\"fill\":{\"color\":\"#C8D4E3\"},\"line\":{\"color\":\"white\"}},\"type\":\"table\"}]},\"layout\":{\"annotationdefaults\":{\"arrowcolor\":\"#2a3f5f\",\"arrowhead\":0,\"arrowwidth\":1},\"autotypenumbers\":\"strict\",\"coloraxis\":{\"colorbar\":{\"outlinewidth\":0,\"ticks\":\"\"}},\"colorscale\":{\"diverging\":[[0,\"#8e0152\"],[0.1,\"#c51b7d\"],[0.2,\"#de77ae\"],[0.3,\"#f1b6da\"],[0.4,\"#fde0ef\"],[0.5,\"#f7f7f7\"],[0.6,\"#e6f5d0\"],[0.7,\"#b8e186\"],[0.8,\"#7fbc41\"],[0.9,\"#4d9221\"],[1,\"#276419\"]],\"sequential\":[[0.0,\"#0d0887\"],[0.1111111111111111,\"#46039f\"],[0.2222222222222222,\"#7201a8\"],[0.3333333333333333,\"#9c179e\"],[0.4444444444444444,\"#bd3786\"],[0.5555555555555556,\"#d8576b\"],[0.6666666666666666,\"#ed7953\"],[0.7777777777777778,\"#fb9f3a\"],[0.8888888888888888,\"#fdca26\"],[1.0,\"#f0f921\"]],\"sequentialminus\":[[0.0,\"#0d0887\"],[0.1111111111111111,\"#46039f\"],[0.2222222222222222,\"#7201a8\"],[0.3333333333333333,\"#9c179e\"],[0.4444444444444444,\"#bd3786\"],[0.5555555555555556,\"#d8576b\"],[0.6666666666666666,\"#ed7953\"],[0.7777777777777778,\"#fb9f3a\"],[0.8888888888888888,\"#fdca26\"],[1.0,\"#f0f921\"]]},\"colorway\":[\"#636efa\",\"#EF553B\",\"#00cc96\",\"#ab63fa\",\"#FFA15A\",\"#19d3f3\",\"#FF6692\",\"#B6E880\",\"#FF97FF\",\"#FECB52\"],\"font\":{\"color\":\"#2a3f5f\"},\"geo\":{\"bgcolor\":\"white\",\"lakecolor\":\"white\",\"landcolor\":\"#E5ECF6\",\"showlakes\":true,\"showland\":true,\"subunitcolor\":\"white\"},\"hoverlabel\":{\"align\":\"left\"},\"hovermode\":\"closest\",\"mapbox\":{\"style\":\"light\"},\"paper_bgcolor\":\"white\",\"plot_bgcolor\":\"#E5ECF6\",\"polar\":{\"angularaxis\":{\"gridcolor\":\"white\",\"linecolor\":\"white\",\"ticks\":\"\"},\"bgcolor\":\"#E5ECF6\",\"radialaxis\":{\"gridcolor\":\"white\",\"linecolor\":\"white\",\"ticks\":\"\"}},\"scene\":{\"xaxis\":{\"backgroundcolor\":\"#E5ECF6\",\"gridcolor\":\"white\",\"gridwidth\":2,\"linecolor\":\"white\",\"showbackground\":true,\"ticks\":\"\",\"zerolinecolor\":\"white\"},\"yaxis\":{\"backgroundcolor\":\"#E5ECF6\",\"gridcolor\":\"white\",\"gridwidth\":2,\"linecolor\":\"white\",\"showbackground\":true,\"ticks\":\"\",\"zerolinecolor\":\"white\"},\"zaxis\":{\"backgroundcolor\":\"#E5ECF6\",\"gridcolor\":\"white\",\"gridwidth\":2,\"linecolor\":\"white\",\"showbackground\":true,\"ticks\":\"\",\"zerolinecolor\":\"white\"}},\"shapedefaults\":{\"line\":{\"color\":\"#2a3f5f\"}},\"ternary\":{\"aaxis\":{\"gridcolor\":\"white\",\"linecolor\":\"white\",\"ticks\":\"\"},\"baxis\":{\"gridcolor\":\"white\",\"linecolor\":\"white\",\"ticks\":\"\"},\"bgcolor\":\"#E5ECF6\",\"caxis\":{\"gridcolor\":\"white\",\"linecolor\":\"white\",\"ticks\":\"\"}},\"title\":{\"x\":0.05},\"xaxis\":{\"automargin\":true,\"gridcolor\":\"white\",\"linecolor\":\"white\",\"ticks\":\"\",\"title\":{\"standoff\":15},\"zerolinecolor\":\"white\",\"zerolinewidth\":2},\"yaxis\":{\"automargin\":true,\"gridcolor\":\"white\",\"linecolor\":\"white\",\"ticks\":\"\",\"title\":{\"standoff\":15},\"zerolinecolor\":\"white\",\"zerolinewidth\":2}}},\"width\":800,\"height\":3000,\"xaxis\":{\"side\":\"top\"}},                        {\"responsive\": true}                    ).then(function(){\n",
       "                            \n",
       "var gd = document.getElementById('825ae6df-11bf-4803-b1b4-693bce9fd821');\n",
       "var x = new MutationObserver(function (mutations, observer) {{\n",
       "        var display = window.getComputedStyle(gd).display;\n",
       "        if (!display || display === 'none') {{\n",
       "            console.log([gd, 'removed!']);\n",
       "            Plotly.purge(gd);\n",
       "            observer.disconnect();\n",
       "        }}\n",
       "}});\n",
       "\n",
       "// Listen for the removal of the full notebook cells\n",
       "var notebookContainer = gd.closest('#notebook-container');\n",
       "if (notebookContainer) {{\n",
       "    x.observe(notebookContainer, {childList: true});\n",
       "}}\n",
       "\n",
       "// Listen for the clearing of the current output cell\n",
       "var outputEl = gd.closest('.output');\n",
       "if (outputEl) {{\n",
       "    x.observe(outputEl, {childList: true});\n",
       "}}\n",
       "\n",
       "                        })                };                });            </script>        </div>"
      ]
     },
     "metadata": {},
     "output_type": "display_data"
    }
   ],
   "source": [
    "locations = zomato_data['Location'].value_counts().index.to_list()\n",
    "values = zomato_data['Location'].value_counts().values.tolist()\n",
    "colors = 'orange'\n",
    "fig = go.Figure(data=[go.Bar(\n",
    "                x = values,\n",
    "                y = locations,orientation='h',\n",
    "                text= values,\n",
    "                marker=dict(color=colors))])\n",
    "fig.update_layout(\n",
    "    width=800,  # Set your desired width\n",
    "    height=3000  # Set your desired height\n",
    ")\n",
    "fig.update_layout(\n",
    "    xaxis=dict(side='top')\n",
    ")\n",
    "fig.show()"
   ]
  },
  {
   "cell_type": "markdown",
   "id": "876644a5",
   "metadata": {},
   "source": [
    "### Top 10 restaurant in chennai"
   ]
  },
  {
   "cell_type": "code",
   "execution_count": 255,
   "id": "4132e211",
   "metadata": {},
   "outputs": [
    {
     "data": {
      "text/html": [
       "<div>\n",
       "<style scoped>\n",
       "    .dataframe tbody tr th:only-of-type {\n",
       "        vertical-align: middle;\n",
       "    }\n",
       "\n",
       "    .dataframe tbody tr th {\n",
       "        vertical-align: top;\n",
       "    }\n",
       "\n",
       "    .dataframe thead th {\n",
       "        text-align: right;\n",
       "    }\n",
       "</style>\n",
       "<table border=\"1\" class=\"dataframe\">\n",
       "  <thead>\n",
       "    <tr style=\"text-align: right;\">\n",
       "      <th></th>\n",
       "      <th>Name of Restaurant</th>\n",
       "      <th>Location</th>\n",
       "      <th>Dining Rating</th>\n",
       "      <th>0</th>\n",
       "    </tr>\n",
       "  </thead>\n",
       "  <tbody>\n",
       "    <tr>\n",
       "      <th>0</th>\n",
       "      <td>AlMaza</td>\n",
       "      <td>AnnaNagarEast</td>\n",
       "      <td>4.6</td>\n",
       "      <td>1</td>\n",
       "    </tr>\n",
       "    <tr>\n",
       "      <th>1</th>\n",
       "      <td>Amadora Gourmet Ice Cream &amp; Sorbet</td>\n",
       "      <td>Nungambakkam</td>\n",
       "      <td>4.8</td>\n",
       "      <td>1</td>\n",
       "    </tr>\n",
       "    <tr>\n",
       "      <th>2</th>\n",
       "      <td>Andhikkadai</td>\n",
       "      <td>Velachery</td>\n",
       "      <td>4.6</td>\n",
       "      <td>1</td>\n",
       "    </tr>\n",
       "    <tr>\n",
       "      <th>3</th>\n",
       "      <td>Arabian Kebab Center</td>\n",
       "      <td>Kodambakkam</td>\n",
       "      <td>4.6</td>\n",
       "      <td>1</td>\n",
       "    </tr>\n",
       "    <tr>\n",
       "      <th>4</th>\n",
       "      <td>Avartana - ITC Grand Chola</td>\n",
       "      <td>Guindy</td>\n",
       "      <td>4.8</td>\n",
       "      <td>1</td>\n",
       "    </tr>\n",
       "    <tr>\n",
       "      <th>5</th>\n",
       "      <td>Basil With A Twist</td>\n",
       "      <td>T.Nagar</td>\n",
       "      <td>4.6</td>\n",
       "      <td>1</td>\n",
       "    </tr>\n",
       "    <tr>\n",
       "      <th>6</th>\n",
       "      <td>Benjarong</td>\n",
       "      <td>Alwarpet</td>\n",
       "      <td>4.7</td>\n",
       "      <td>1</td>\n",
       "    </tr>\n",
       "    <tr>\n",
       "      <th>7</th>\n",
       "      <td>Bhangra</td>\n",
       "      <td>Kanathur</td>\n",
       "      <td>4.9</td>\n",
       "      <td>1</td>\n",
       "    </tr>\n",
       "    <tr>\n",
       "      <th>8</th>\n",
       "      <td>Bombay Brasserie</td>\n",
       "      <td>Nungambakkam</td>\n",
       "      <td>4.7</td>\n",
       "      <td>1</td>\n",
       "    </tr>\n",
       "    <tr>\n",
       "      <th>9</th>\n",
       "      <td>Bombay Kulfi</td>\n",
       "      <td>Adyar</td>\n",
       "      <td>4.9</td>\n",
       "      <td>1</td>\n",
       "    </tr>\n",
       "    <tr>\n",
       "      <th>10</th>\n",
       "      <td>Bombay Kulfi</td>\n",
       "      <td>AnnaNagarEast</td>\n",
       "      <td>4.6</td>\n",
       "      <td>1</td>\n",
       "    </tr>\n",
       "    <tr>\n",
       "      <th>11</th>\n",
       "      <td>Brownie Heaven</td>\n",
       "      <td>Royapettah</td>\n",
       "      <td>4.9</td>\n",
       "      <td>1</td>\n",
       "    </tr>\n",
       "    <tr>\n",
       "      <th>12</th>\n",
       "      <td>Dakshin - Crowne Plaza Chennai Adyar Park</td>\n",
       "      <td>Alwarpet</td>\n",
       "      <td>4.6</td>\n",
       "      <td>1</td>\n",
       "    </tr>\n",
       "    <tr>\n",
       "      <th>13</th>\n",
       "      <td>East Coast at Madras Square</td>\n",
       "      <td>Neelangarai</td>\n",
       "      <td>4.6</td>\n",
       "      <td>1</td>\n",
       "    </tr>\n",
       "    <tr>\n",
       "      <th>14</th>\n",
       "      <td>Eating Circles</td>\n",
       "      <td>Alwarpet</td>\n",
       "      <td>4.7</td>\n",
       "      <td>1</td>\n",
       "    </tr>\n",
       "    <tr>\n",
       "      <th>15</th>\n",
       "      <td>Fusilli Reasons</td>\n",
       "      <td>Kilpauk</td>\n",
       "      <td>4.7</td>\n",
       "      <td>1</td>\n",
       "    </tr>\n",
       "    <tr>\n",
       "      <th>16</th>\n",
       "      <td>Gossip Fusion Bistro</td>\n",
       "      <td>Kanathur</td>\n",
       "      <td>4.9</td>\n",
       "      <td>1</td>\n",
       "    </tr>\n",
       "    <tr>\n",
       "      <th>17</th>\n",
       "      <td>Haagen Dazs</td>\n",
       "      <td>Nungambakkam</td>\n",
       "      <td>4.6</td>\n",
       "      <td>1</td>\n",
       "    </tr>\n",
       "    <tr>\n",
       "      <th>18</th>\n",
       "      <td>Hamsa</td>\n",
       "      <td>Adyar</td>\n",
       "      <td>4.6</td>\n",
       "      <td>1</td>\n",
       "    </tr>\n",
       "    <tr>\n",
       "      <th>19</th>\n",
       "      <td>J.Hind - Grand by GRT Hotels</td>\n",
       "      <td>GrandbyGRTHotels</td>\n",
       "      <td>4.7</td>\n",
       "      <td>1</td>\n",
       "    </tr>\n",
       "    <tr>\n",
       "      <th>20</th>\n",
       "      <td>Kabab Corner</td>\n",
       "      <td>Egmore</td>\n",
       "      <td>4.9</td>\n",
       "      <td>1</td>\n",
       "    </tr>\n",
       "    <tr>\n",
       "      <th>21</th>\n",
       "      <td>Kappa Chakka Kandhari</td>\n",
       "      <td>Nungambakkam</td>\n",
       "      <td>4.7</td>\n",
       "      <td>1</td>\n",
       "    </tr>\n",
       "    <tr>\n",
       "      <th>22</th>\n",
       "      <td>Krispy Kreme</td>\n",
       "      <td>Royapettah</td>\n",
       "      <td>4.6</td>\n",
       "      <td>1</td>\n",
       "    </tr>\n",
       "    <tr>\n",
       "      <th>23</th>\n",
       "      <td>Little Italy</td>\n",
       "      <td>BesantNagar</td>\n",
       "      <td>4.7</td>\n",
       "      <td>1</td>\n",
       "    </tr>\n",
       "    <tr>\n",
       "      <th>24</th>\n",
       "      <td>Mainland China</td>\n",
       "      <td>Velachery</td>\n",
       "      <td>4.6</td>\n",
       "      <td>1</td>\n",
       "    </tr>\n",
       "    <tr>\n",
       "      <th>25</th>\n",
       "      <td>Mezze</td>\n",
       "      <td>Alwarpet</td>\n",
       "      <td>4.7</td>\n",
       "      <td>1</td>\n",
       "    </tr>\n",
       "    <tr>\n",
       "      <th>26</th>\n",
       "      <td>Momo Sa-Khang by Kailash Kitchen</td>\n",
       "      <td>Choolaimedu</td>\n",
       "      <td>4.8</td>\n",
       "      <td>1</td>\n",
       "    </tr>\n",
       "    <tr>\n",
       "      <th>27</th>\n",
       "      <td>New Pattukottai Kamatchi Mess</td>\n",
       "      <td>T.Nagar</td>\n",
       "      <td>4.6</td>\n",
       "      <td>1</td>\n",
       "    </tr>\n",
       "    <tr>\n",
       "      <th>28</th>\n",
       "      <td>Peshawri - ITC Grand Chola</td>\n",
       "      <td>Guindy</td>\n",
       "      <td>4.6</td>\n",
       "      <td>1</td>\n",
       "    </tr>\n",
       "    <tr>\n",
       "      <th>29</th>\n",
       "      <td>Prems Graama Bhojanam</td>\n",
       "      <td>Adyar</td>\n",
       "      <td>4.9</td>\n",
       "      <td>1</td>\n",
       "    </tr>\n",
       "    <tr>\n",
       "      <th>30</th>\n",
       "      <td>Rayar's Mess</td>\n",
       "      <td>Mylapore</td>\n",
       "      <td>4.7</td>\n",
       "      <td>1</td>\n",
       "    </tr>\n",
       "    <tr>\n",
       "      <th>31</th>\n",
       "      <td>Royal Sandwich Shop</td>\n",
       "      <td>Alwarpet</td>\n",
       "      <td>4.7</td>\n",
       "      <td>1</td>\n",
       "    </tr>\n",
       "    <tr>\n",
       "      <th>32</th>\n",
       "      <td>Shree Mithai</td>\n",
       "      <td>Chetpet</td>\n",
       "      <td>4.6</td>\n",
       "      <td>1</td>\n",
       "    </tr>\n",
       "    <tr>\n",
       "      <th>33</th>\n",
       "      <td>Southern Spice - Taj Coromandel</td>\n",
       "      <td>Nungambakkam</td>\n",
       "      <td>4.7</td>\n",
       "      <td>1</td>\n",
       "    </tr>\n",
       "    <tr>\n",
       "      <th>34</th>\n",
       "      <td>Soy Soi</td>\n",
       "      <td>Kotturpuram</td>\n",
       "      <td>4.7</td>\n",
       "      <td>1</td>\n",
       "    </tr>\n",
       "    <tr>\n",
       "      <th>35</th>\n",
       "      <td>SpiceKlub</td>\n",
       "      <td>Nungambakkam</td>\n",
       "      <td>4.6</td>\n",
       "      <td>1</td>\n",
       "    </tr>\n",
       "    <tr>\n",
       "      <th>36</th>\n",
       "      <td>The Marina</td>\n",
       "      <td>Nungambakkam</td>\n",
       "      <td>4.8</td>\n",
       "      <td>1</td>\n",
       "    </tr>\n",
       "    <tr>\n",
       "      <th>37</th>\n",
       "      <td>The Sandwich Shop</td>\n",
       "      <td>WestMambalam</td>\n",
       "      <td>4.9</td>\n",
       "      <td>1</td>\n",
       "    </tr>\n",
       "    <tr>\n",
       "      <th>38</th>\n",
       "      <td>Vasco's - Hilton Chennai</td>\n",
       "      <td>Guindy</td>\n",
       "      <td>4.6</td>\n",
       "      <td>1</td>\n",
       "    </tr>\n",
       "    <tr>\n",
       "      <th>39</th>\n",
       "      <td>Wok Monk</td>\n",
       "      <td>AnnaNagarWest</td>\n",
       "      <td>4.6</td>\n",
       "      <td>1</td>\n",
       "    </tr>\n",
       "  </tbody>\n",
       "</table>\n",
       "</div>"
      ],
      "text/plain": [
       "                           Name of Restaurant          Location  \\\n",
       "0                                      AlMaza     AnnaNagarEast   \n",
       "1          Amadora Gourmet Ice Cream & Sorbet      Nungambakkam   \n",
       "2                                 Andhikkadai         Velachery   \n",
       "3                        Arabian Kebab Center       Kodambakkam   \n",
       "4                  Avartana - ITC Grand Chola            Guindy   \n",
       "5                          Basil With A Twist           T.Nagar   \n",
       "6                                   Benjarong          Alwarpet   \n",
       "7                                     Bhangra          Kanathur   \n",
       "8                            Bombay Brasserie      Nungambakkam   \n",
       "9                                Bombay Kulfi             Adyar   \n",
       "10                               Bombay Kulfi     AnnaNagarEast   \n",
       "11                             Brownie Heaven        Royapettah   \n",
       "12  Dakshin - Crowne Plaza Chennai Adyar Park          Alwarpet   \n",
       "13                East Coast at Madras Square       Neelangarai   \n",
       "14                             Eating Circles          Alwarpet   \n",
       "15                            Fusilli Reasons           Kilpauk   \n",
       "16                       Gossip Fusion Bistro          Kanathur   \n",
       "17                                Haagen Dazs      Nungambakkam   \n",
       "18                                      Hamsa             Adyar   \n",
       "19               J.Hind - Grand by GRT Hotels  GrandbyGRTHotels   \n",
       "20                               Kabab Corner            Egmore   \n",
       "21                      Kappa Chakka Kandhari      Nungambakkam   \n",
       "22                               Krispy Kreme        Royapettah   \n",
       "23                               Little Italy       BesantNagar   \n",
       "24                             Mainland China         Velachery   \n",
       "25                                      Mezze          Alwarpet   \n",
       "26           Momo Sa-Khang by Kailash Kitchen       Choolaimedu   \n",
       "27              New Pattukottai Kamatchi Mess           T.Nagar   \n",
       "28                 Peshawri - ITC Grand Chola            Guindy   \n",
       "29                      Prems Graama Bhojanam             Adyar   \n",
       "30                               Rayar's Mess          Mylapore   \n",
       "31                        Royal Sandwich Shop          Alwarpet   \n",
       "32                               Shree Mithai           Chetpet   \n",
       "33            Southern Spice - Taj Coromandel      Nungambakkam   \n",
       "34                                    Soy Soi       Kotturpuram   \n",
       "35                                  SpiceKlub      Nungambakkam   \n",
       "36                                 The Marina      Nungambakkam   \n",
       "37                          The Sandwich Shop      WestMambalam   \n",
       "38                   Vasco's - Hilton Chennai            Guindy   \n",
       "39                                   Wok Monk     AnnaNagarWest   \n",
       "\n",
       "    Dining Rating  0  \n",
       "0             4.6  1  \n",
       "1             4.8  1  \n",
       "2             4.6  1  \n",
       "3             4.6  1  \n",
       "4             4.8  1  \n",
       "5             4.6  1  \n",
       "6             4.7  1  \n",
       "7             4.9  1  \n",
       "8             4.7  1  \n",
       "9             4.9  1  \n",
       "10            4.6  1  \n",
       "11            4.9  1  \n",
       "12            4.6  1  \n",
       "13            4.6  1  \n",
       "14            4.7  1  \n",
       "15            4.7  1  \n",
       "16            4.9  1  \n",
       "17            4.6  1  \n",
       "18            4.6  1  \n",
       "19            4.7  1  \n",
       "20            4.9  1  \n",
       "21            4.7  1  \n",
       "22            4.6  1  \n",
       "23            4.7  1  \n",
       "24            4.6  1  \n",
       "25            4.7  1  \n",
       "26            4.8  1  \n",
       "27            4.6  1  \n",
       "28            4.6  1  \n",
       "29            4.9  1  \n",
       "30            4.7  1  \n",
       "31            4.7  1  \n",
       "32            4.6  1  \n",
       "33            4.7  1  \n",
       "34            4.7  1  \n",
       "35            4.6  1  \n",
       "36            4.8  1  \n",
       "37            4.9  1  \n",
       "38            4.6  1  \n",
       "39            4.6  1  "
      ]
     },
     "execution_count": 255,
     "metadata": {},
     "output_type": "execute_result"
    }
   ],
   "source": [
    "zomato_data['Dining Rating'] = zomato_data['Dining Rating'].apply(lambda x: float(x))\n",
    "top_dine = zomato_data[zomato_data['Dining Rating'] > 4.5]\n",
    "top_hotels = top_dine.groupby([\"Name of Restaurant\",\"Location\", \"Dining Rating\"]).size().reset_index()\n",
    "top_hotels"
   ]
  },
  {
   "cell_type": "markdown",
   "id": "ac196f7e",
   "metadata": {},
   "source": [
    "### Least 10 restaurant in chennai"
   ]
  },
  {
   "cell_type": "code",
   "execution_count": 256,
   "id": "6d8037da",
   "metadata": {},
   "outputs": [
    {
     "data": {
      "text/html": [
       "<div>\n",
       "<style scoped>\n",
       "    .dataframe tbody tr th:only-of-type {\n",
       "        vertical-align: middle;\n",
       "    }\n",
       "\n",
       "    .dataframe tbody tr th {\n",
       "        vertical-align: top;\n",
       "    }\n",
       "\n",
       "    .dataframe thead th {\n",
       "        text-align: right;\n",
       "    }\n",
       "</style>\n",
       "<table border=\"1\" class=\"dataframe\">\n",
       "  <thead>\n",
       "    <tr style=\"text-align: right;\">\n",
       "      <th></th>\n",
       "      <th>Name of Restaurant</th>\n",
       "      <th>Location</th>\n",
       "      <th>Dining Rating</th>\n",
       "      <th>0</th>\n",
       "    </tr>\n",
       "  </thead>\n",
       "  <tbody>\n",
       "    <tr>\n",
       "      <th>0</th>\n",
       "      <td>10 Muffins</td>\n",
       "      <td>Medavakkam</td>\n",
       "      <td>2.0</td>\n",
       "      <td>1</td>\n",
       "    </tr>\n",
       "    <tr>\n",
       "      <th>1</th>\n",
       "      <td>5 Star</td>\n",
       "      <td>Selaiyur</td>\n",
       "      <td>2.0</td>\n",
       "      <td>1</td>\n",
       "    </tr>\n",
       "    <tr>\n",
       "      <th>2</th>\n",
       "      <td>90S Anbum Suvaiyum</td>\n",
       "      <td>Thuraipakkam</td>\n",
       "      <td>2.0</td>\n",
       "      <td>1</td>\n",
       "    </tr>\n",
       "    <tr>\n",
       "      <th>3</th>\n",
       "      <td>90s Kidz Cool Zone</td>\n",
       "      <td>Ambattur</td>\n",
       "      <td>2.0</td>\n",
       "      <td>1</td>\n",
       "    </tr>\n",
       "    <tr>\n",
       "      <th>4</th>\n",
       "      <td>A K Juice And Chat Corner</td>\n",
       "      <td>Virugambakkam</td>\n",
       "      <td>2.0</td>\n",
       "      <td>1</td>\n",
       "    </tr>\n",
       "    <tr>\n",
       "      <th>5</th>\n",
       "      <td>A.M.S Hyderabad Biriyani &amp; Fast Food</td>\n",
       "      <td>Vadapalani</td>\n",
       "      <td>2.4</td>\n",
       "      <td>1</td>\n",
       "    </tr>\n",
       "    <tr>\n",
       "      <th>6</th>\n",
       "      <td>A2B - Adyar Ananda Bhavan</td>\n",
       "      <td>Chromepet</td>\n",
       "      <td>2.1</td>\n",
       "      <td>1</td>\n",
       "    </tr>\n",
       "    <tr>\n",
       "      <th>7</th>\n",
       "      <td>Aavin Junction</td>\n",
       "      <td>Arumbakkam</td>\n",
       "      <td>2.0</td>\n",
       "      <td>1</td>\n",
       "    </tr>\n",
       "    <tr>\n",
       "      <th>8</th>\n",
       "      <td>Aavin Parlour</td>\n",
       "      <td>Ambattur</td>\n",
       "      <td>2.0</td>\n",
       "      <td>1</td>\n",
       "    </tr>\n",
       "    <tr>\n",
       "      <th>9</th>\n",
       "      <td>Aavin Parlour</td>\n",
       "      <td>Avadi</td>\n",
       "      <td>2.0</td>\n",
       "      <td>1</td>\n",
       "    </tr>\n",
       "    <tr>\n",
       "      <th>10</th>\n",
       "      <td>Aavin Parlour</td>\n",
       "      <td>Triplicane</td>\n",
       "      <td>2.0</td>\n",
       "      <td>1</td>\n",
       "    </tr>\n",
       "    <tr>\n",
       "      <th>11</th>\n",
       "      <td>Aazhi - The Sea Food Mess</td>\n",
       "      <td>Ambattur</td>\n",
       "      <td>1.9</td>\n",
       "      <td>1</td>\n",
       "    </tr>\n",
       "    <tr>\n",
       "      <th>12</th>\n",
       "      <td>Aazhi - The Sea Food Mess</td>\n",
       "      <td>Egatoor</td>\n",
       "      <td>1.9</td>\n",
       "      <td>1</td>\n",
       "    </tr>\n",
       "    <tr>\n",
       "      <th>13</th>\n",
       "      <td>Aazhi - The Sea Food Mess</td>\n",
       "      <td>Medavakkam</td>\n",
       "      <td>1.9</td>\n",
       "      <td>1</td>\n",
       "    </tr>\n",
       "    <tr>\n",
       "      <th>14</th>\n",
       "      <td>Abiruchi Andhra Mess</td>\n",
       "      <td>ParkTown</td>\n",
       "      <td>2.0</td>\n",
       "      <td>1</td>\n",
       "    </tr>\n",
       "    <tr>\n",
       "      <th>15</th>\n",
       "      <td>Aditya Bar</td>\n",
       "      <td>Nungambakkam</td>\n",
       "      <td>2.0</td>\n",
       "      <td>1</td>\n",
       "    </tr>\n",
       "    <tr>\n",
       "      <th>16</th>\n",
       "      <td>Adyar Bakery</td>\n",
       "      <td>Ambattur</td>\n",
       "      <td>2.0</td>\n",
       "      <td>1</td>\n",
       "    </tr>\n",
       "    <tr>\n",
       "      <th>17</th>\n",
       "      <td>Adyar Bakery</td>\n",
       "      <td>AshokNagar</td>\n",
       "      <td>2.3</td>\n",
       "      <td>1</td>\n",
       "    </tr>\n",
       "    <tr>\n",
       "      <th>18</th>\n",
       "      <td>Ajmeer Briyani</td>\n",
       "      <td>Valasaravakkam</td>\n",
       "      <td>2.0</td>\n",
       "      <td>1</td>\n",
       "    </tr>\n",
       "    <tr>\n",
       "      <th>19</th>\n",
       "      <td>Akil Darbar Hotel</td>\n",
       "      <td>KanchipuramDistrict</td>\n",
       "      <td>2.0</td>\n",
       "      <td>1</td>\n",
       "    </tr>\n",
       "    <tr>\n",
       "      <th>20</th>\n",
       "      <td>Al Mass Hotel</td>\n",
       "      <td>Adambakkam</td>\n",
       "      <td>2.0</td>\n",
       "      <td>1</td>\n",
       "    </tr>\n",
       "    <tr>\n",
       "      <th>21</th>\n",
       "      <td>Al Pizza Paradise</td>\n",
       "      <td>Madipakkam</td>\n",
       "      <td>2.0</td>\n",
       "      <td>1</td>\n",
       "    </tr>\n",
       "    <tr>\n",
       "      <th>22</th>\n",
       "      <td>Al Reef</td>\n",
       "      <td>Kottivakkam</td>\n",
       "      <td>2.1</td>\n",
       "      <td>1</td>\n",
       "    </tr>\n",
       "    <tr>\n",
       "      <th>23</th>\n",
       "      <td>Al Reef</td>\n",
       "      <td>Medavakkam</td>\n",
       "      <td>2.3</td>\n",
       "      <td>1</td>\n",
       "    </tr>\n",
       "    <tr>\n",
       "      <th>24</th>\n",
       "      <td>Alankar Hotel</td>\n",
       "      <td>Nungambakkam</td>\n",
       "      <td>2.0</td>\n",
       "      <td>1</td>\n",
       "    </tr>\n",
       "    <tr>\n",
       "      <th>25</th>\n",
       "      <td>Alankar Refreshing Cafe</td>\n",
       "      <td>Ramapuram</td>\n",
       "      <td>2.0</td>\n",
       "      <td>1</td>\n",
       "    </tr>\n",
       "    <tr>\n",
       "      <th>26</th>\n",
       "      <td>Alima Chicken Briyani</td>\n",
       "      <td>BesantNagar</td>\n",
       "      <td>2.0</td>\n",
       "      <td>1</td>\n",
       "    </tr>\n",
       "    <tr>\n",
       "      <th>27</th>\n",
       "      <td>Ambi Hotel</td>\n",
       "      <td>Navallur</td>\n",
       "      <td>2.0</td>\n",
       "      <td>1</td>\n",
       "    </tr>\n",
       "    <tr>\n",
       "      <th>28</th>\n",
       "      <td>Ambrosia 3'0h'6</td>\n",
       "      <td>BesantNagar</td>\n",
       "      <td>2.0</td>\n",
       "      <td>1</td>\n",
       "    </tr>\n",
       "    <tr>\n",
       "      <th>29</th>\n",
       "      <td>Amirtham Chettinad</td>\n",
       "      <td>Porur</td>\n",
       "      <td>2.0</td>\n",
       "      <td>1</td>\n",
       "    </tr>\n",
       "    <tr>\n",
       "      <th>30</th>\n",
       "      <td>Anandha Hotel</td>\n",
       "      <td>Pallikaranai</td>\n",
       "      <td>2.0</td>\n",
       "      <td>1</td>\n",
       "    </tr>\n",
       "    <tr>\n",
       "      <th>31</th>\n",
       "      <td>Anandham Kitchen</td>\n",
       "      <td>Velachery</td>\n",
       "      <td>2.0</td>\n",
       "      <td>1</td>\n",
       "    </tr>\n",
       "    <tr>\n",
       "      <th>32</th>\n",
       "      <td>Anjali Juice</td>\n",
       "      <td>Adambakkam</td>\n",
       "      <td>2.0</td>\n",
       "      <td>1</td>\n",
       "    </tr>\n",
       "    <tr>\n",
       "      <th>33</th>\n",
       "      <td>Anjappar</td>\n",
       "      <td>AshokNagar</td>\n",
       "      <td>2.1</td>\n",
       "      <td>1</td>\n",
       "    </tr>\n",
       "    <tr>\n",
       "      <th>34</th>\n",
       "      <td>Anjappar</td>\n",
       "      <td>T.Nagar</td>\n",
       "      <td>2.4</td>\n",
       "      <td>1</td>\n",
       "    </tr>\n",
       "    <tr>\n",
       "      <th>35</th>\n",
       "      <td>Anjappar</td>\n",
       "      <td>Thuraipakkam</td>\n",
       "      <td>2.4</td>\n",
       "      <td>1</td>\n",
       "    </tr>\n",
       "    <tr>\n",
       "      <th>36</th>\n",
       "      <td>Anjappar</td>\n",
       "      <td>Triplicane</td>\n",
       "      <td>2.4</td>\n",
       "      <td>1</td>\n",
       "    </tr>\n",
       "    <tr>\n",
       "      <th>37</th>\n",
       "      <td>Annachi Dosai Kadai</td>\n",
       "      <td>Injambakkam</td>\n",
       "      <td>2.1</td>\n",
       "      <td>1</td>\n",
       "    </tr>\n",
       "    <tr>\n",
       "      <th>38</th>\n",
       "      <td>Aranmanai</td>\n",
       "      <td>Valasaravakkam</td>\n",
       "      <td>2.0</td>\n",
       "      <td>1</td>\n",
       "    </tr>\n",
       "    <tr>\n",
       "      <th>39</th>\n",
       "      <td>Arcot Briyani And Fast Food</td>\n",
       "      <td>T.Nagar</td>\n",
       "      <td>2.0</td>\n",
       "      <td>1</td>\n",
       "    </tr>\n",
       "  </tbody>\n",
       "</table>\n",
       "</div>"
      ],
      "text/plain": [
       "                      Name of Restaurant             Location  Dining Rating  \\\n",
       "0                             10 Muffins           Medavakkam            2.0   \n",
       "1                                 5 Star             Selaiyur            2.0   \n",
       "2                     90S Anbum Suvaiyum         Thuraipakkam            2.0   \n",
       "3                     90s Kidz Cool Zone             Ambattur            2.0   \n",
       "4              A K Juice And Chat Corner        Virugambakkam            2.0   \n",
       "5   A.M.S Hyderabad Biriyani & Fast Food           Vadapalani            2.4   \n",
       "6              A2B - Adyar Ananda Bhavan            Chromepet            2.1   \n",
       "7                         Aavin Junction           Arumbakkam            2.0   \n",
       "8                          Aavin Parlour             Ambattur            2.0   \n",
       "9                          Aavin Parlour                Avadi            2.0   \n",
       "10                         Aavin Parlour           Triplicane            2.0   \n",
       "11             Aazhi - The Sea Food Mess             Ambattur            1.9   \n",
       "12             Aazhi - The Sea Food Mess              Egatoor            1.9   \n",
       "13             Aazhi - The Sea Food Mess           Medavakkam            1.9   \n",
       "14                  Abiruchi Andhra Mess             ParkTown            2.0   \n",
       "15                            Aditya Bar         Nungambakkam            2.0   \n",
       "16                          Adyar Bakery             Ambattur            2.0   \n",
       "17                          Adyar Bakery           AshokNagar            2.3   \n",
       "18                        Ajmeer Briyani       Valasaravakkam            2.0   \n",
       "19                     Akil Darbar Hotel  KanchipuramDistrict            2.0   \n",
       "20                         Al Mass Hotel           Adambakkam            2.0   \n",
       "21                     Al Pizza Paradise           Madipakkam            2.0   \n",
       "22                               Al Reef          Kottivakkam            2.1   \n",
       "23                               Al Reef           Medavakkam            2.3   \n",
       "24                         Alankar Hotel         Nungambakkam            2.0   \n",
       "25               Alankar Refreshing Cafe            Ramapuram            2.0   \n",
       "26                 Alima Chicken Briyani          BesantNagar            2.0   \n",
       "27                            Ambi Hotel             Navallur            2.0   \n",
       "28                       Ambrosia 3'0h'6          BesantNagar            2.0   \n",
       "29                    Amirtham Chettinad                Porur            2.0   \n",
       "30                         Anandha Hotel         Pallikaranai            2.0   \n",
       "31                      Anandham Kitchen            Velachery            2.0   \n",
       "32                          Anjali Juice           Adambakkam            2.0   \n",
       "33                              Anjappar           AshokNagar            2.1   \n",
       "34                              Anjappar              T.Nagar            2.4   \n",
       "35                              Anjappar         Thuraipakkam            2.4   \n",
       "36                              Anjappar           Triplicane            2.4   \n",
       "37                   Annachi Dosai Kadai          Injambakkam            2.1   \n",
       "38                             Aranmanai       Valasaravakkam            2.0   \n",
       "39           Arcot Briyani And Fast Food              T.Nagar            2.0   \n",
       "\n",
       "    0  \n",
       "0   1  \n",
       "1   1  \n",
       "2   1  \n",
       "3   1  \n",
       "4   1  \n",
       "5   1  \n",
       "6   1  \n",
       "7   1  \n",
       "8   1  \n",
       "9   1  \n",
       "10  1  \n",
       "11  1  \n",
       "12  1  \n",
       "13  1  \n",
       "14  1  \n",
       "15  1  \n",
       "16  1  \n",
       "17  1  \n",
       "18  1  \n",
       "19  1  \n",
       "20  1  \n",
       "21  1  \n",
       "22  1  \n",
       "23  1  \n",
       "24  1  \n",
       "25  1  \n",
       "26  1  \n",
       "27  1  \n",
       "28  1  \n",
       "29  1  \n",
       "30  1  \n",
       "31  1  \n",
       "32  1  \n",
       "33  1  \n",
       "34  1  \n",
       "35  1  \n",
       "36  1  \n",
       "37  1  \n",
       "38  1  \n",
       "39  1  "
      ]
     },
     "execution_count": 256,
     "metadata": {},
     "output_type": "execute_result"
    }
   ],
   "source": [
    "zomato_data['Dining Rating'] = zomato_data['Dining Rating'].apply(lambda x: float(x))\n",
    "top_dine = zomato_data[zomato_data['Dining Rating'] < 2.5]\n",
    "top_hotels = top_dine.groupby([\"Name of Restaurant\",\"Location\", \"Dining Rating\"]).size().reset_index()\n",
    "top_hotels[:40]"
   ]
  },
  {
   "cell_type": "markdown",
   "id": "956bc17b",
   "metadata": {},
   "source": [
    "### Top cuisine"
   ]
  },
  {
   "cell_type": "code",
   "execution_count": 257,
   "id": "36516d06",
   "metadata": {},
   "outputs": [],
   "source": [
    "zomato_data[\"Cuisine\"] = zomato_data[\"Cuisine\"].apply(lambda x : eval(x))\n",
    "zomato_data[\"Features\"] = zomato_data[\"Features\"].apply(lambda x : eval(x))\n",
    "zomato_data[\"Top Dishes\"] = zomato_data[\"Top Dishes\"].fillna(\"[]\")\n",
    "zomato_data[\"Top Dishes\"] = zomato_data[\"Top Dishes\"].apply(lambda x: str(x))\n",
    "zomato_data[\"Top Dishes\"] = zomato_data[\"Top Dishes\"].apply(lambda x: eval(x)) \n",
    "def count_data(column, dataframe):\n",
    "    count_dict = {}\n",
    "    for val_list in dataframe[column]:\n",
    "        for ele in val_list:\n",
    "            if ele.strip(\" \") not in count_dict:\n",
    "                count_dict[ele.strip(\" \")] = 1\n",
    "            else:\n",
    "                count_dict[ele.strip(\" \")] += 1\n",
    "    data_dict = dict(sorted(count_dict.items(), key = lambda x: x[1], reverse= True))\n",
    "    df = pd.DataFrame.from_dict(data_dict,orient='index',columns=['Count']).reset_index()\n",
    "    return count_dict, df"
   ]
  },
  {
   "cell_type": "code",
   "execution_count": 258,
   "id": "35d5df94",
   "metadata": {},
   "outputs": [
    {
     "data": {
      "application/vnd.plotly.v1+json": {
       "config": {
        "plotlyServerURL": "https://plot.ly"
       },
       "data": [
        {
         "domain": {
          "x": [
           0,
           1
          ],
          "y": [
           0,
           1
          ]
         },
         "hovertemplate": "label=%{label}<br>value=%{value}<extra></extra>",
         "labels": [
          "Chinese",
          "North Indian",
          "Fast Food",
          "South Indian",
          "Beverages",
          "Biryani",
          "Desserts",
          "Bakery",
          "Street Food",
          "Ice Cream",
          "Sandwich",
          "Chettinad",
          "Italian",
          "Pizza",
          "Juices",
          "Burger",
          "Mithai",
          "Seafood",
          "Continental",
          "Arabian"
         ],
         "legendgroup": "",
         "name": "",
         "showlegend": true,
         "type": "pie",
         "values": [
          3571,
          3315,
          3183,
          3099,
          2465,
          1881,
          1376,
          939,
          897,
          812,
          708,
          646,
          456,
          453,
          406,
          380,
          342,
          332,
          331,
          327
         ]
        }
       ],
       "layout": {
        "height": 800,
        "legend": {
         "tracegroupgap": 0
        },
        "template": {
         "data": {
          "bar": [
           {
            "error_x": {
             "color": "#2a3f5f"
            },
            "error_y": {
             "color": "#2a3f5f"
            },
            "marker": {
             "line": {
              "color": "#E5ECF6",
              "width": 0.5
             },
             "pattern": {
              "fillmode": "overlay",
              "size": 10,
              "solidity": 0.2
             }
            },
            "type": "bar"
           }
          ],
          "barpolar": [
           {
            "marker": {
             "line": {
              "color": "#E5ECF6",
              "width": 0.5
             },
             "pattern": {
              "fillmode": "overlay",
              "size": 10,
              "solidity": 0.2
             }
            },
            "type": "barpolar"
           }
          ],
          "carpet": [
           {
            "aaxis": {
             "endlinecolor": "#2a3f5f",
             "gridcolor": "white",
             "linecolor": "white",
             "minorgridcolor": "white",
             "startlinecolor": "#2a3f5f"
            },
            "baxis": {
             "endlinecolor": "#2a3f5f",
             "gridcolor": "white",
             "linecolor": "white",
             "minorgridcolor": "white",
             "startlinecolor": "#2a3f5f"
            },
            "type": "carpet"
           }
          ],
          "choropleth": [
           {
            "colorbar": {
             "outlinewidth": 0,
             "ticks": ""
            },
            "type": "choropleth"
           }
          ],
          "contour": [
           {
            "colorbar": {
             "outlinewidth": 0,
             "ticks": ""
            },
            "colorscale": [
             [
              0,
              "#0d0887"
             ],
             [
              0.1111111111111111,
              "#46039f"
             ],
             [
              0.2222222222222222,
              "#7201a8"
             ],
             [
              0.3333333333333333,
              "#9c179e"
             ],
             [
              0.4444444444444444,
              "#bd3786"
             ],
             [
              0.5555555555555556,
              "#d8576b"
             ],
             [
              0.6666666666666666,
              "#ed7953"
             ],
             [
              0.7777777777777778,
              "#fb9f3a"
             ],
             [
              0.8888888888888888,
              "#fdca26"
             ],
             [
              1,
              "#f0f921"
             ]
            ],
            "type": "contour"
           }
          ],
          "contourcarpet": [
           {
            "colorbar": {
             "outlinewidth": 0,
             "ticks": ""
            },
            "type": "contourcarpet"
           }
          ],
          "heatmap": [
           {
            "colorbar": {
             "outlinewidth": 0,
             "ticks": ""
            },
            "colorscale": [
             [
              0,
              "#0d0887"
             ],
             [
              0.1111111111111111,
              "#46039f"
             ],
             [
              0.2222222222222222,
              "#7201a8"
             ],
             [
              0.3333333333333333,
              "#9c179e"
             ],
             [
              0.4444444444444444,
              "#bd3786"
             ],
             [
              0.5555555555555556,
              "#d8576b"
             ],
             [
              0.6666666666666666,
              "#ed7953"
             ],
             [
              0.7777777777777778,
              "#fb9f3a"
             ],
             [
              0.8888888888888888,
              "#fdca26"
             ],
             [
              1,
              "#f0f921"
             ]
            ],
            "type": "heatmap"
           }
          ],
          "heatmapgl": [
           {
            "colorbar": {
             "outlinewidth": 0,
             "ticks": ""
            },
            "colorscale": [
             [
              0,
              "#0d0887"
             ],
             [
              0.1111111111111111,
              "#46039f"
             ],
             [
              0.2222222222222222,
              "#7201a8"
             ],
             [
              0.3333333333333333,
              "#9c179e"
             ],
             [
              0.4444444444444444,
              "#bd3786"
             ],
             [
              0.5555555555555556,
              "#d8576b"
             ],
             [
              0.6666666666666666,
              "#ed7953"
             ],
             [
              0.7777777777777778,
              "#fb9f3a"
             ],
             [
              0.8888888888888888,
              "#fdca26"
             ],
             [
              1,
              "#f0f921"
             ]
            ],
            "type": "heatmapgl"
           }
          ],
          "histogram": [
           {
            "marker": {
             "pattern": {
              "fillmode": "overlay",
              "size": 10,
              "solidity": 0.2
             }
            },
            "type": "histogram"
           }
          ],
          "histogram2d": [
           {
            "colorbar": {
             "outlinewidth": 0,
             "ticks": ""
            },
            "colorscale": [
             [
              0,
              "#0d0887"
             ],
             [
              0.1111111111111111,
              "#46039f"
             ],
             [
              0.2222222222222222,
              "#7201a8"
             ],
             [
              0.3333333333333333,
              "#9c179e"
             ],
             [
              0.4444444444444444,
              "#bd3786"
             ],
             [
              0.5555555555555556,
              "#d8576b"
             ],
             [
              0.6666666666666666,
              "#ed7953"
             ],
             [
              0.7777777777777778,
              "#fb9f3a"
             ],
             [
              0.8888888888888888,
              "#fdca26"
             ],
             [
              1,
              "#f0f921"
             ]
            ],
            "type": "histogram2d"
           }
          ],
          "histogram2dcontour": [
           {
            "colorbar": {
             "outlinewidth": 0,
             "ticks": ""
            },
            "colorscale": [
             [
              0,
              "#0d0887"
             ],
             [
              0.1111111111111111,
              "#46039f"
             ],
             [
              0.2222222222222222,
              "#7201a8"
             ],
             [
              0.3333333333333333,
              "#9c179e"
             ],
             [
              0.4444444444444444,
              "#bd3786"
             ],
             [
              0.5555555555555556,
              "#d8576b"
             ],
             [
              0.6666666666666666,
              "#ed7953"
             ],
             [
              0.7777777777777778,
              "#fb9f3a"
             ],
             [
              0.8888888888888888,
              "#fdca26"
             ],
             [
              1,
              "#f0f921"
             ]
            ],
            "type": "histogram2dcontour"
           }
          ],
          "mesh3d": [
           {
            "colorbar": {
             "outlinewidth": 0,
             "ticks": ""
            },
            "type": "mesh3d"
           }
          ],
          "parcoords": [
           {
            "line": {
             "colorbar": {
              "outlinewidth": 0,
              "ticks": ""
             }
            },
            "type": "parcoords"
           }
          ],
          "pie": [
           {
            "automargin": true,
            "type": "pie"
           }
          ],
          "scatter": [
           {
            "marker": {
             "colorbar": {
              "outlinewidth": 0,
              "ticks": ""
             }
            },
            "type": "scatter"
           }
          ],
          "scatter3d": [
           {
            "line": {
             "colorbar": {
              "outlinewidth": 0,
              "ticks": ""
             }
            },
            "marker": {
             "colorbar": {
              "outlinewidth": 0,
              "ticks": ""
             }
            },
            "type": "scatter3d"
           }
          ],
          "scattercarpet": [
           {
            "marker": {
             "colorbar": {
              "outlinewidth": 0,
              "ticks": ""
             }
            },
            "type": "scattercarpet"
           }
          ],
          "scattergeo": [
           {
            "marker": {
             "colorbar": {
              "outlinewidth": 0,
              "ticks": ""
             }
            },
            "type": "scattergeo"
           }
          ],
          "scattergl": [
           {
            "marker": {
             "colorbar": {
              "outlinewidth": 0,
              "ticks": ""
             }
            },
            "type": "scattergl"
           }
          ],
          "scattermapbox": [
           {
            "marker": {
             "colorbar": {
              "outlinewidth": 0,
              "ticks": ""
             }
            },
            "type": "scattermapbox"
           }
          ],
          "scatterpolar": [
           {
            "marker": {
             "colorbar": {
              "outlinewidth": 0,
              "ticks": ""
             }
            },
            "type": "scatterpolar"
           }
          ],
          "scatterpolargl": [
           {
            "marker": {
             "colorbar": {
              "outlinewidth": 0,
              "ticks": ""
             }
            },
            "type": "scatterpolargl"
           }
          ],
          "scatterternary": [
           {
            "marker": {
             "colorbar": {
              "outlinewidth": 0,
              "ticks": ""
             }
            },
            "type": "scatterternary"
           }
          ],
          "surface": [
           {
            "colorbar": {
             "outlinewidth": 0,
             "ticks": ""
            },
            "colorscale": [
             [
              0,
              "#0d0887"
             ],
             [
              0.1111111111111111,
              "#46039f"
             ],
             [
              0.2222222222222222,
              "#7201a8"
             ],
             [
              0.3333333333333333,
              "#9c179e"
             ],
             [
              0.4444444444444444,
              "#bd3786"
             ],
             [
              0.5555555555555556,
              "#d8576b"
             ],
             [
              0.6666666666666666,
              "#ed7953"
             ],
             [
              0.7777777777777778,
              "#fb9f3a"
             ],
             [
              0.8888888888888888,
              "#fdca26"
             ],
             [
              1,
              "#f0f921"
             ]
            ],
            "type": "surface"
           }
          ],
          "table": [
           {
            "cells": {
             "fill": {
              "color": "#EBF0F8"
             },
             "line": {
              "color": "white"
             }
            },
            "header": {
             "fill": {
              "color": "#C8D4E3"
             },
             "line": {
              "color": "white"
             }
            },
            "type": "table"
           }
          ]
         },
         "layout": {
          "annotationdefaults": {
           "arrowcolor": "#2a3f5f",
           "arrowhead": 0,
           "arrowwidth": 1
          },
          "autotypenumbers": "strict",
          "coloraxis": {
           "colorbar": {
            "outlinewidth": 0,
            "ticks": ""
           }
          },
          "colorscale": {
           "diverging": [
            [
             0,
             "#8e0152"
            ],
            [
             0.1,
             "#c51b7d"
            ],
            [
             0.2,
             "#de77ae"
            ],
            [
             0.3,
             "#f1b6da"
            ],
            [
             0.4,
             "#fde0ef"
            ],
            [
             0.5,
             "#f7f7f7"
            ],
            [
             0.6,
             "#e6f5d0"
            ],
            [
             0.7,
             "#b8e186"
            ],
            [
             0.8,
             "#7fbc41"
            ],
            [
             0.9,
             "#4d9221"
            ],
            [
             1,
             "#276419"
            ]
           ],
           "sequential": [
            [
             0,
             "#0d0887"
            ],
            [
             0.1111111111111111,
             "#46039f"
            ],
            [
             0.2222222222222222,
             "#7201a8"
            ],
            [
             0.3333333333333333,
             "#9c179e"
            ],
            [
             0.4444444444444444,
             "#bd3786"
            ],
            [
             0.5555555555555556,
             "#d8576b"
            ],
            [
             0.6666666666666666,
             "#ed7953"
            ],
            [
             0.7777777777777778,
             "#fb9f3a"
            ],
            [
             0.8888888888888888,
             "#fdca26"
            ],
            [
             1,
             "#f0f921"
            ]
           ],
           "sequentialminus": [
            [
             0,
             "#0d0887"
            ],
            [
             0.1111111111111111,
             "#46039f"
            ],
            [
             0.2222222222222222,
             "#7201a8"
            ],
            [
             0.3333333333333333,
             "#9c179e"
            ],
            [
             0.4444444444444444,
             "#bd3786"
            ],
            [
             0.5555555555555556,
             "#d8576b"
            ],
            [
             0.6666666666666666,
             "#ed7953"
            ],
            [
             0.7777777777777778,
             "#fb9f3a"
            ],
            [
             0.8888888888888888,
             "#fdca26"
            ],
            [
             1,
             "#f0f921"
            ]
           ]
          },
          "colorway": [
           "#636efa",
           "#EF553B",
           "#00cc96",
           "#ab63fa",
           "#FFA15A",
           "#19d3f3",
           "#FF6692",
           "#B6E880",
           "#FF97FF",
           "#FECB52"
          ],
          "font": {
           "color": "#2a3f5f"
          },
          "geo": {
           "bgcolor": "white",
           "lakecolor": "white",
           "landcolor": "#E5ECF6",
           "showlakes": true,
           "showland": true,
           "subunitcolor": "white"
          },
          "hoverlabel": {
           "align": "left"
          },
          "hovermode": "closest",
          "mapbox": {
           "style": "light"
          },
          "paper_bgcolor": "white",
          "plot_bgcolor": "#E5ECF6",
          "polar": {
           "angularaxis": {
            "gridcolor": "white",
            "linecolor": "white",
            "ticks": ""
           },
           "bgcolor": "#E5ECF6",
           "radialaxis": {
            "gridcolor": "white",
            "linecolor": "white",
            "ticks": ""
           }
          },
          "scene": {
           "xaxis": {
            "backgroundcolor": "#E5ECF6",
            "gridcolor": "white",
            "gridwidth": 2,
            "linecolor": "white",
            "showbackground": true,
            "ticks": "",
            "zerolinecolor": "white"
           },
           "yaxis": {
            "backgroundcolor": "#E5ECF6",
            "gridcolor": "white",
            "gridwidth": 2,
            "linecolor": "white",
            "showbackground": true,
            "ticks": "",
            "zerolinecolor": "white"
           },
           "zaxis": {
            "backgroundcolor": "#E5ECF6",
            "gridcolor": "white",
            "gridwidth": 2,
            "linecolor": "white",
            "showbackground": true,
            "ticks": "",
            "zerolinecolor": "white"
           }
          },
          "shapedefaults": {
           "line": {
            "color": "#2a3f5f"
           }
          },
          "ternary": {
           "aaxis": {
            "gridcolor": "white",
            "linecolor": "white",
            "ticks": ""
           },
           "baxis": {
            "gridcolor": "white",
            "linecolor": "white",
            "ticks": ""
           },
           "bgcolor": "#E5ECF6",
           "caxis": {
            "gridcolor": "white",
            "linecolor": "white",
            "ticks": ""
           }
          },
          "title": {
           "x": 0.05
          },
          "xaxis": {
           "automargin": true,
           "gridcolor": "white",
           "linecolor": "white",
           "ticks": "",
           "title": {
            "standoff": 15
           },
           "zerolinecolor": "white",
           "zerolinewidth": 2
          },
          "yaxis": {
           "automargin": true,
           "gridcolor": "white",
           "linecolor": "white",
           "ticks": "",
           "title": {
            "standoff": 15
           },
           "zerolinecolor": "white",
           "zerolinewidth": 2
          }
         }
        },
        "title": {
         "text": "Top Cuisines Distribution"
        },
        "width": 1000
       }
      },
      "text/html": [
       "<div>                            <div id=\"26c8e207-5e2e-43d2-a4b9-44f139dd819e\" class=\"plotly-graph-div\" style=\"height:800px; width:1000px;\"></div>            <script type=\"text/javascript\">                require([\"plotly\"], function(Plotly) {                    window.PLOTLYENV=window.PLOTLYENV || {};                                    if (document.getElementById(\"26c8e207-5e2e-43d2-a4b9-44f139dd819e\")) {                    Plotly.newPlot(                        \"26c8e207-5e2e-43d2-a4b9-44f139dd819e\",                        [{\"domain\":{\"x\":[0.0,1.0],\"y\":[0.0,1.0]},\"hovertemplate\":\"label=%{label}<br>value=%{value}<extra></extra>\",\"labels\":[\"Chinese\",\"North Indian\",\"Fast Food\",\"South Indian\",\"Beverages\",\"Biryani\",\"Desserts\",\"Bakery\",\"Street Food\",\"Ice Cream\",\"Sandwich\",\"Chettinad\",\"Italian\",\"Pizza\",\"Juices\",\"Burger\",\"Mithai\",\"Seafood\",\"Continental\",\"Arabian\"],\"legendgroup\":\"\",\"name\":\"\",\"showlegend\":true,\"values\":[3571,3315,3183,3099,2465,1881,1376,939,897,812,708,646,456,453,406,380,342,332,331,327],\"type\":\"pie\"}],                        {\"template\":{\"data\":{\"bar\":[{\"error_x\":{\"color\":\"#2a3f5f\"},\"error_y\":{\"color\":\"#2a3f5f\"},\"marker\":{\"line\":{\"color\":\"#E5ECF6\",\"width\":0.5},\"pattern\":{\"fillmode\":\"overlay\",\"size\":10,\"solidity\":0.2}},\"type\":\"bar\"}],\"barpolar\":[{\"marker\":{\"line\":{\"color\":\"#E5ECF6\",\"width\":0.5},\"pattern\":{\"fillmode\":\"overlay\",\"size\":10,\"solidity\":0.2}},\"type\":\"barpolar\"}],\"carpet\":[{\"aaxis\":{\"endlinecolor\":\"#2a3f5f\",\"gridcolor\":\"white\",\"linecolor\":\"white\",\"minorgridcolor\":\"white\",\"startlinecolor\":\"#2a3f5f\"},\"baxis\":{\"endlinecolor\":\"#2a3f5f\",\"gridcolor\":\"white\",\"linecolor\":\"white\",\"minorgridcolor\":\"white\",\"startlinecolor\":\"#2a3f5f\"},\"type\":\"carpet\"}],\"choropleth\":[{\"colorbar\":{\"outlinewidth\":0,\"ticks\":\"\"},\"type\":\"choropleth\"}],\"contour\":[{\"colorbar\":{\"outlinewidth\":0,\"ticks\":\"\"},\"colorscale\":[[0.0,\"#0d0887\"],[0.1111111111111111,\"#46039f\"],[0.2222222222222222,\"#7201a8\"],[0.3333333333333333,\"#9c179e\"],[0.4444444444444444,\"#bd3786\"],[0.5555555555555556,\"#d8576b\"],[0.6666666666666666,\"#ed7953\"],[0.7777777777777778,\"#fb9f3a\"],[0.8888888888888888,\"#fdca26\"],[1.0,\"#f0f921\"]],\"type\":\"contour\"}],\"contourcarpet\":[{\"colorbar\":{\"outlinewidth\":0,\"ticks\":\"\"},\"type\":\"contourcarpet\"}],\"heatmap\":[{\"colorbar\":{\"outlinewidth\":0,\"ticks\":\"\"},\"colorscale\":[[0.0,\"#0d0887\"],[0.1111111111111111,\"#46039f\"],[0.2222222222222222,\"#7201a8\"],[0.3333333333333333,\"#9c179e\"],[0.4444444444444444,\"#bd3786\"],[0.5555555555555556,\"#d8576b\"],[0.6666666666666666,\"#ed7953\"],[0.7777777777777778,\"#fb9f3a\"],[0.8888888888888888,\"#fdca26\"],[1.0,\"#f0f921\"]],\"type\":\"heatmap\"}],\"heatmapgl\":[{\"colorbar\":{\"outlinewidth\":0,\"ticks\":\"\"},\"colorscale\":[[0.0,\"#0d0887\"],[0.1111111111111111,\"#46039f\"],[0.2222222222222222,\"#7201a8\"],[0.3333333333333333,\"#9c179e\"],[0.4444444444444444,\"#bd3786\"],[0.5555555555555556,\"#d8576b\"],[0.6666666666666666,\"#ed7953\"],[0.7777777777777778,\"#fb9f3a\"],[0.8888888888888888,\"#fdca26\"],[1.0,\"#f0f921\"]],\"type\":\"heatmapgl\"}],\"histogram\":[{\"marker\":{\"pattern\":{\"fillmode\":\"overlay\",\"size\":10,\"solidity\":0.2}},\"type\":\"histogram\"}],\"histogram2d\":[{\"colorbar\":{\"outlinewidth\":0,\"ticks\":\"\"},\"colorscale\":[[0.0,\"#0d0887\"],[0.1111111111111111,\"#46039f\"],[0.2222222222222222,\"#7201a8\"],[0.3333333333333333,\"#9c179e\"],[0.4444444444444444,\"#bd3786\"],[0.5555555555555556,\"#d8576b\"],[0.6666666666666666,\"#ed7953\"],[0.7777777777777778,\"#fb9f3a\"],[0.8888888888888888,\"#fdca26\"],[1.0,\"#f0f921\"]],\"type\":\"histogram2d\"}],\"histogram2dcontour\":[{\"colorbar\":{\"outlinewidth\":0,\"ticks\":\"\"},\"colorscale\":[[0.0,\"#0d0887\"],[0.1111111111111111,\"#46039f\"],[0.2222222222222222,\"#7201a8\"],[0.3333333333333333,\"#9c179e\"],[0.4444444444444444,\"#bd3786\"],[0.5555555555555556,\"#d8576b\"],[0.6666666666666666,\"#ed7953\"],[0.7777777777777778,\"#fb9f3a\"],[0.8888888888888888,\"#fdca26\"],[1.0,\"#f0f921\"]],\"type\":\"histogram2dcontour\"}],\"mesh3d\":[{\"colorbar\":{\"outlinewidth\":0,\"ticks\":\"\"},\"type\":\"mesh3d\"}],\"parcoords\":[{\"line\":{\"colorbar\":{\"outlinewidth\":0,\"ticks\":\"\"}},\"type\":\"parcoords\"}],\"pie\":[{\"automargin\":true,\"type\":\"pie\"}],\"scatter\":[{\"marker\":{\"colorbar\":{\"outlinewidth\":0,\"ticks\":\"\"}},\"type\":\"scatter\"}],\"scatter3d\":[{\"line\":{\"colorbar\":{\"outlinewidth\":0,\"ticks\":\"\"}},\"marker\":{\"colorbar\":{\"outlinewidth\":0,\"ticks\":\"\"}},\"type\":\"scatter3d\"}],\"scattercarpet\":[{\"marker\":{\"colorbar\":{\"outlinewidth\":0,\"ticks\":\"\"}},\"type\":\"scattercarpet\"}],\"scattergeo\":[{\"marker\":{\"colorbar\":{\"outlinewidth\":0,\"ticks\":\"\"}},\"type\":\"scattergeo\"}],\"scattergl\":[{\"marker\":{\"colorbar\":{\"outlinewidth\":0,\"ticks\":\"\"}},\"type\":\"scattergl\"}],\"scattermapbox\":[{\"marker\":{\"colorbar\":{\"outlinewidth\":0,\"ticks\":\"\"}},\"type\":\"scattermapbox\"}],\"scatterpolar\":[{\"marker\":{\"colorbar\":{\"outlinewidth\":0,\"ticks\":\"\"}},\"type\":\"scatterpolar\"}],\"scatterpolargl\":[{\"marker\":{\"colorbar\":{\"outlinewidth\":0,\"ticks\":\"\"}},\"type\":\"scatterpolargl\"}],\"scatterternary\":[{\"marker\":{\"colorbar\":{\"outlinewidth\":0,\"ticks\":\"\"}},\"type\":\"scatterternary\"}],\"surface\":[{\"colorbar\":{\"outlinewidth\":0,\"ticks\":\"\"},\"colorscale\":[[0.0,\"#0d0887\"],[0.1111111111111111,\"#46039f\"],[0.2222222222222222,\"#7201a8\"],[0.3333333333333333,\"#9c179e\"],[0.4444444444444444,\"#bd3786\"],[0.5555555555555556,\"#d8576b\"],[0.6666666666666666,\"#ed7953\"],[0.7777777777777778,\"#fb9f3a\"],[0.8888888888888888,\"#fdca26\"],[1.0,\"#f0f921\"]],\"type\":\"surface\"}],\"table\":[{\"cells\":{\"fill\":{\"color\":\"#EBF0F8\"},\"line\":{\"color\":\"white\"}},\"header\":{\"fill\":{\"color\":\"#C8D4E3\"},\"line\":{\"color\":\"white\"}},\"type\":\"table\"}]},\"layout\":{\"annotationdefaults\":{\"arrowcolor\":\"#2a3f5f\",\"arrowhead\":0,\"arrowwidth\":1},\"autotypenumbers\":\"strict\",\"coloraxis\":{\"colorbar\":{\"outlinewidth\":0,\"ticks\":\"\"}},\"colorscale\":{\"diverging\":[[0,\"#8e0152\"],[0.1,\"#c51b7d\"],[0.2,\"#de77ae\"],[0.3,\"#f1b6da\"],[0.4,\"#fde0ef\"],[0.5,\"#f7f7f7\"],[0.6,\"#e6f5d0\"],[0.7,\"#b8e186\"],[0.8,\"#7fbc41\"],[0.9,\"#4d9221\"],[1,\"#276419\"]],\"sequential\":[[0.0,\"#0d0887\"],[0.1111111111111111,\"#46039f\"],[0.2222222222222222,\"#7201a8\"],[0.3333333333333333,\"#9c179e\"],[0.4444444444444444,\"#bd3786\"],[0.5555555555555556,\"#d8576b\"],[0.6666666666666666,\"#ed7953\"],[0.7777777777777778,\"#fb9f3a\"],[0.8888888888888888,\"#fdca26\"],[1.0,\"#f0f921\"]],\"sequentialminus\":[[0.0,\"#0d0887\"],[0.1111111111111111,\"#46039f\"],[0.2222222222222222,\"#7201a8\"],[0.3333333333333333,\"#9c179e\"],[0.4444444444444444,\"#bd3786\"],[0.5555555555555556,\"#d8576b\"],[0.6666666666666666,\"#ed7953\"],[0.7777777777777778,\"#fb9f3a\"],[0.8888888888888888,\"#fdca26\"],[1.0,\"#f0f921\"]]},\"colorway\":[\"#636efa\",\"#EF553B\",\"#00cc96\",\"#ab63fa\",\"#FFA15A\",\"#19d3f3\",\"#FF6692\",\"#B6E880\",\"#FF97FF\",\"#FECB52\"],\"font\":{\"color\":\"#2a3f5f\"},\"geo\":{\"bgcolor\":\"white\",\"lakecolor\":\"white\",\"landcolor\":\"#E5ECF6\",\"showlakes\":true,\"showland\":true,\"subunitcolor\":\"white\"},\"hoverlabel\":{\"align\":\"left\"},\"hovermode\":\"closest\",\"mapbox\":{\"style\":\"light\"},\"paper_bgcolor\":\"white\",\"plot_bgcolor\":\"#E5ECF6\",\"polar\":{\"angularaxis\":{\"gridcolor\":\"white\",\"linecolor\":\"white\",\"ticks\":\"\"},\"bgcolor\":\"#E5ECF6\",\"radialaxis\":{\"gridcolor\":\"white\",\"linecolor\":\"white\",\"ticks\":\"\"}},\"scene\":{\"xaxis\":{\"backgroundcolor\":\"#E5ECF6\",\"gridcolor\":\"white\",\"gridwidth\":2,\"linecolor\":\"white\",\"showbackground\":true,\"ticks\":\"\",\"zerolinecolor\":\"white\"},\"yaxis\":{\"backgroundcolor\":\"#E5ECF6\",\"gridcolor\":\"white\",\"gridwidth\":2,\"linecolor\":\"white\",\"showbackground\":true,\"ticks\":\"\",\"zerolinecolor\":\"white\"},\"zaxis\":{\"backgroundcolor\":\"#E5ECF6\",\"gridcolor\":\"white\",\"gridwidth\":2,\"linecolor\":\"white\",\"showbackground\":true,\"ticks\":\"\",\"zerolinecolor\":\"white\"}},\"shapedefaults\":{\"line\":{\"color\":\"#2a3f5f\"}},\"ternary\":{\"aaxis\":{\"gridcolor\":\"white\",\"linecolor\":\"white\",\"ticks\":\"\"},\"baxis\":{\"gridcolor\":\"white\",\"linecolor\":\"white\",\"ticks\":\"\"},\"bgcolor\":\"#E5ECF6\",\"caxis\":{\"gridcolor\":\"white\",\"linecolor\":\"white\",\"ticks\":\"\"}},\"title\":{\"x\":0.05},\"xaxis\":{\"automargin\":true,\"gridcolor\":\"white\",\"linecolor\":\"white\",\"ticks\":\"\",\"title\":{\"standoff\":15},\"zerolinecolor\":\"white\",\"zerolinewidth\":2},\"yaxis\":{\"automargin\":true,\"gridcolor\":\"white\",\"linecolor\":\"white\",\"ticks\":\"\",\"title\":{\"standoff\":15},\"zerolinecolor\":\"white\",\"zerolinewidth\":2}}},\"legend\":{\"tracegroupgap\":0},\"title\":{\"text\":\"Top Cuisines Distribution\"},\"width\":1000,\"height\":800},                        {\"responsive\": true}                    ).then(function(){\n",
       "                            \n",
       "var gd = document.getElementById('26c8e207-5e2e-43d2-a4b9-44f139dd819e');\n",
       "var x = new MutationObserver(function (mutations, observer) {{\n",
       "        var display = window.getComputedStyle(gd).display;\n",
       "        if (!display || display === 'none') {{\n",
       "            console.log([gd, 'removed!']);\n",
       "            Plotly.purge(gd);\n",
       "            observer.disconnect();\n",
       "        }}\n",
       "}});\n",
       "\n",
       "// Listen for the removal of the full notebook cells\n",
       "var notebookContainer = gd.closest('#notebook-container');\n",
       "if (notebookContainer) {{\n",
       "    x.observe(notebookContainer, {childList: true});\n",
       "}}\n",
       "\n",
       "// Listen for the clearing of the current output cell\n",
       "var outputEl = gd.closest('.output');\n",
       "if (outputEl) {{\n",
       "    x.observe(outputEl, {childList: true});\n",
       "}}\n",
       "\n",
       "                        })                };                });            </script>        </div>"
      ]
     },
     "metadata": {},
     "output_type": "display_data"
    }
   ],
   "source": [
    "top_cusines_dict, top_cuisine_df = count_data(\"Cuisine\", zomato_data)\n",
    "labels = top_cuisine_df['index'][0:20]  # Cuisine names\n",
    "sizes = top_cuisine_df['Count'][0:20]    # Count of each cuisine\n",
    "\n",
    "#Plotting Pie chart\n",
    "fig = px.pie(names=labels, values=sizes, title='Top Cuisines Distribution')\n",
    "fig.update_layout(width=1000, height=800)\n",
    "\n",
    "# Show the chart\n",
    "fig.show()"
   ]
  },
  {
   "cell_type": "markdown",
   "id": "f9a1084d",
   "metadata": {},
   "source": [
    "### Top Dishes"
   ]
  },
  {
   "cell_type": "code",
   "execution_count": 259,
   "id": "7bb690a8",
   "metadata": {},
   "outputs": [
    {
     "data": {
      "application/vnd.plotly.v1+json": {
       "config": {
        "plotlyServerURL": "https://plot.ly"
       },
       "data": [
        {
         "domain": {
          "x": [
           0,
           1
          ],
          "y": [
           0,
           1
          ]
         },
         "hovertemplate": "label=%{label}<br>value=%{value}<extra></extra>",
         "labels": [
          "Biryani",
          "Pasta",
          "Paratha",
          "Pizza",
          "Sandwich",
          "Chicken Grill",
          "Burgers",
          "Coffee",
          "Fish",
          "Brownie",
          "Mutton Biryani",
          "Tandoori Chicken",
          "Noodle",
          "Naan",
          "Chicken Biryani",
          "Chaat",
          "Fries",
          "Salad",
          "Shawarma",
          "Momos"
         ],
         "legendgroup": "",
         "name": "",
         "showlegend": true,
         "type": "pie",
         "values": [
          261,
          248,
          242,
          220,
          194,
          182,
          182,
          168,
          161,
          151,
          144,
          143,
          136,
          124,
          120,
          112,
          112,
          111,
          109,
          102
         ]
        }
       ],
       "layout": {
        "height": 800,
        "legend": {
         "tracegroupgap": 0
        },
        "template": {
         "data": {
          "bar": [
           {
            "error_x": {
             "color": "#2a3f5f"
            },
            "error_y": {
             "color": "#2a3f5f"
            },
            "marker": {
             "line": {
              "color": "#E5ECF6",
              "width": 0.5
             },
             "pattern": {
              "fillmode": "overlay",
              "size": 10,
              "solidity": 0.2
             }
            },
            "type": "bar"
           }
          ],
          "barpolar": [
           {
            "marker": {
             "line": {
              "color": "#E5ECF6",
              "width": 0.5
             },
             "pattern": {
              "fillmode": "overlay",
              "size": 10,
              "solidity": 0.2
             }
            },
            "type": "barpolar"
           }
          ],
          "carpet": [
           {
            "aaxis": {
             "endlinecolor": "#2a3f5f",
             "gridcolor": "white",
             "linecolor": "white",
             "minorgridcolor": "white",
             "startlinecolor": "#2a3f5f"
            },
            "baxis": {
             "endlinecolor": "#2a3f5f",
             "gridcolor": "white",
             "linecolor": "white",
             "minorgridcolor": "white",
             "startlinecolor": "#2a3f5f"
            },
            "type": "carpet"
           }
          ],
          "choropleth": [
           {
            "colorbar": {
             "outlinewidth": 0,
             "ticks": ""
            },
            "type": "choropleth"
           }
          ],
          "contour": [
           {
            "colorbar": {
             "outlinewidth": 0,
             "ticks": ""
            },
            "colorscale": [
             [
              0,
              "#0d0887"
             ],
             [
              0.1111111111111111,
              "#46039f"
             ],
             [
              0.2222222222222222,
              "#7201a8"
             ],
             [
              0.3333333333333333,
              "#9c179e"
             ],
             [
              0.4444444444444444,
              "#bd3786"
             ],
             [
              0.5555555555555556,
              "#d8576b"
             ],
             [
              0.6666666666666666,
              "#ed7953"
             ],
             [
              0.7777777777777778,
              "#fb9f3a"
             ],
             [
              0.8888888888888888,
              "#fdca26"
             ],
             [
              1,
              "#f0f921"
             ]
            ],
            "type": "contour"
           }
          ],
          "contourcarpet": [
           {
            "colorbar": {
             "outlinewidth": 0,
             "ticks": ""
            },
            "type": "contourcarpet"
           }
          ],
          "heatmap": [
           {
            "colorbar": {
             "outlinewidth": 0,
             "ticks": ""
            },
            "colorscale": [
             [
              0,
              "#0d0887"
             ],
             [
              0.1111111111111111,
              "#46039f"
             ],
             [
              0.2222222222222222,
              "#7201a8"
             ],
             [
              0.3333333333333333,
              "#9c179e"
             ],
             [
              0.4444444444444444,
              "#bd3786"
             ],
             [
              0.5555555555555556,
              "#d8576b"
             ],
             [
              0.6666666666666666,
              "#ed7953"
             ],
             [
              0.7777777777777778,
              "#fb9f3a"
             ],
             [
              0.8888888888888888,
              "#fdca26"
             ],
             [
              1,
              "#f0f921"
             ]
            ],
            "type": "heatmap"
           }
          ],
          "heatmapgl": [
           {
            "colorbar": {
             "outlinewidth": 0,
             "ticks": ""
            },
            "colorscale": [
             [
              0,
              "#0d0887"
             ],
             [
              0.1111111111111111,
              "#46039f"
             ],
             [
              0.2222222222222222,
              "#7201a8"
             ],
             [
              0.3333333333333333,
              "#9c179e"
             ],
             [
              0.4444444444444444,
              "#bd3786"
             ],
             [
              0.5555555555555556,
              "#d8576b"
             ],
             [
              0.6666666666666666,
              "#ed7953"
             ],
             [
              0.7777777777777778,
              "#fb9f3a"
             ],
             [
              0.8888888888888888,
              "#fdca26"
             ],
             [
              1,
              "#f0f921"
             ]
            ],
            "type": "heatmapgl"
           }
          ],
          "histogram": [
           {
            "marker": {
             "pattern": {
              "fillmode": "overlay",
              "size": 10,
              "solidity": 0.2
             }
            },
            "type": "histogram"
           }
          ],
          "histogram2d": [
           {
            "colorbar": {
             "outlinewidth": 0,
             "ticks": ""
            },
            "colorscale": [
             [
              0,
              "#0d0887"
             ],
             [
              0.1111111111111111,
              "#46039f"
             ],
             [
              0.2222222222222222,
              "#7201a8"
             ],
             [
              0.3333333333333333,
              "#9c179e"
             ],
             [
              0.4444444444444444,
              "#bd3786"
             ],
             [
              0.5555555555555556,
              "#d8576b"
             ],
             [
              0.6666666666666666,
              "#ed7953"
             ],
             [
              0.7777777777777778,
              "#fb9f3a"
             ],
             [
              0.8888888888888888,
              "#fdca26"
             ],
             [
              1,
              "#f0f921"
             ]
            ],
            "type": "histogram2d"
           }
          ],
          "histogram2dcontour": [
           {
            "colorbar": {
             "outlinewidth": 0,
             "ticks": ""
            },
            "colorscale": [
             [
              0,
              "#0d0887"
             ],
             [
              0.1111111111111111,
              "#46039f"
             ],
             [
              0.2222222222222222,
              "#7201a8"
             ],
             [
              0.3333333333333333,
              "#9c179e"
             ],
             [
              0.4444444444444444,
              "#bd3786"
             ],
             [
              0.5555555555555556,
              "#d8576b"
             ],
             [
              0.6666666666666666,
              "#ed7953"
             ],
             [
              0.7777777777777778,
              "#fb9f3a"
             ],
             [
              0.8888888888888888,
              "#fdca26"
             ],
             [
              1,
              "#f0f921"
             ]
            ],
            "type": "histogram2dcontour"
           }
          ],
          "mesh3d": [
           {
            "colorbar": {
             "outlinewidth": 0,
             "ticks": ""
            },
            "type": "mesh3d"
           }
          ],
          "parcoords": [
           {
            "line": {
             "colorbar": {
              "outlinewidth": 0,
              "ticks": ""
             }
            },
            "type": "parcoords"
           }
          ],
          "pie": [
           {
            "automargin": true,
            "type": "pie"
           }
          ],
          "scatter": [
           {
            "marker": {
             "colorbar": {
              "outlinewidth": 0,
              "ticks": ""
             }
            },
            "type": "scatter"
           }
          ],
          "scatter3d": [
           {
            "line": {
             "colorbar": {
              "outlinewidth": 0,
              "ticks": ""
             }
            },
            "marker": {
             "colorbar": {
              "outlinewidth": 0,
              "ticks": ""
             }
            },
            "type": "scatter3d"
           }
          ],
          "scattercarpet": [
           {
            "marker": {
             "colorbar": {
              "outlinewidth": 0,
              "ticks": ""
             }
            },
            "type": "scattercarpet"
           }
          ],
          "scattergeo": [
           {
            "marker": {
             "colorbar": {
              "outlinewidth": 0,
              "ticks": ""
             }
            },
            "type": "scattergeo"
           }
          ],
          "scattergl": [
           {
            "marker": {
             "colorbar": {
              "outlinewidth": 0,
              "ticks": ""
             }
            },
            "type": "scattergl"
           }
          ],
          "scattermapbox": [
           {
            "marker": {
             "colorbar": {
              "outlinewidth": 0,
              "ticks": ""
             }
            },
            "type": "scattermapbox"
           }
          ],
          "scatterpolar": [
           {
            "marker": {
             "colorbar": {
              "outlinewidth": 0,
              "ticks": ""
             }
            },
            "type": "scatterpolar"
           }
          ],
          "scatterpolargl": [
           {
            "marker": {
             "colorbar": {
              "outlinewidth": 0,
              "ticks": ""
             }
            },
            "type": "scatterpolargl"
           }
          ],
          "scatterternary": [
           {
            "marker": {
             "colorbar": {
              "outlinewidth": 0,
              "ticks": ""
             }
            },
            "type": "scatterternary"
           }
          ],
          "surface": [
           {
            "colorbar": {
             "outlinewidth": 0,
             "ticks": ""
            },
            "colorscale": [
             [
              0,
              "#0d0887"
             ],
             [
              0.1111111111111111,
              "#46039f"
             ],
             [
              0.2222222222222222,
              "#7201a8"
             ],
             [
              0.3333333333333333,
              "#9c179e"
             ],
             [
              0.4444444444444444,
              "#bd3786"
             ],
             [
              0.5555555555555556,
              "#d8576b"
             ],
             [
              0.6666666666666666,
              "#ed7953"
             ],
             [
              0.7777777777777778,
              "#fb9f3a"
             ],
             [
              0.8888888888888888,
              "#fdca26"
             ],
             [
              1,
              "#f0f921"
             ]
            ],
            "type": "surface"
           }
          ],
          "table": [
           {
            "cells": {
             "fill": {
              "color": "#EBF0F8"
             },
             "line": {
              "color": "white"
             }
            },
            "header": {
             "fill": {
              "color": "#C8D4E3"
             },
             "line": {
              "color": "white"
             }
            },
            "type": "table"
           }
          ]
         },
         "layout": {
          "annotationdefaults": {
           "arrowcolor": "#2a3f5f",
           "arrowhead": 0,
           "arrowwidth": 1
          },
          "autotypenumbers": "strict",
          "coloraxis": {
           "colorbar": {
            "outlinewidth": 0,
            "ticks": ""
           }
          },
          "colorscale": {
           "diverging": [
            [
             0,
             "#8e0152"
            ],
            [
             0.1,
             "#c51b7d"
            ],
            [
             0.2,
             "#de77ae"
            ],
            [
             0.3,
             "#f1b6da"
            ],
            [
             0.4,
             "#fde0ef"
            ],
            [
             0.5,
             "#f7f7f7"
            ],
            [
             0.6,
             "#e6f5d0"
            ],
            [
             0.7,
             "#b8e186"
            ],
            [
             0.8,
             "#7fbc41"
            ],
            [
             0.9,
             "#4d9221"
            ],
            [
             1,
             "#276419"
            ]
           ],
           "sequential": [
            [
             0,
             "#0d0887"
            ],
            [
             0.1111111111111111,
             "#46039f"
            ],
            [
             0.2222222222222222,
             "#7201a8"
            ],
            [
             0.3333333333333333,
             "#9c179e"
            ],
            [
             0.4444444444444444,
             "#bd3786"
            ],
            [
             0.5555555555555556,
             "#d8576b"
            ],
            [
             0.6666666666666666,
             "#ed7953"
            ],
            [
             0.7777777777777778,
             "#fb9f3a"
            ],
            [
             0.8888888888888888,
             "#fdca26"
            ],
            [
             1,
             "#f0f921"
            ]
           ],
           "sequentialminus": [
            [
             0,
             "#0d0887"
            ],
            [
             0.1111111111111111,
             "#46039f"
            ],
            [
             0.2222222222222222,
             "#7201a8"
            ],
            [
             0.3333333333333333,
             "#9c179e"
            ],
            [
             0.4444444444444444,
             "#bd3786"
            ],
            [
             0.5555555555555556,
             "#d8576b"
            ],
            [
             0.6666666666666666,
             "#ed7953"
            ],
            [
             0.7777777777777778,
             "#fb9f3a"
            ],
            [
             0.8888888888888888,
             "#fdca26"
            ],
            [
             1,
             "#f0f921"
            ]
           ]
          },
          "colorway": [
           "#636efa",
           "#EF553B",
           "#00cc96",
           "#ab63fa",
           "#FFA15A",
           "#19d3f3",
           "#FF6692",
           "#B6E880",
           "#FF97FF",
           "#FECB52"
          ],
          "font": {
           "color": "#2a3f5f"
          },
          "geo": {
           "bgcolor": "white",
           "lakecolor": "white",
           "landcolor": "#E5ECF6",
           "showlakes": true,
           "showland": true,
           "subunitcolor": "white"
          },
          "hoverlabel": {
           "align": "left"
          },
          "hovermode": "closest",
          "mapbox": {
           "style": "light"
          },
          "paper_bgcolor": "white",
          "plot_bgcolor": "#E5ECF6",
          "polar": {
           "angularaxis": {
            "gridcolor": "white",
            "linecolor": "white",
            "ticks": ""
           },
           "bgcolor": "#E5ECF6",
           "radialaxis": {
            "gridcolor": "white",
            "linecolor": "white",
            "ticks": ""
           }
          },
          "scene": {
           "xaxis": {
            "backgroundcolor": "#E5ECF6",
            "gridcolor": "white",
            "gridwidth": 2,
            "linecolor": "white",
            "showbackground": true,
            "ticks": "",
            "zerolinecolor": "white"
           },
           "yaxis": {
            "backgroundcolor": "#E5ECF6",
            "gridcolor": "white",
            "gridwidth": 2,
            "linecolor": "white",
            "showbackground": true,
            "ticks": "",
            "zerolinecolor": "white"
           },
           "zaxis": {
            "backgroundcolor": "#E5ECF6",
            "gridcolor": "white",
            "gridwidth": 2,
            "linecolor": "white",
            "showbackground": true,
            "ticks": "",
            "zerolinecolor": "white"
           }
          },
          "shapedefaults": {
           "line": {
            "color": "#2a3f5f"
           }
          },
          "ternary": {
           "aaxis": {
            "gridcolor": "white",
            "linecolor": "white",
            "ticks": ""
           },
           "baxis": {
            "gridcolor": "white",
            "linecolor": "white",
            "ticks": ""
           },
           "bgcolor": "#E5ECF6",
           "caxis": {
            "gridcolor": "white",
            "linecolor": "white",
            "ticks": ""
           }
          },
          "title": {
           "x": 0.05
          },
          "xaxis": {
           "automargin": true,
           "gridcolor": "white",
           "linecolor": "white",
           "ticks": "",
           "title": {
            "standoff": 15
           },
           "zerolinecolor": "white",
           "zerolinewidth": 2
          },
          "yaxis": {
           "automargin": true,
           "gridcolor": "white",
           "linecolor": "white",
           "ticks": "",
           "title": {
            "standoff": 15
           },
           "zerolinecolor": "white",
           "zerolinewidth": 2
          }
         }
        },
        "title": {
         "text": "Top Dishes Distribution"
        },
        "width": 1000
       }
      },
      "text/html": [
       "<div>                            <div id=\"bce8fe60-f346-4aaf-aa08-77c476a047df\" class=\"plotly-graph-div\" style=\"height:800px; width:1000px;\"></div>            <script type=\"text/javascript\">                require([\"plotly\"], function(Plotly) {                    window.PLOTLYENV=window.PLOTLYENV || {};                                    if (document.getElementById(\"bce8fe60-f346-4aaf-aa08-77c476a047df\")) {                    Plotly.newPlot(                        \"bce8fe60-f346-4aaf-aa08-77c476a047df\",                        [{\"domain\":{\"x\":[0.0,1.0],\"y\":[0.0,1.0]},\"hovertemplate\":\"label=%{label}<br>value=%{value}<extra></extra>\",\"labels\":[\"Biryani\",\"Pasta\",\"Paratha\",\"Pizza\",\"Sandwich\",\"Chicken Grill\",\"Burgers\",\"Coffee\",\"Fish\",\"Brownie\",\"Mutton Biryani\",\"Tandoori Chicken\",\"Noodle\",\"Naan\",\"Chicken Biryani\",\"Chaat\",\"Fries\",\"Salad\",\"Shawarma\",\"Momos\"],\"legendgroup\":\"\",\"name\":\"\",\"showlegend\":true,\"values\":[261,248,242,220,194,182,182,168,161,151,144,143,136,124,120,112,112,111,109,102],\"type\":\"pie\"}],                        {\"template\":{\"data\":{\"bar\":[{\"error_x\":{\"color\":\"#2a3f5f\"},\"error_y\":{\"color\":\"#2a3f5f\"},\"marker\":{\"line\":{\"color\":\"#E5ECF6\",\"width\":0.5},\"pattern\":{\"fillmode\":\"overlay\",\"size\":10,\"solidity\":0.2}},\"type\":\"bar\"}],\"barpolar\":[{\"marker\":{\"line\":{\"color\":\"#E5ECF6\",\"width\":0.5},\"pattern\":{\"fillmode\":\"overlay\",\"size\":10,\"solidity\":0.2}},\"type\":\"barpolar\"}],\"carpet\":[{\"aaxis\":{\"endlinecolor\":\"#2a3f5f\",\"gridcolor\":\"white\",\"linecolor\":\"white\",\"minorgridcolor\":\"white\",\"startlinecolor\":\"#2a3f5f\"},\"baxis\":{\"endlinecolor\":\"#2a3f5f\",\"gridcolor\":\"white\",\"linecolor\":\"white\",\"minorgridcolor\":\"white\",\"startlinecolor\":\"#2a3f5f\"},\"type\":\"carpet\"}],\"choropleth\":[{\"colorbar\":{\"outlinewidth\":0,\"ticks\":\"\"},\"type\":\"choropleth\"}],\"contour\":[{\"colorbar\":{\"outlinewidth\":0,\"ticks\":\"\"},\"colorscale\":[[0.0,\"#0d0887\"],[0.1111111111111111,\"#46039f\"],[0.2222222222222222,\"#7201a8\"],[0.3333333333333333,\"#9c179e\"],[0.4444444444444444,\"#bd3786\"],[0.5555555555555556,\"#d8576b\"],[0.6666666666666666,\"#ed7953\"],[0.7777777777777778,\"#fb9f3a\"],[0.8888888888888888,\"#fdca26\"],[1.0,\"#f0f921\"]],\"type\":\"contour\"}],\"contourcarpet\":[{\"colorbar\":{\"outlinewidth\":0,\"ticks\":\"\"},\"type\":\"contourcarpet\"}],\"heatmap\":[{\"colorbar\":{\"outlinewidth\":0,\"ticks\":\"\"},\"colorscale\":[[0.0,\"#0d0887\"],[0.1111111111111111,\"#46039f\"],[0.2222222222222222,\"#7201a8\"],[0.3333333333333333,\"#9c179e\"],[0.4444444444444444,\"#bd3786\"],[0.5555555555555556,\"#d8576b\"],[0.6666666666666666,\"#ed7953\"],[0.7777777777777778,\"#fb9f3a\"],[0.8888888888888888,\"#fdca26\"],[1.0,\"#f0f921\"]],\"type\":\"heatmap\"}],\"heatmapgl\":[{\"colorbar\":{\"outlinewidth\":0,\"ticks\":\"\"},\"colorscale\":[[0.0,\"#0d0887\"],[0.1111111111111111,\"#46039f\"],[0.2222222222222222,\"#7201a8\"],[0.3333333333333333,\"#9c179e\"],[0.4444444444444444,\"#bd3786\"],[0.5555555555555556,\"#d8576b\"],[0.6666666666666666,\"#ed7953\"],[0.7777777777777778,\"#fb9f3a\"],[0.8888888888888888,\"#fdca26\"],[1.0,\"#f0f921\"]],\"type\":\"heatmapgl\"}],\"histogram\":[{\"marker\":{\"pattern\":{\"fillmode\":\"overlay\",\"size\":10,\"solidity\":0.2}},\"type\":\"histogram\"}],\"histogram2d\":[{\"colorbar\":{\"outlinewidth\":0,\"ticks\":\"\"},\"colorscale\":[[0.0,\"#0d0887\"],[0.1111111111111111,\"#46039f\"],[0.2222222222222222,\"#7201a8\"],[0.3333333333333333,\"#9c179e\"],[0.4444444444444444,\"#bd3786\"],[0.5555555555555556,\"#d8576b\"],[0.6666666666666666,\"#ed7953\"],[0.7777777777777778,\"#fb9f3a\"],[0.8888888888888888,\"#fdca26\"],[1.0,\"#f0f921\"]],\"type\":\"histogram2d\"}],\"histogram2dcontour\":[{\"colorbar\":{\"outlinewidth\":0,\"ticks\":\"\"},\"colorscale\":[[0.0,\"#0d0887\"],[0.1111111111111111,\"#46039f\"],[0.2222222222222222,\"#7201a8\"],[0.3333333333333333,\"#9c179e\"],[0.4444444444444444,\"#bd3786\"],[0.5555555555555556,\"#d8576b\"],[0.6666666666666666,\"#ed7953\"],[0.7777777777777778,\"#fb9f3a\"],[0.8888888888888888,\"#fdca26\"],[1.0,\"#f0f921\"]],\"type\":\"histogram2dcontour\"}],\"mesh3d\":[{\"colorbar\":{\"outlinewidth\":0,\"ticks\":\"\"},\"type\":\"mesh3d\"}],\"parcoords\":[{\"line\":{\"colorbar\":{\"outlinewidth\":0,\"ticks\":\"\"}},\"type\":\"parcoords\"}],\"pie\":[{\"automargin\":true,\"type\":\"pie\"}],\"scatter\":[{\"marker\":{\"colorbar\":{\"outlinewidth\":0,\"ticks\":\"\"}},\"type\":\"scatter\"}],\"scatter3d\":[{\"line\":{\"colorbar\":{\"outlinewidth\":0,\"ticks\":\"\"}},\"marker\":{\"colorbar\":{\"outlinewidth\":0,\"ticks\":\"\"}},\"type\":\"scatter3d\"}],\"scattercarpet\":[{\"marker\":{\"colorbar\":{\"outlinewidth\":0,\"ticks\":\"\"}},\"type\":\"scattercarpet\"}],\"scattergeo\":[{\"marker\":{\"colorbar\":{\"outlinewidth\":0,\"ticks\":\"\"}},\"type\":\"scattergeo\"}],\"scattergl\":[{\"marker\":{\"colorbar\":{\"outlinewidth\":0,\"ticks\":\"\"}},\"type\":\"scattergl\"}],\"scattermapbox\":[{\"marker\":{\"colorbar\":{\"outlinewidth\":0,\"ticks\":\"\"}},\"type\":\"scattermapbox\"}],\"scatterpolar\":[{\"marker\":{\"colorbar\":{\"outlinewidth\":0,\"ticks\":\"\"}},\"type\":\"scatterpolar\"}],\"scatterpolargl\":[{\"marker\":{\"colorbar\":{\"outlinewidth\":0,\"ticks\":\"\"}},\"type\":\"scatterpolargl\"}],\"scatterternary\":[{\"marker\":{\"colorbar\":{\"outlinewidth\":0,\"ticks\":\"\"}},\"type\":\"scatterternary\"}],\"surface\":[{\"colorbar\":{\"outlinewidth\":0,\"ticks\":\"\"},\"colorscale\":[[0.0,\"#0d0887\"],[0.1111111111111111,\"#46039f\"],[0.2222222222222222,\"#7201a8\"],[0.3333333333333333,\"#9c179e\"],[0.4444444444444444,\"#bd3786\"],[0.5555555555555556,\"#d8576b\"],[0.6666666666666666,\"#ed7953\"],[0.7777777777777778,\"#fb9f3a\"],[0.8888888888888888,\"#fdca26\"],[1.0,\"#f0f921\"]],\"type\":\"surface\"}],\"table\":[{\"cells\":{\"fill\":{\"color\":\"#EBF0F8\"},\"line\":{\"color\":\"white\"}},\"header\":{\"fill\":{\"color\":\"#C8D4E3\"},\"line\":{\"color\":\"white\"}},\"type\":\"table\"}]},\"layout\":{\"annotationdefaults\":{\"arrowcolor\":\"#2a3f5f\",\"arrowhead\":0,\"arrowwidth\":1},\"autotypenumbers\":\"strict\",\"coloraxis\":{\"colorbar\":{\"outlinewidth\":0,\"ticks\":\"\"}},\"colorscale\":{\"diverging\":[[0,\"#8e0152\"],[0.1,\"#c51b7d\"],[0.2,\"#de77ae\"],[0.3,\"#f1b6da\"],[0.4,\"#fde0ef\"],[0.5,\"#f7f7f7\"],[0.6,\"#e6f5d0\"],[0.7,\"#b8e186\"],[0.8,\"#7fbc41\"],[0.9,\"#4d9221\"],[1,\"#276419\"]],\"sequential\":[[0.0,\"#0d0887\"],[0.1111111111111111,\"#46039f\"],[0.2222222222222222,\"#7201a8\"],[0.3333333333333333,\"#9c179e\"],[0.4444444444444444,\"#bd3786\"],[0.5555555555555556,\"#d8576b\"],[0.6666666666666666,\"#ed7953\"],[0.7777777777777778,\"#fb9f3a\"],[0.8888888888888888,\"#fdca26\"],[1.0,\"#f0f921\"]],\"sequentialminus\":[[0.0,\"#0d0887\"],[0.1111111111111111,\"#46039f\"],[0.2222222222222222,\"#7201a8\"],[0.3333333333333333,\"#9c179e\"],[0.4444444444444444,\"#bd3786\"],[0.5555555555555556,\"#d8576b\"],[0.6666666666666666,\"#ed7953\"],[0.7777777777777778,\"#fb9f3a\"],[0.8888888888888888,\"#fdca26\"],[1.0,\"#f0f921\"]]},\"colorway\":[\"#636efa\",\"#EF553B\",\"#00cc96\",\"#ab63fa\",\"#FFA15A\",\"#19d3f3\",\"#FF6692\",\"#B6E880\",\"#FF97FF\",\"#FECB52\"],\"font\":{\"color\":\"#2a3f5f\"},\"geo\":{\"bgcolor\":\"white\",\"lakecolor\":\"white\",\"landcolor\":\"#E5ECF6\",\"showlakes\":true,\"showland\":true,\"subunitcolor\":\"white\"},\"hoverlabel\":{\"align\":\"left\"},\"hovermode\":\"closest\",\"mapbox\":{\"style\":\"light\"},\"paper_bgcolor\":\"white\",\"plot_bgcolor\":\"#E5ECF6\",\"polar\":{\"angularaxis\":{\"gridcolor\":\"white\",\"linecolor\":\"white\",\"ticks\":\"\"},\"bgcolor\":\"#E5ECF6\",\"radialaxis\":{\"gridcolor\":\"white\",\"linecolor\":\"white\",\"ticks\":\"\"}},\"scene\":{\"xaxis\":{\"backgroundcolor\":\"#E5ECF6\",\"gridcolor\":\"white\",\"gridwidth\":2,\"linecolor\":\"white\",\"showbackground\":true,\"ticks\":\"\",\"zerolinecolor\":\"white\"},\"yaxis\":{\"backgroundcolor\":\"#E5ECF6\",\"gridcolor\":\"white\",\"gridwidth\":2,\"linecolor\":\"white\",\"showbackground\":true,\"ticks\":\"\",\"zerolinecolor\":\"white\"},\"zaxis\":{\"backgroundcolor\":\"#E5ECF6\",\"gridcolor\":\"white\",\"gridwidth\":2,\"linecolor\":\"white\",\"showbackground\":true,\"ticks\":\"\",\"zerolinecolor\":\"white\"}},\"shapedefaults\":{\"line\":{\"color\":\"#2a3f5f\"}},\"ternary\":{\"aaxis\":{\"gridcolor\":\"white\",\"linecolor\":\"white\",\"ticks\":\"\"},\"baxis\":{\"gridcolor\":\"white\",\"linecolor\":\"white\",\"ticks\":\"\"},\"bgcolor\":\"#E5ECF6\",\"caxis\":{\"gridcolor\":\"white\",\"linecolor\":\"white\",\"ticks\":\"\"}},\"title\":{\"x\":0.05},\"xaxis\":{\"automargin\":true,\"gridcolor\":\"white\",\"linecolor\":\"white\",\"ticks\":\"\",\"title\":{\"standoff\":15},\"zerolinecolor\":\"white\",\"zerolinewidth\":2},\"yaxis\":{\"automargin\":true,\"gridcolor\":\"white\",\"linecolor\":\"white\",\"ticks\":\"\",\"title\":{\"standoff\":15},\"zerolinecolor\":\"white\",\"zerolinewidth\":2}}},\"legend\":{\"tracegroupgap\":0},\"title\":{\"text\":\"Top Dishes Distribution\"},\"width\":1000,\"height\":800},                        {\"responsive\": true}                    ).then(function(){\n",
       "                            \n",
       "var gd = document.getElementById('bce8fe60-f346-4aaf-aa08-77c476a047df');\n",
       "var x = new MutationObserver(function (mutations, observer) {{\n",
       "        var display = window.getComputedStyle(gd).display;\n",
       "        if (!display || display === 'none') {{\n",
       "            console.log([gd, 'removed!']);\n",
       "            Plotly.purge(gd);\n",
       "            observer.disconnect();\n",
       "        }}\n",
       "}});\n",
       "\n",
       "// Listen for the removal of the full notebook cells\n",
       "var notebookContainer = gd.closest('#notebook-container');\n",
       "if (notebookContainer) {{\n",
       "    x.observe(notebookContainer, {childList: true});\n",
       "}}\n",
       "\n",
       "// Listen for the clearing of the current output cell\n",
       "var outputEl = gd.closest('.output');\n",
       "if (outputEl) {{\n",
       "    x.observe(outputEl, {childList: true});\n",
       "}}\n",
       "\n",
       "                        })                };                });            </script>        </div>"
      ]
     },
     "metadata": {},
     "output_type": "display_data"
    }
   ],
   "source": [
    "top_dishes_dict, top_dishes_df = count_data(\"Top Dishes\", zomato_data)\n",
    "labels = top_dishes_df['index'][0:20]  # Cuisine names\n",
    "sizes = top_dishes_df['Count'][0:20]    # Count of each cuisine\n",
    "\n",
    "fig = px.pie(names=labels, values=sizes, title='Top Dishes Distribution')\n",
    "fig.update_layout(width=1000, height=800)\n",
    "\n",
    "# Show the chart\n",
    "fig.show()"
   ]
  },
  {
   "cell_type": "markdown",
   "id": "241ade67",
   "metadata": {},
   "source": [
    "### Number of Veg and non-veg Restaurant"
   ]
  },
  {
   "cell_type": "code",
   "execution_count": 277,
   "id": "27f52dd9",
   "metadata": {},
   "outputs": [],
   "source": [
    "def veg_only(col):\n",
    "    if \"Vegetarian Only\" in col:\n",
    "        return \"veg\"\n",
    "    else:\n",
    "        return \"non-veg\"\n",
    "    \n",
    "zomato_data[\"veg_only\"] = zomato_data[\"Features\"].apply(lambda x: veg_only(x))"
   ]
  },
  {
   "cell_type": "code",
   "execution_count": 261,
   "id": "fc201a0a",
   "metadata": {},
   "outputs": [
    {
     "name": "stdout",
     "output_type": "stream",
     "text": [
      "Number of Vegetarian Restaraunt : 1830\n",
      "Number of Non-Vegetarian Restaraunt : 10202\n"
     ]
    }
   ],
   "source": [
    "print(\"Number of Vegetarian Restaraunt :\", zomato_data[\"veg_only\"].value_counts()[1])\n",
    "print(\"Number of Non-Vegetarian Restaraunt :\", zomato_data[\"veg_only\"].value_counts()[0])"
   ]
  },
  {
   "cell_type": "markdown",
   "id": "1b18ace3",
   "metadata": {},
   "source": [
    "### Top Vegetarian Restaurant"
   ]
  },
  {
   "cell_type": "code",
   "execution_count": 275,
   "id": "07e33326",
   "metadata": {},
   "outputs": [
    {
     "data": {
      "text/html": [
       "<div>\n",
       "<style scoped>\n",
       "    .dataframe tbody tr th:only-of-type {\n",
       "        vertical-align: middle;\n",
       "    }\n",
       "\n",
       "    .dataframe tbody tr th {\n",
       "        vertical-align: top;\n",
       "    }\n",
       "\n",
       "    .dataframe thead th {\n",
       "        text-align: right;\n",
       "    }\n",
       "</style>\n",
       "<table border=\"1\" class=\"dataframe\">\n",
       "  <thead>\n",
       "    <tr style=\"text-align: right;\">\n",
       "      <th></th>\n",
       "      <th>Name of Restaurant</th>\n",
       "      <th>Location</th>\n",
       "      <th>Dining Rating</th>\n",
       "      <th>veg_only</th>\n",
       "      <th>0</th>\n",
       "    </tr>\n",
       "  </thead>\n",
       "  <tbody>\n",
       "    <tr>\n",
       "      <th>17</th>\n",
       "      <td>The Sandwich Shop</td>\n",
       "      <td>WestMambalam</td>\n",
       "      <td>4.9</td>\n",
       "      <td>veg</td>\n",
       "      <td>1</td>\n",
       "    </tr>\n",
       "    <tr>\n",
       "      <th>9</th>\n",
       "      <td>Prems Graama Bhojanam</td>\n",
       "      <td>Adyar</td>\n",
       "      <td>4.9</td>\n",
       "      <td>veg</td>\n",
       "      <td>1</td>\n",
       "    </tr>\n",
       "    <tr>\n",
       "      <th>2</th>\n",
       "      <td>Eating Circles</td>\n",
       "      <td>Alwarpet</td>\n",
       "      <td>4.7</td>\n",
       "      <td>veg</td>\n",
       "      <td>1</td>\n",
       "    </tr>\n",
       "    <tr>\n",
       "      <th>8</th>\n",
       "      <td>Little Italy</td>\n",
       "      <td>BesantNagar</td>\n",
       "      <td>4.7</td>\n",
       "      <td>veg</td>\n",
       "      <td>1</td>\n",
       "    </tr>\n",
       "    <tr>\n",
       "      <th>11</th>\n",
       "      <td>Rayar's Mess</td>\n",
       "      <td>Mylapore</td>\n",
       "      <td>4.7</td>\n",
       "      <td>veg</td>\n",
       "      <td>1</td>\n",
       "    </tr>\n",
       "    <tr>\n",
       "      <th>0</th>\n",
       "      <td>Andhikkadai</td>\n",
       "      <td>Velachery</td>\n",
       "      <td>4.6</td>\n",
       "      <td>veg</td>\n",
       "      <td>1</td>\n",
       "    </tr>\n",
       "    <tr>\n",
       "      <th>13</th>\n",
       "      <td>Shree Mithai</td>\n",
       "      <td>Chetpet</td>\n",
       "      <td>4.6</td>\n",
       "      <td>veg</td>\n",
       "      <td>1</td>\n",
       "    </tr>\n",
       "    <tr>\n",
       "      <th>4</th>\n",
       "      <td>Hamsa</td>\n",
       "      <td>Adyar</td>\n",
       "      <td>4.6</td>\n",
       "      <td>veg</td>\n",
       "      <td>1</td>\n",
       "    </tr>\n",
       "    <tr>\n",
       "      <th>6</th>\n",
       "      <td>Krispy Kreme</td>\n",
       "      <td>Royapettah</td>\n",
       "      <td>4.6</td>\n",
       "      <td>veg</td>\n",
       "      <td>1</td>\n",
       "    </tr>\n",
       "    <tr>\n",
       "      <th>16</th>\n",
       "      <td>SpiceKlub</td>\n",
       "      <td>Nungambakkam</td>\n",
       "      <td>4.6</td>\n",
       "      <td>veg</td>\n",
       "      <td>1</td>\n",
       "    </tr>\n",
       "    <tr>\n",
       "      <th>18</th>\n",
       "      <td>VB Signature</td>\n",
       "      <td>Nungambakkam</td>\n",
       "      <td>4.5</td>\n",
       "      <td>veg</td>\n",
       "      <td>1</td>\n",
       "    </tr>\n",
       "    <tr>\n",
       "      <th>15</th>\n",
       "      <td>Shyam's Bombay Halwa House</td>\n",
       "      <td>T.Nagar</td>\n",
       "      <td>4.5</td>\n",
       "      <td>veg</td>\n",
       "      <td>1</td>\n",
       "    </tr>\n",
       "    <tr>\n",
       "      <th>14</th>\n",
       "      <td>Shri Rajasthani Dhaba</td>\n",
       "      <td>AnnaNagarWest</td>\n",
       "      <td>4.5</td>\n",
       "      <td>veg</td>\n",
       "      <td>1</td>\n",
       "    </tr>\n",
       "    <tr>\n",
       "      <th>10</th>\n",
       "      <td>Ratna Cafe</td>\n",
       "      <td>Triplicane</td>\n",
       "      <td>4.5</td>\n",
       "      <td>veg</td>\n",
       "      <td>1</td>\n",
       "    </tr>\n",
       "    <tr>\n",
       "      <th>12</th>\n",
       "      <td>Royal Indianaa - The Accord Metropolitan</td>\n",
       "      <td>T.Nagar</td>\n",
       "      <td>4.5</td>\n",
       "      <td>veg</td>\n",
       "      <td>1</td>\n",
       "    </tr>\n",
       "    <tr>\n",
       "      <th>1</th>\n",
       "      <td>Cream Stone</td>\n",
       "      <td>Thuraipakkam</td>\n",
       "      <td>4.5</td>\n",
       "      <td>veg</td>\n",
       "      <td>1</td>\n",
       "    </tr>\n",
       "    <tr>\n",
       "      <th>7</th>\n",
       "      <td>Little Italy</td>\n",
       "      <td>AnnaNagarWest</td>\n",
       "      <td>4.5</td>\n",
       "      <td>veg</td>\n",
       "      <td>1</td>\n",
       "    </tr>\n",
       "    <tr>\n",
       "      <th>5</th>\n",
       "      <td>ID</td>\n",
       "      <td>Royapettah</td>\n",
       "      <td>4.5</td>\n",
       "      <td>veg</td>\n",
       "      <td>1</td>\n",
       "    </tr>\n",
       "    <tr>\n",
       "      <th>3</th>\n",
       "      <td>Flower Drum</td>\n",
       "      <td>Adyar</td>\n",
       "      <td>4.5</td>\n",
       "      <td>veg</td>\n",
       "      <td>1</td>\n",
       "    </tr>\n",
       "    <tr>\n",
       "      <th>19</th>\n",
       "      <td>Welcome Hotel</td>\n",
       "      <td>Purasavakkam</td>\n",
       "      <td>4.5</td>\n",
       "      <td>veg</td>\n",
       "      <td>1</td>\n",
       "    </tr>\n",
       "  </tbody>\n",
       "</table>\n",
       "</div>"
      ],
      "text/plain": [
       "                          Name of Restaurant       Location  Dining Rating  \\\n",
       "17                         The Sandwich Shop   WestMambalam            4.9   \n",
       "9                      Prems Graama Bhojanam          Adyar            4.9   \n",
       "2                             Eating Circles       Alwarpet            4.7   \n",
       "8                               Little Italy    BesantNagar            4.7   \n",
       "11                              Rayar's Mess       Mylapore            4.7   \n",
       "0                                Andhikkadai      Velachery            4.6   \n",
       "13                              Shree Mithai        Chetpet            4.6   \n",
       "4                                      Hamsa          Adyar            4.6   \n",
       "6                               Krispy Kreme     Royapettah            4.6   \n",
       "16                                 SpiceKlub   Nungambakkam            4.6   \n",
       "18                              VB Signature   Nungambakkam            4.5   \n",
       "15                Shyam's Bombay Halwa House        T.Nagar            4.5   \n",
       "14                     Shri Rajasthani Dhaba  AnnaNagarWest            4.5   \n",
       "10                                Ratna Cafe     Triplicane            4.5   \n",
       "12  Royal Indianaa - The Accord Metropolitan        T.Nagar            4.5   \n",
       "1                                Cream Stone   Thuraipakkam            4.5   \n",
       "7                               Little Italy  AnnaNagarWest            4.5   \n",
       "5                                         ID     Royapettah            4.5   \n",
       "3                                Flower Drum          Adyar            4.5   \n",
       "19                             Welcome Hotel   Purasavakkam            4.5   \n",
       "\n",
       "   veg_only  0  \n",
       "17      veg  1  \n",
       "9       veg  1  \n",
       "2       veg  1  \n",
       "8       veg  1  \n",
       "11      veg  1  \n",
       "0       veg  1  \n",
       "13      veg  1  \n",
       "4       veg  1  \n",
       "6       veg  1  \n",
       "16      veg  1  \n",
       "18      veg  1  \n",
       "15      veg  1  \n",
       "14      veg  1  \n",
       "10      veg  1  \n",
       "12      veg  1  \n",
       "1       veg  1  \n",
       "7       veg  1  \n",
       "5       veg  1  \n",
       "3       veg  1  \n",
       "19      veg  1  "
      ]
     },
     "execution_count": 275,
     "metadata": {},
     "output_type": "execute_result"
    }
   ],
   "source": [
    "veg_hotel = zomato_data[(zomato_data[\"veg_only\"] == \"veg\") & (zomato_data[\"Dining Rating\"] >= 4.5) & zomato_data[\"Top Dishes\"].apply(lambda x: \"Fruit Juices\" not in x and \"Icecream Cake\" not in x and \" Brownie\" not in x and \"Cake\" not in x) & (zomato_data[\"Cuisine\"].apply(lambda x: \"Ice Cream\" not in x and \"Bakery\" not in x and \"Beverages\" not in x))]\n",
    "veg_hotel = veg_hotel.groupby([\"Name of Restaurant\", \"Location\",\"Dining Rating\", \"veg_only\"]).size().reset_index()\n",
    "veg_hotel = veg_hotel.sort_values(by=\"Dining Rating\", ascending=False)\n",
    "veg_hotel[:40]"
   ]
  },
  {
   "cell_type": "markdown",
   "id": "61eeae66",
   "metadata": {},
   "source": [
    "### Top Non- Veg Restaurant"
   ]
  },
  {
   "cell_type": "code",
   "execution_count": 279,
   "id": "a9e67064",
   "metadata": {},
   "outputs": [
    {
     "data": {
      "text/html": [
       "<div>\n",
       "<style scoped>\n",
       "    .dataframe tbody tr th:only-of-type {\n",
       "        vertical-align: middle;\n",
       "    }\n",
       "\n",
       "    .dataframe tbody tr th {\n",
       "        vertical-align: top;\n",
       "    }\n",
       "\n",
       "    .dataframe thead th {\n",
       "        text-align: right;\n",
       "    }\n",
       "</style>\n",
       "<table border=\"1\" class=\"dataframe\">\n",
       "  <thead>\n",
       "    <tr style=\"text-align: right;\">\n",
       "      <th></th>\n",
       "      <th>Name of Restaurant</th>\n",
       "      <th>Location</th>\n",
       "      <th>Dining Rating</th>\n",
       "      <th>veg_only</th>\n",
       "      <th>0</th>\n",
       "    </tr>\n",
       "  </thead>\n",
       "  <tbody>\n",
       "    <tr>\n",
       "      <th>8</th>\n",
       "      <td>Bhangra</td>\n",
       "      <td>Kanathur</td>\n",
       "      <td>4.9</td>\n",
       "      <td>non-veg</td>\n",
       "      <td>1</td>\n",
       "    </tr>\n",
       "    <tr>\n",
       "      <th>18</th>\n",
       "      <td>Kabab Corner</td>\n",
       "      <td>Egmore</td>\n",
       "      <td>4.9</td>\n",
       "      <td>non-veg</td>\n",
       "      <td>1</td>\n",
       "    </tr>\n",
       "    <tr>\n",
       "      <th>2</th>\n",
       "      <td>Amadora Gourmet Ice Cream &amp; Sorbet</td>\n",
       "      <td>Nungambakkam</td>\n",
       "      <td>4.8</td>\n",
       "      <td>non-veg</td>\n",
       "      <td>1</td>\n",
       "    </tr>\n",
       "    <tr>\n",
       "      <th>5</th>\n",
       "      <td>Avartana - ITC Grand Chola</td>\n",
       "      <td>Guindy</td>\n",
       "      <td>4.8</td>\n",
       "      <td>non-veg</td>\n",
       "      <td>1</td>\n",
       "    </tr>\n",
       "    <tr>\n",
       "      <th>23</th>\n",
       "      <td>Momo Sa-Khang by Kailash Kitchen</td>\n",
       "      <td>Choolaimedu</td>\n",
       "      <td>4.8</td>\n",
       "      <td>non-veg</td>\n",
       "      <td>1</td>\n",
       "    </tr>\n",
       "    <tr>\n",
       "      <th>36</th>\n",
       "      <td>The Marina</td>\n",
       "      <td>Nungambakkam</td>\n",
       "      <td>4.8</td>\n",
       "      <td>non-veg</td>\n",
       "      <td>1</td>\n",
       "    </tr>\n",
       "    <tr>\n",
       "      <th>31</th>\n",
       "      <td>Southern Spice - Taj Coromandel</td>\n",
       "      <td>Nungambakkam</td>\n",
       "      <td>4.7</td>\n",
       "      <td>non-veg</td>\n",
       "      <td>1</td>\n",
       "    </tr>\n",
       "    <tr>\n",
       "      <th>32</th>\n",
       "      <td>Soy Soi</td>\n",
       "      <td>Kotturpuram</td>\n",
       "      <td>4.7</td>\n",
       "      <td>non-veg</td>\n",
       "      <td>1</td>\n",
       "    </tr>\n",
       "    <tr>\n",
       "      <th>7</th>\n",
       "      <td>Benjarong</td>\n",
       "      <td>Alwarpet</td>\n",
       "      <td>4.7</td>\n",
       "      <td>non-veg</td>\n",
       "      <td>1</td>\n",
       "    </tr>\n",
       "    <tr>\n",
       "      <th>17</th>\n",
       "      <td>J.Hind - Grand by GRT Hotels</td>\n",
       "      <td>GrandbyGRTHotels</td>\n",
       "      <td>4.7</td>\n",
       "      <td>non-veg</td>\n",
       "      <td>1</td>\n",
       "    </tr>\n",
       "    <tr>\n",
       "      <th>22</th>\n",
       "      <td>Mezze</td>\n",
       "      <td>Alwarpet</td>\n",
       "      <td>4.7</td>\n",
       "      <td>non-veg</td>\n",
       "      <td>1</td>\n",
       "    </tr>\n",
       "    <tr>\n",
       "      <th>12</th>\n",
       "      <td>Bombay Brasserie</td>\n",
       "      <td>Nungambakkam</td>\n",
       "      <td>4.7</td>\n",
       "      <td>non-veg</td>\n",
       "      <td>1</td>\n",
       "    </tr>\n",
       "    <tr>\n",
       "      <th>19</th>\n",
       "      <td>Kappa Chakka Kandhari</td>\n",
       "      <td>Nungambakkam</td>\n",
       "      <td>4.7</td>\n",
       "      <td>non-veg</td>\n",
       "      <td>1</td>\n",
       "    </tr>\n",
       "    <tr>\n",
       "      <th>29</th>\n",
       "      <td>Royal Sandwich Shop</td>\n",
       "      <td>Alwarpet</td>\n",
       "      <td>4.7</td>\n",
       "      <td>non-veg</td>\n",
       "      <td>1</td>\n",
       "    </tr>\n",
       "    <tr>\n",
       "      <th>27</th>\n",
       "      <td>Peshawri - ITC Grand Chola</td>\n",
       "      <td>Guindy</td>\n",
       "      <td>4.6</td>\n",
       "      <td>non-veg</td>\n",
       "      <td>1</td>\n",
       "    </tr>\n",
       "    <tr>\n",
       "      <th>25</th>\n",
       "      <td>New Pattukottai Kamatchi Mess</td>\n",
       "      <td>T.Nagar</td>\n",
       "      <td>4.6</td>\n",
       "      <td>non-veg</td>\n",
       "      <td>1</td>\n",
       "    </tr>\n",
       "    <tr>\n",
       "      <th>1</th>\n",
       "      <td>AlMaza</td>\n",
       "      <td>AnnaNagarEast</td>\n",
       "      <td>4.6</td>\n",
       "      <td>non-veg</td>\n",
       "      <td>1</td>\n",
       "    </tr>\n",
       "    <tr>\n",
       "      <th>21</th>\n",
       "      <td>Mainland China</td>\n",
       "      <td>Velachery</td>\n",
       "      <td>4.6</td>\n",
       "      <td>non-veg</td>\n",
       "      <td>1</td>\n",
       "    </tr>\n",
       "    <tr>\n",
       "      <th>14</th>\n",
       "      <td>Dakshin - Crowne Plaza Chennai Adyar Park</td>\n",
       "      <td>Alwarpet</td>\n",
       "      <td>4.6</td>\n",
       "      <td>non-veg</td>\n",
       "      <td>1</td>\n",
       "    </tr>\n",
       "    <tr>\n",
       "      <th>38</th>\n",
       "      <td>Vasco's - Hilton Chennai</td>\n",
       "      <td>Guindy</td>\n",
       "      <td>4.6</td>\n",
       "      <td>non-veg</td>\n",
       "      <td>1</td>\n",
       "    </tr>\n",
       "    <tr>\n",
       "      <th>39</th>\n",
       "      <td>Wok Monk</td>\n",
       "      <td>AnnaNagarWest</td>\n",
       "      <td>4.6</td>\n",
       "      <td>non-veg</td>\n",
       "      <td>1</td>\n",
       "    </tr>\n",
       "    <tr>\n",
       "      <th>6</th>\n",
       "      <td>Basil With A Twist</td>\n",
       "      <td>T.Nagar</td>\n",
       "      <td>4.6</td>\n",
       "      <td>non-veg</td>\n",
       "      <td>1</td>\n",
       "    </tr>\n",
       "    <tr>\n",
       "      <th>3</th>\n",
       "      <td>Arabian Kebab Center</td>\n",
       "      <td>Kodambakkam</td>\n",
       "      <td>4.6</td>\n",
       "      <td>non-veg</td>\n",
       "      <td>1</td>\n",
       "    </tr>\n",
       "    <tr>\n",
       "      <th>15</th>\n",
       "      <td>East Coast at Madras Square</td>\n",
       "      <td>Neelangarai</td>\n",
       "      <td>4.6</td>\n",
       "      <td>non-veg</td>\n",
       "      <td>1</td>\n",
       "    </tr>\n",
       "    <tr>\n",
       "      <th>35</th>\n",
       "      <td>The Farm</td>\n",
       "      <td>Semmancheri</td>\n",
       "      <td>4.5</td>\n",
       "      <td>non-veg</td>\n",
       "      <td>1</td>\n",
       "    </tr>\n",
       "    <tr>\n",
       "      <th>30</th>\n",
       "      <td>Sera - The Tapas Bar &amp; Restaurant</td>\n",
       "      <td>Gopalapuram</td>\n",
       "      <td>4.5</td>\n",
       "      <td>non-veg</td>\n",
       "      <td>1</td>\n",
       "    </tr>\n",
       "    <tr>\n",
       "      <th>34</th>\n",
       "      <td>The Brew Room - The Savera Hotel</td>\n",
       "      <td>RKSalai(CathedralRoad)</td>\n",
       "      <td>4.5</td>\n",
       "      <td>non-veg</td>\n",
       "      <td>1</td>\n",
       "    </tr>\n",
       "    <tr>\n",
       "      <th>37</th>\n",
       "      <td>Va Pho - Asian Canteen</td>\n",
       "      <td>Gopalapuram</td>\n",
       "      <td>4.5</td>\n",
       "      <td>non-veg</td>\n",
       "      <td>1</td>\n",
       "    </tr>\n",
       "    <tr>\n",
       "      <th>33</th>\n",
       "      <td>Spectra - The Leela Palace</td>\n",
       "      <td>MRCNagar</td>\n",
       "      <td>4.5</td>\n",
       "      <td>non-veg</td>\n",
       "      <td>1</td>\n",
       "    </tr>\n",
       "    <tr>\n",
       "      <th>40</th>\n",
       "      <td>Writer's Cafe</td>\n",
       "      <td>Taramani</td>\n",
       "      <td>4.5</td>\n",
       "      <td>non-veg</td>\n",
       "      <td>1</td>\n",
       "    </tr>\n",
       "    <tr>\n",
       "      <th>0</th>\n",
       "      <td>Absolute Thai</td>\n",
       "      <td>FoodiesKitchen</td>\n",
       "      <td>4.5</td>\n",
       "      <td>non-veg</td>\n",
       "      <td>1</td>\n",
       "    </tr>\n",
       "    <tr>\n",
       "      <th>28</th>\n",
       "      <td>Pumpkin Tales</td>\n",
       "      <td>Alwarpet</td>\n",
       "      <td>4.5</td>\n",
       "      <td>non-veg</td>\n",
       "      <td>1</td>\n",
       "    </tr>\n",
       "    <tr>\n",
       "      <th>26</th>\n",
       "      <td>North East Kitchen</td>\n",
       "      <td>Egmore</td>\n",
       "      <td>4.5</td>\n",
       "      <td>non-veg</td>\n",
       "      <td>1</td>\n",
       "    </tr>\n",
       "    <tr>\n",
       "      <th>24</th>\n",
       "      <td>Nair Mess</td>\n",
       "      <td>Triplicane</td>\n",
       "      <td>4.5</td>\n",
       "      <td>non-veg</td>\n",
       "      <td>1</td>\n",
       "    </tr>\n",
       "    <tr>\n",
       "      <th>20</th>\n",
       "      <td>Kuuraku</td>\n",
       "      <td>Vadapalani</td>\n",
       "      <td>4.5</td>\n",
       "      <td>non-veg</td>\n",
       "      <td>1</td>\n",
       "    </tr>\n",
       "    <tr>\n",
       "      <th>16</th>\n",
       "      <td>Gastronomer By Double Roti</td>\n",
       "      <td>Teynampet</td>\n",
       "      <td>4.5</td>\n",
       "      <td>non-veg</td>\n",
       "      <td>1</td>\n",
       "    </tr>\n",
       "    <tr>\n",
       "      <th>13</th>\n",
       "      <td>BurgerMan</td>\n",
       "      <td>BesantNagar</td>\n",
       "      <td>4.5</td>\n",
       "      <td>non-veg</td>\n",
       "      <td>1</td>\n",
       "    </tr>\n",
       "    <tr>\n",
       "      <th>11</th>\n",
       "      <td>Blind Ch3mistry</td>\n",
       "      <td>Teynampet</td>\n",
       "      <td>4.5</td>\n",
       "      <td>non-veg</td>\n",
       "      <td>1</td>\n",
       "    </tr>\n",
       "    <tr>\n",
       "      <th>10</th>\n",
       "      <td>Blind Ch3mistry</td>\n",
       "      <td>Nungambakkam</td>\n",
       "      <td>4.5</td>\n",
       "      <td>non-veg</td>\n",
       "      <td>1</td>\n",
       "    </tr>\n",
       "    <tr>\n",
       "      <th>9</th>\n",
       "      <td>Blind Ch3mistry</td>\n",
       "      <td>BesantNagar</td>\n",
       "      <td>4.5</td>\n",
       "      <td>non-veg</td>\n",
       "      <td>1</td>\n",
       "    </tr>\n",
       "  </tbody>\n",
       "</table>\n",
       "</div>"
      ],
      "text/plain": [
       "                           Name of Restaurant                Location  \\\n",
       "8                                     Bhangra                Kanathur   \n",
       "18                               Kabab Corner                  Egmore   \n",
       "2          Amadora Gourmet Ice Cream & Sorbet            Nungambakkam   \n",
       "5                  Avartana - ITC Grand Chola                  Guindy   \n",
       "23           Momo Sa-Khang by Kailash Kitchen             Choolaimedu   \n",
       "36                                 The Marina            Nungambakkam   \n",
       "31            Southern Spice - Taj Coromandel            Nungambakkam   \n",
       "32                                    Soy Soi             Kotturpuram   \n",
       "7                                   Benjarong                Alwarpet   \n",
       "17               J.Hind - Grand by GRT Hotels        GrandbyGRTHotels   \n",
       "22                                      Mezze                Alwarpet   \n",
       "12                           Bombay Brasserie            Nungambakkam   \n",
       "19                      Kappa Chakka Kandhari            Nungambakkam   \n",
       "29                        Royal Sandwich Shop                Alwarpet   \n",
       "27                 Peshawri - ITC Grand Chola                  Guindy   \n",
       "25              New Pattukottai Kamatchi Mess                 T.Nagar   \n",
       "1                                      AlMaza           AnnaNagarEast   \n",
       "21                             Mainland China               Velachery   \n",
       "14  Dakshin - Crowne Plaza Chennai Adyar Park                Alwarpet   \n",
       "38                   Vasco's - Hilton Chennai                  Guindy   \n",
       "39                                   Wok Monk           AnnaNagarWest   \n",
       "6                          Basil With A Twist                 T.Nagar   \n",
       "3                        Arabian Kebab Center             Kodambakkam   \n",
       "15                East Coast at Madras Square             Neelangarai   \n",
       "35                                   The Farm             Semmancheri   \n",
       "30          Sera - The Tapas Bar & Restaurant             Gopalapuram   \n",
       "34           The Brew Room - The Savera Hotel  RKSalai(CathedralRoad)   \n",
       "37                     Va Pho - Asian Canteen             Gopalapuram   \n",
       "33                 Spectra - The Leela Palace                MRCNagar   \n",
       "40                              Writer's Cafe                Taramani   \n",
       "0                               Absolute Thai          FoodiesKitchen   \n",
       "28                              Pumpkin Tales                Alwarpet   \n",
       "26                         North East Kitchen                  Egmore   \n",
       "24                                  Nair Mess              Triplicane   \n",
       "20                                    Kuuraku              Vadapalani   \n",
       "16                 Gastronomer By Double Roti               Teynampet   \n",
       "13                                  BurgerMan             BesantNagar   \n",
       "11                            Blind Ch3mistry               Teynampet   \n",
       "10                            Blind Ch3mistry            Nungambakkam   \n",
       "9                             Blind Ch3mistry             BesantNagar   \n",
       "\n",
       "    Dining Rating veg_only  0  \n",
       "8             4.9  non-veg  1  \n",
       "18            4.9  non-veg  1  \n",
       "2             4.8  non-veg  1  \n",
       "5             4.8  non-veg  1  \n",
       "23            4.8  non-veg  1  \n",
       "36            4.8  non-veg  1  \n",
       "31            4.7  non-veg  1  \n",
       "32            4.7  non-veg  1  \n",
       "7             4.7  non-veg  1  \n",
       "17            4.7  non-veg  1  \n",
       "22            4.7  non-veg  1  \n",
       "12            4.7  non-veg  1  \n",
       "19            4.7  non-veg  1  \n",
       "29            4.7  non-veg  1  \n",
       "27            4.6  non-veg  1  \n",
       "25            4.6  non-veg  1  \n",
       "1             4.6  non-veg  1  \n",
       "21            4.6  non-veg  1  \n",
       "14            4.6  non-veg  1  \n",
       "38            4.6  non-veg  1  \n",
       "39            4.6  non-veg  1  \n",
       "6             4.6  non-veg  1  \n",
       "3             4.6  non-veg  1  \n",
       "15            4.6  non-veg  1  \n",
       "35            4.5  non-veg  1  \n",
       "30            4.5  non-veg  1  \n",
       "34            4.5  non-veg  1  \n",
       "37            4.5  non-veg  1  \n",
       "33            4.5  non-veg  1  \n",
       "40            4.5  non-veg  1  \n",
       "0             4.5  non-veg  1  \n",
       "28            4.5  non-veg  1  \n",
       "26            4.5  non-veg  1  \n",
       "24            4.5  non-veg  1  \n",
       "20            4.5  non-veg  1  \n",
       "16            4.5  non-veg  1  \n",
       "13            4.5  non-veg  1  \n",
       "11            4.5  non-veg  1  \n",
       "10            4.5  non-veg  1  \n",
       "9             4.5  non-veg  1  "
      ]
     },
     "execution_count": 279,
     "metadata": {},
     "output_type": "execute_result"
    }
   ],
   "source": [
    "nonveg_hotel = zomato_data[(zomato_data[\"veg_only\"] == \"non-veg\") & (zomato_data[\"Dining Rating\"] >= 4.5) & zomato_data[\"Top Dishes\"].apply(lambda x: \"Fruit Juices\" not in x and \"Icecream Cake\" not in x and \" Brownie\" not in x and \"Cake\" not in x) & (zomato_data[\"Cuisine\"].apply(lambda x: \"Ice Cream\" not in x and \"Bakery\" not in x and \"Beverages\" not in x))]\n",
    "nonveg_hotel = nonveg_hotel.groupby([\"Name of Restaurant\", \"Location\",\"Dining Rating\", \"veg_only\"]).size().reset_index()\n",
    "nonveg_hotel = nonveg_hotel.sort_values(by=\"Dining Rating\", ascending=False)\n",
    "nonveg_hotel[:40]"
   ]
  },
  {
   "cell_type": "markdown",
   "id": "2cfeeb22",
   "metadata": {},
   "source": [
    "### Average Price of Vegetarian Restaurant "
   ]
  },
  {
   "cell_type": "code",
   "execution_count": 269,
   "id": "b8b871da",
   "metadata": {},
   "outputs": [
    {
     "data": {
      "application/vnd.plotly.v1+json": {
       "config": {
        "plotlyServerURL": "https://plot.ly"
       },
       "data": [
        {
         "alignmentgroup": "True",
         "hovertemplate": "veg=%{x}<br>Location=%{y}<br>text=%{text}<extra></extra>",
         "legendgroup": "",
         "marker": {
          "color": "#636efa",
          "pattern": {
           "shape": ""
          }
         },
         "name": "",
         "offsetgroup": "",
         "orientation": "h",
         "showlegend": false,
         "text": [
          "Rs.nan",
          "Rs.100.0",
          "Rs.268.0",
          "Rs.395.24",
          "Rs.262.5",
          "Rs.266.67",
          "Rs.350.0",
          "Rs.285.96",
          "Rs.242.11",
          "Rs.360.0",
          "Rs.373.21",
          "Rs.340.54",
          "Rs.375.0",
          "Rs.254.55",
          "Rs.321.21",
          "Rs.278.57",
          "Rs.350.0",
          "Rs.325.0",
          "Rs.369.23",
          "Rs.211.11",
          "Rs.296.0",
          "Rs.nan",
          "Rs.nan",
          "Rs.463.33",
          "Rs.441.67",
          "Rs.348.81",
          "Rs.337.5",
          "Rs.nan",
          "Rs.351.85",
          "Rs.212.5",
          "Rs.352.5",
          "Rs.nan",
          "Rs.nan",
          "Rs.225.0",
          "Rs.200.0",
          "Rs.nan",
          "Rs.310.0",
          "Rs.316.0",
          "Rs.nan",
          "Rs.nan",
          "Rs.317.86",
          "Rs.308.33",
          "Rs.300.0",
          "Rs.166.67",
          "Rs.346.08",
          "Rs.337.5",
          "Rs.252.27",
          "Rs.225.0",
          "Rs.450.0",
          "Rs.nan",
          "Rs.378.57",
          "Rs.200.0",
          "Rs.360.0",
          "Rs.283.33",
          "Rs.314.29",
          "Rs.516.67",
          "Rs.nan",
          "Rs.162.5",
          "Rs.332.0",
          "Rs.416.67",
          "Rs.275.76",
          "Rs.425.0",
          "Rs.365.16",
          "Rs.266.67",
          "Rs.326.92",
          "Rs.321.67",
          "Rs.380.0",
          "Rs.nan",
          "Rs.569.57",
          "Rs.nan",
          "Rs.400.0",
          "Rs.nan",
          "Rs.287.5",
          "Rs.nan",
          "Rs.312.5",
          "Rs.320.0",
          "Rs.321.43",
          "Rs.400.0",
          "Rs.338.89",
          "Rs.310.0",
          "Rs.298.86",
          "Rs.350.0",
          "Rs.280.3",
          "Rs.406.67",
          "Rs.312.2",
          "Rs.333.33",
          "Rs.295.83",
          "Rs.412.5",
          "Rs.250.0",
          "Rs.322.73",
          "Rs.294.44",
          "Rs.300.0",
          "Rs.502.08",
          "Rs.227.27",
          "Rs.287.5",
          "Rs.466.67",
          "Rs.487.5",
          "Rs.352.0",
          "Rs.225.0",
          "Rs.300.0",
          "Rs.350.0",
          "Rs.nan",
          "Rs.209.09",
          "Rs.nan",
          "Rs.100.0",
          "Rs.357.83",
          "Rs.337.5",
          "Rs.200.0",
          "Rs.487.5",
          "Rs.nan",
          "Rs.175.0",
          "Rs.292.0",
          "Rs.357.69",
          "Rs.305.0",
          "Rs.200.0",
          "Rs.241.94",
          "Rs.nan",
          "Rs.nan",
          "Rs.407.14",
          "Rs.311.36",
          "Rs.408.33",
          "Rs.342.54",
          "Rs.271.05",
          "Rs.300.0",
          "Rs.272.73",
          "Rs.nan",
          "Rs.209.62",
          "Rs.245.71"
         ],
         "textposition": "auto",
         "type": "bar",
         "x": [
          null,
          100,
          268,
          395.23809523809524,
          262.5,
          266.6666666666667,
          350,
          285.96491228070175,
          242.10526315789474,
          360,
          373.2142857142857,
          340.5405405405405,
          375,
          254.54545454545453,
          321.2121212121212,
          278.57142857142856,
          350,
          325,
          369.2307692307692,
          211.11111111111111,
          296,
          null,
          null,
          463.3333333333333,
          441.6666666666667,
          348.8095238095238,
          337.5,
          null,
          351.85185185185185,
          212.5,
          352.5,
          null,
          null,
          225,
          200,
          null,
          310,
          316,
          null,
          null,
          317.85714285714283,
          308.3333333333333,
          300,
          166.66666666666666,
          346.078431372549,
          337.5,
          252.27272727272728,
          225,
          450,
          null,
          378.57142857142856,
          200,
          360,
          283.3333333333333,
          314.2857142857143,
          516.6666666666666,
          null,
          162.5,
          332,
          416.6666666666667,
          275.75757575757575,
          425,
          365.15625,
          266.6666666666667,
          326.9230769230769,
          321.6666666666667,
          380,
          null,
          569.5652173913044,
          null,
          400,
          null,
          287.5,
          null,
          312.5,
          320,
          321.42857142857144,
          400,
          338.8888888888889,
          310,
          298.8636363636364,
          350,
          280.3030303030303,
          406.6666666666667,
          312.1951219512195,
          333.3333333333333,
          295.8333333333333,
          412.5,
          250,
          322.72727272727275,
          294.44444444444446,
          300,
          502.0833333333333,
          227.27272727272728,
          287.5,
          466.6666666666667,
          487.5,
          352,
          225,
          300,
          350,
          null,
          209.0909090909091,
          null,
          100,
          357.8313253012048,
          337.5,
          200,
          487.5,
          null,
          175,
          292,
          357.6923076923077,
          305,
          200,
          241.93548387096774,
          null,
          null,
          407.14285714285717,
          311.3636363636364,
          408.3333333333333,
          342.53731343283584,
          271.05263157894734,
          300,
          272.72727272727275,
          null,
          209.6153846153846,
          245.71428571428572
         ],
         "xaxis": "x",
         "y": [
          "ARadhaHotel",
          "Abhiramapuram",
          "Adambakkam",
          "Adyar",
          "Akkarai",
          "Alandur",
          "Alwarpet",
          "Ambattur",
          "Aminijikarai",
          "AnnaNagar",
          "AnnaNagarEast",
          "AnnaNagarWest",
          "AnnaSalai",
          "Arumbakkam",
          "AshokNagar",
          "Avadi",
          "BesantNagar",
          "Chengalpattu",
          "Chetpet",
          "Choolaimedu",
          "Chromepet",
          "Citadines",
          "East...",
          "EastCoastRoad(ECR)",
          "Egatoor",
          "Egmore",
          "Ekkaduthangal",
          "FoodiesKitchen",
          "GSTRoad",
          "GeorgeTown",
          "Gopalapuram",
          "GrandbyGRTHotels",
          "GrandeBayResort",
          "Guduvancheri",
          "Guindy",
          "HolidayInnChennaiOMRITExpressway",
          "Injambakkam",
          "K.K.Nagar",
          "Kanathur",
          "Kanchipuram",
          "KanchipuramDistrict",
          "Kandanchavadi",
          "Karapakkam",
          "Kelambakkam",
          "Kilpauk",
          "Kodambakkam",
          "Kolathur",
          "Kottivakkam",
          "Kotturpuram",
          "Kovalam",
          "Koyambedu",
          "MRCNagar",
          "Madhavaram",
          "Madipakkam",
          "Maduravoyal",
          "Mahabalipuram",
          "Mamallapuram",
          "Mandaveli",
          "Medavakkam",
          "Meenambakkam",
          "Mogappair",
          "Muttukadu",
          "Mylapore",
          "Nandanam",
          "Nanganallur",
          "Navallur",
          "Neelangarai",
          "NovotelChennaiSipcot",
          "Nungambakkam",
          "OMR",
          "Okkiyampet",
          "OldMahabalipuramRoad",
          "OldMahabalipuramRoad(OMR)",
          "Oragadam",
          "Padur",
          "Palavakkam",
          "Pallavaram",
          "Pallikaranai",
          "ParkTown",
          "Parrys",
          "Perambur",
          "Perumbakkam",
          "Perungudi",
          "Poonamalle",
          "Porur",
          "Potheri",
          "Purasavakkam",
          "RAPuram",
          "RKSalai(CathedralRoad)",
          "Ramapuram",
          "RedHills",
          "Redhills",
          "Royapettah",
          "Royapuram",
          "Saidapet",
          "Saligramam",
          "Santhome",
          "Selaiyur",
          "Semmancheri",
          "ShenoyNagar",
          "Sholinganallur",
          "SomersetGreenways",
          "Sowcarpet",
          "Sriperumbudur",
          "St.ThomasMount",
          "T.Nagar",
          "Tambaram",
          "Taramani",
          "Teynampet",
          "TheSlate",
          "Thiruvallur",
          "Thiruvanmiyur",
          "ThousandLights",
          "Thuraipakkam",
          "Tiruvottiyur",
          "Triplicane",
          "TuryaaChennai",
          "V7Hotel",
          "Vadapalani",
          "Valasaravakkam",
          "Vandalur",
          "Velachery",
          "Vepery",
          "Vettuvankeni",
          "Virugambakkam",
          "Vivanta Chennai, IT Expressway, Sholinganallur ",
          "Washermenpet",
          "WestMambalam"
         ],
         "yaxis": "y"
        }
       ],
       "layout": {
        "barmode": "group",
        "height": 6000,
        "legend": {
         "tracegroupgap": 0
        },
        "template": {
         "data": {
          "bar": [
           {
            "error_x": {
             "color": "#2a3f5f"
            },
            "error_y": {
             "color": "#2a3f5f"
            },
            "marker": {
             "line": {
              "color": "#E5ECF6",
              "width": 0.5
             },
             "pattern": {
              "fillmode": "overlay",
              "size": 10,
              "solidity": 0.2
             }
            },
            "type": "bar"
           }
          ],
          "barpolar": [
           {
            "marker": {
             "line": {
              "color": "#E5ECF6",
              "width": 0.5
             },
             "pattern": {
              "fillmode": "overlay",
              "size": 10,
              "solidity": 0.2
             }
            },
            "type": "barpolar"
           }
          ],
          "carpet": [
           {
            "aaxis": {
             "endlinecolor": "#2a3f5f",
             "gridcolor": "white",
             "linecolor": "white",
             "minorgridcolor": "white",
             "startlinecolor": "#2a3f5f"
            },
            "baxis": {
             "endlinecolor": "#2a3f5f",
             "gridcolor": "white",
             "linecolor": "white",
             "minorgridcolor": "white",
             "startlinecolor": "#2a3f5f"
            },
            "type": "carpet"
           }
          ],
          "choropleth": [
           {
            "colorbar": {
             "outlinewidth": 0,
             "ticks": ""
            },
            "type": "choropleth"
           }
          ],
          "contour": [
           {
            "colorbar": {
             "outlinewidth": 0,
             "ticks": ""
            },
            "colorscale": [
             [
              0,
              "#0d0887"
             ],
             [
              0.1111111111111111,
              "#46039f"
             ],
             [
              0.2222222222222222,
              "#7201a8"
             ],
             [
              0.3333333333333333,
              "#9c179e"
             ],
             [
              0.4444444444444444,
              "#bd3786"
             ],
             [
              0.5555555555555556,
              "#d8576b"
             ],
             [
              0.6666666666666666,
              "#ed7953"
             ],
             [
              0.7777777777777778,
              "#fb9f3a"
             ],
             [
              0.8888888888888888,
              "#fdca26"
             ],
             [
              1,
              "#f0f921"
             ]
            ],
            "type": "contour"
           }
          ],
          "contourcarpet": [
           {
            "colorbar": {
             "outlinewidth": 0,
             "ticks": ""
            },
            "type": "contourcarpet"
           }
          ],
          "heatmap": [
           {
            "colorbar": {
             "outlinewidth": 0,
             "ticks": ""
            },
            "colorscale": [
             [
              0,
              "#0d0887"
             ],
             [
              0.1111111111111111,
              "#46039f"
             ],
             [
              0.2222222222222222,
              "#7201a8"
             ],
             [
              0.3333333333333333,
              "#9c179e"
             ],
             [
              0.4444444444444444,
              "#bd3786"
             ],
             [
              0.5555555555555556,
              "#d8576b"
             ],
             [
              0.6666666666666666,
              "#ed7953"
             ],
             [
              0.7777777777777778,
              "#fb9f3a"
             ],
             [
              0.8888888888888888,
              "#fdca26"
             ],
             [
              1,
              "#f0f921"
             ]
            ],
            "type": "heatmap"
           }
          ],
          "heatmapgl": [
           {
            "colorbar": {
             "outlinewidth": 0,
             "ticks": ""
            },
            "colorscale": [
             [
              0,
              "#0d0887"
             ],
             [
              0.1111111111111111,
              "#46039f"
             ],
             [
              0.2222222222222222,
              "#7201a8"
             ],
             [
              0.3333333333333333,
              "#9c179e"
             ],
             [
              0.4444444444444444,
              "#bd3786"
             ],
             [
              0.5555555555555556,
              "#d8576b"
             ],
             [
              0.6666666666666666,
              "#ed7953"
             ],
             [
              0.7777777777777778,
              "#fb9f3a"
             ],
             [
              0.8888888888888888,
              "#fdca26"
             ],
             [
              1,
              "#f0f921"
             ]
            ],
            "type": "heatmapgl"
           }
          ],
          "histogram": [
           {
            "marker": {
             "pattern": {
              "fillmode": "overlay",
              "size": 10,
              "solidity": 0.2
             }
            },
            "type": "histogram"
           }
          ],
          "histogram2d": [
           {
            "colorbar": {
             "outlinewidth": 0,
             "ticks": ""
            },
            "colorscale": [
             [
              0,
              "#0d0887"
             ],
             [
              0.1111111111111111,
              "#46039f"
             ],
             [
              0.2222222222222222,
              "#7201a8"
             ],
             [
              0.3333333333333333,
              "#9c179e"
             ],
             [
              0.4444444444444444,
              "#bd3786"
             ],
             [
              0.5555555555555556,
              "#d8576b"
             ],
             [
              0.6666666666666666,
              "#ed7953"
             ],
             [
              0.7777777777777778,
              "#fb9f3a"
             ],
             [
              0.8888888888888888,
              "#fdca26"
             ],
             [
              1,
              "#f0f921"
             ]
            ],
            "type": "histogram2d"
           }
          ],
          "histogram2dcontour": [
           {
            "colorbar": {
             "outlinewidth": 0,
             "ticks": ""
            },
            "colorscale": [
             [
              0,
              "#0d0887"
             ],
             [
              0.1111111111111111,
              "#46039f"
             ],
             [
              0.2222222222222222,
              "#7201a8"
             ],
             [
              0.3333333333333333,
              "#9c179e"
             ],
             [
              0.4444444444444444,
              "#bd3786"
             ],
             [
              0.5555555555555556,
              "#d8576b"
             ],
             [
              0.6666666666666666,
              "#ed7953"
             ],
             [
              0.7777777777777778,
              "#fb9f3a"
             ],
             [
              0.8888888888888888,
              "#fdca26"
             ],
             [
              1,
              "#f0f921"
             ]
            ],
            "type": "histogram2dcontour"
           }
          ],
          "mesh3d": [
           {
            "colorbar": {
             "outlinewidth": 0,
             "ticks": ""
            },
            "type": "mesh3d"
           }
          ],
          "parcoords": [
           {
            "line": {
             "colorbar": {
              "outlinewidth": 0,
              "ticks": ""
             }
            },
            "type": "parcoords"
           }
          ],
          "pie": [
           {
            "automargin": true,
            "type": "pie"
           }
          ],
          "scatter": [
           {
            "marker": {
             "colorbar": {
              "outlinewidth": 0,
              "ticks": ""
             }
            },
            "type": "scatter"
           }
          ],
          "scatter3d": [
           {
            "line": {
             "colorbar": {
              "outlinewidth": 0,
              "ticks": ""
             }
            },
            "marker": {
             "colorbar": {
              "outlinewidth": 0,
              "ticks": ""
             }
            },
            "type": "scatter3d"
           }
          ],
          "scattercarpet": [
           {
            "marker": {
             "colorbar": {
              "outlinewidth": 0,
              "ticks": ""
             }
            },
            "type": "scattercarpet"
           }
          ],
          "scattergeo": [
           {
            "marker": {
             "colorbar": {
              "outlinewidth": 0,
              "ticks": ""
             }
            },
            "type": "scattergeo"
           }
          ],
          "scattergl": [
           {
            "marker": {
             "colorbar": {
              "outlinewidth": 0,
              "ticks": ""
             }
            },
            "type": "scattergl"
           }
          ],
          "scattermapbox": [
           {
            "marker": {
             "colorbar": {
              "outlinewidth": 0,
              "ticks": ""
             }
            },
            "type": "scattermapbox"
           }
          ],
          "scatterpolar": [
           {
            "marker": {
             "colorbar": {
              "outlinewidth": 0,
              "ticks": ""
             }
            },
            "type": "scatterpolar"
           }
          ],
          "scatterpolargl": [
           {
            "marker": {
             "colorbar": {
              "outlinewidth": 0,
              "ticks": ""
             }
            },
            "type": "scatterpolargl"
           }
          ],
          "scatterternary": [
           {
            "marker": {
             "colorbar": {
              "outlinewidth": 0,
              "ticks": ""
             }
            },
            "type": "scatterternary"
           }
          ],
          "surface": [
           {
            "colorbar": {
             "outlinewidth": 0,
             "ticks": ""
            },
            "colorscale": [
             [
              0,
              "#0d0887"
             ],
             [
              0.1111111111111111,
              "#46039f"
             ],
             [
              0.2222222222222222,
              "#7201a8"
             ],
             [
              0.3333333333333333,
              "#9c179e"
             ],
             [
              0.4444444444444444,
              "#bd3786"
             ],
             [
              0.5555555555555556,
              "#d8576b"
             ],
             [
              0.6666666666666666,
              "#ed7953"
             ],
             [
              0.7777777777777778,
              "#fb9f3a"
             ],
             [
              0.8888888888888888,
              "#fdca26"
             ],
             [
              1,
              "#f0f921"
             ]
            ],
            "type": "surface"
           }
          ],
          "table": [
           {
            "cells": {
             "fill": {
              "color": "#EBF0F8"
             },
             "line": {
              "color": "white"
             }
            },
            "header": {
             "fill": {
              "color": "#C8D4E3"
             },
             "line": {
              "color": "white"
             }
            },
            "type": "table"
           }
          ]
         },
         "layout": {
          "annotationdefaults": {
           "arrowcolor": "#2a3f5f",
           "arrowhead": 0,
           "arrowwidth": 1
          },
          "autotypenumbers": "strict",
          "coloraxis": {
           "colorbar": {
            "outlinewidth": 0,
            "ticks": ""
           }
          },
          "colorscale": {
           "diverging": [
            [
             0,
             "#8e0152"
            ],
            [
             0.1,
             "#c51b7d"
            ],
            [
             0.2,
             "#de77ae"
            ],
            [
             0.3,
             "#f1b6da"
            ],
            [
             0.4,
             "#fde0ef"
            ],
            [
             0.5,
             "#f7f7f7"
            ],
            [
             0.6,
             "#e6f5d0"
            ],
            [
             0.7,
             "#b8e186"
            ],
            [
             0.8,
             "#7fbc41"
            ],
            [
             0.9,
             "#4d9221"
            ],
            [
             1,
             "#276419"
            ]
           ],
           "sequential": [
            [
             0,
             "#0d0887"
            ],
            [
             0.1111111111111111,
             "#46039f"
            ],
            [
             0.2222222222222222,
             "#7201a8"
            ],
            [
             0.3333333333333333,
             "#9c179e"
            ],
            [
             0.4444444444444444,
             "#bd3786"
            ],
            [
             0.5555555555555556,
             "#d8576b"
            ],
            [
             0.6666666666666666,
             "#ed7953"
            ],
            [
             0.7777777777777778,
             "#fb9f3a"
            ],
            [
             0.8888888888888888,
             "#fdca26"
            ],
            [
             1,
             "#f0f921"
            ]
           ],
           "sequentialminus": [
            [
             0,
             "#0d0887"
            ],
            [
             0.1111111111111111,
             "#46039f"
            ],
            [
             0.2222222222222222,
             "#7201a8"
            ],
            [
             0.3333333333333333,
             "#9c179e"
            ],
            [
             0.4444444444444444,
             "#bd3786"
            ],
            [
             0.5555555555555556,
             "#d8576b"
            ],
            [
             0.6666666666666666,
             "#ed7953"
            ],
            [
             0.7777777777777778,
             "#fb9f3a"
            ],
            [
             0.8888888888888888,
             "#fdca26"
            ],
            [
             1,
             "#f0f921"
            ]
           ]
          },
          "colorway": [
           "#636efa",
           "#EF553B",
           "#00cc96",
           "#ab63fa",
           "#FFA15A",
           "#19d3f3",
           "#FF6692",
           "#B6E880",
           "#FF97FF",
           "#FECB52"
          ],
          "font": {
           "color": "#2a3f5f"
          },
          "geo": {
           "bgcolor": "white",
           "lakecolor": "white",
           "landcolor": "#E5ECF6",
           "showlakes": true,
           "showland": true,
           "subunitcolor": "white"
          },
          "hoverlabel": {
           "align": "left"
          },
          "hovermode": "closest",
          "mapbox": {
           "style": "light"
          },
          "paper_bgcolor": "white",
          "plot_bgcolor": "#E5ECF6",
          "polar": {
           "angularaxis": {
            "gridcolor": "white",
            "linecolor": "white",
            "ticks": ""
           },
           "bgcolor": "#E5ECF6",
           "radialaxis": {
            "gridcolor": "white",
            "linecolor": "white",
            "ticks": ""
           }
          },
          "scene": {
           "xaxis": {
            "backgroundcolor": "#E5ECF6",
            "gridcolor": "white",
            "gridwidth": 2,
            "linecolor": "white",
            "showbackground": true,
            "ticks": "",
            "zerolinecolor": "white"
           },
           "yaxis": {
            "backgroundcolor": "#E5ECF6",
            "gridcolor": "white",
            "gridwidth": 2,
            "linecolor": "white",
            "showbackground": true,
            "ticks": "",
            "zerolinecolor": "white"
           },
           "zaxis": {
            "backgroundcolor": "#E5ECF6",
            "gridcolor": "white",
            "gridwidth": 2,
            "linecolor": "white",
            "showbackground": true,
            "ticks": "",
            "zerolinecolor": "white"
           }
          },
          "shapedefaults": {
           "line": {
            "color": "#2a3f5f"
           }
          },
          "ternary": {
           "aaxis": {
            "gridcolor": "white",
            "linecolor": "white",
            "ticks": ""
           },
           "baxis": {
            "gridcolor": "white",
            "linecolor": "white",
            "ticks": ""
           },
           "bgcolor": "#E5ECF6",
           "caxis": {
            "gridcolor": "white",
            "linecolor": "white",
            "ticks": ""
           }
          },
          "title": {
           "x": 0.05
          },
          "xaxis": {
           "automargin": true,
           "gridcolor": "white",
           "linecolor": "white",
           "ticks": "",
           "title": {
            "standoff": 15
           },
           "zerolinecolor": "white",
           "zerolinewidth": 2
          },
          "yaxis": {
           "automargin": true,
           "gridcolor": "white",
           "linecolor": "white",
           "ticks": "",
           "title": {
            "standoff": 15
           },
           "zerolinecolor": "white",
           "zerolinewidth": 2
          }
         }
        },
        "title": {
         "text": "Average vegetarian Food Price by Location"
        },
        "width": 1000,
        "xaxis": {
         "anchor": "y",
         "domain": [
          0,
          1
         ],
         "side": "top",
         "title": {
          "text": "veg"
         }
        },
        "yaxis": {
         "anchor": "x",
         "domain": [
          0,
          1
         ],
         "title": {
          "text": "Location"
         }
        }
       }
      },
      "text/html": [
       "<div>                            <div id=\"94dc992b-107a-4ae2-b517-972ea75c582f\" class=\"plotly-graph-div\" style=\"height:6000px; width:1000px;\"></div>            <script type=\"text/javascript\">                require([\"plotly\"], function(Plotly) {                    window.PLOTLYENV=window.PLOTLYENV || {};                                    if (document.getElementById(\"94dc992b-107a-4ae2-b517-972ea75c582f\")) {                    Plotly.newPlot(                        \"94dc992b-107a-4ae2-b517-972ea75c582f\",                        [{\"alignmentgroup\":\"True\",\"hovertemplate\":\"veg=%{x}<br>Location=%{y}<br>text=%{text}<extra></extra>\",\"legendgroup\":\"\",\"marker\":{\"color\":\"#636efa\",\"pattern\":{\"shape\":\"\"}},\"name\":\"\",\"offsetgroup\":\"\",\"orientation\":\"h\",\"showlegend\":false,\"text\":[\"Rs.nan\",\"Rs.100.0\",\"Rs.268.0\",\"Rs.395.24\",\"Rs.262.5\",\"Rs.266.67\",\"Rs.350.0\",\"Rs.285.96\",\"Rs.242.11\",\"Rs.360.0\",\"Rs.373.21\",\"Rs.340.54\",\"Rs.375.0\",\"Rs.254.55\",\"Rs.321.21\",\"Rs.278.57\",\"Rs.350.0\",\"Rs.325.0\",\"Rs.369.23\",\"Rs.211.11\",\"Rs.296.0\",\"Rs.nan\",\"Rs.nan\",\"Rs.463.33\",\"Rs.441.67\",\"Rs.348.81\",\"Rs.337.5\",\"Rs.nan\",\"Rs.351.85\",\"Rs.212.5\",\"Rs.352.5\",\"Rs.nan\",\"Rs.nan\",\"Rs.225.0\",\"Rs.200.0\",\"Rs.nan\",\"Rs.310.0\",\"Rs.316.0\",\"Rs.nan\",\"Rs.nan\",\"Rs.317.86\",\"Rs.308.33\",\"Rs.300.0\",\"Rs.166.67\",\"Rs.346.08\",\"Rs.337.5\",\"Rs.252.27\",\"Rs.225.0\",\"Rs.450.0\",\"Rs.nan\",\"Rs.378.57\",\"Rs.200.0\",\"Rs.360.0\",\"Rs.283.33\",\"Rs.314.29\",\"Rs.516.67\",\"Rs.nan\",\"Rs.162.5\",\"Rs.332.0\",\"Rs.416.67\",\"Rs.275.76\",\"Rs.425.0\",\"Rs.365.16\",\"Rs.266.67\",\"Rs.326.92\",\"Rs.321.67\",\"Rs.380.0\",\"Rs.nan\",\"Rs.569.57\",\"Rs.nan\",\"Rs.400.0\",\"Rs.nan\",\"Rs.287.5\",\"Rs.nan\",\"Rs.312.5\",\"Rs.320.0\",\"Rs.321.43\",\"Rs.400.0\",\"Rs.338.89\",\"Rs.310.0\",\"Rs.298.86\",\"Rs.350.0\",\"Rs.280.3\",\"Rs.406.67\",\"Rs.312.2\",\"Rs.333.33\",\"Rs.295.83\",\"Rs.412.5\",\"Rs.250.0\",\"Rs.322.73\",\"Rs.294.44\",\"Rs.300.0\",\"Rs.502.08\",\"Rs.227.27\",\"Rs.287.5\",\"Rs.466.67\",\"Rs.487.5\",\"Rs.352.0\",\"Rs.225.0\",\"Rs.300.0\",\"Rs.350.0\",\"Rs.nan\",\"Rs.209.09\",\"Rs.nan\",\"Rs.100.0\",\"Rs.357.83\",\"Rs.337.5\",\"Rs.200.0\",\"Rs.487.5\",\"Rs.nan\",\"Rs.175.0\",\"Rs.292.0\",\"Rs.357.69\",\"Rs.305.0\",\"Rs.200.0\",\"Rs.241.94\",\"Rs.nan\",\"Rs.nan\",\"Rs.407.14\",\"Rs.311.36\",\"Rs.408.33\",\"Rs.342.54\",\"Rs.271.05\",\"Rs.300.0\",\"Rs.272.73\",\"Rs.nan\",\"Rs.209.62\",\"Rs.245.71\"],\"textposition\":\"auto\",\"x\":[null,100.0,268.0,395.23809523809524,262.5,266.6666666666667,350.0,285.96491228070175,242.10526315789474,360.0,373.2142857142857,340.5405405405405,375.0,254.54545454545453,321.2121212121212,278.57142857142856,350.0,325.0,369.2307692307692,211.11111111111111,296.0,null,null,463.3333333333333,441.6666666666667,348.8095238095238,337.5,null,351.85185185185185,212.5,352.5,null,null,225.0,200.0,null,310.0,316.0,null,null,317.85714285714283,308.3333333333333,300.0,166.66666666666666,346.078431372549,337.5,252.27272727272728,225.0,450.0,null,378.57142857142856,200.0,360.0,283.3333333333333,314.2857142857143,516.6666666666666,null,162.5,332.0,416.6666666666667,275.75757575757575,425.0,365.15625,266.6666666666667,326.9230769230769,321.6666666666667,380.0,null,569.5652173913044,null,400.0,null,287.5,null,312.5,320.0,321.42857142857144,400.0,338.8888888888889,310.0,298.8636363636364,350.0,280.3030303030303,406.6666666666667,312.1951219512195,333.3333333333333,295.8333333333333,412.5,250.0,322.72727272727275,294.44444444444446,300.0,502.0833333333333,227.27272727272728,287.5,466.6666666666667,487.5,352.0,225.0,300.0,350.0,null,209.0909090909091,null,100.0,357.8313253012048,337.5,200.0,487.5,null,175.0,292.0,357.6923076923077,305.0,200.0,241.93548387096774,null,null,407.14285714285717,311.3636363636364,408.3333333333333,342.53731343283584,271.05263157894734,300.0,272.72727272727275,null,209.6153846153846,245.71428571428572],\"xaxis\":\"x\",\"y\":[\"ARadhaHotel\",\"Abhiramapuram\",\"Adambakkam\",\"Adyar\",\"Akkarai\",\"Alandur\",\"Alwarpet\",\"Ambattur\",\"Aminijikarai\",\"AnnaNagar\",\"AnnaNagarEast\",\"AnnaNagarWest\",\"AnnaSalai\",\"Arumbakkam\",\"AshokNagar\",\"Avadi\",\"BesantNagar\",\"Chengalpattu\",\"Chetpet\",\"Choolaimedu\",\"Chromepet\",\"Citadines\",\"East...\",\"EastCoastRoad(ECR)\",\"Egatoor\",\"Egmore\",\"Ekkaduthangal\",\"FoodiesKitchen\",\"GSTRoad\",\"GeorgeTown\",\"Gopalapuram\",\"GrandbyGRTHotels\",\"GrandeBayResort\",\"Guduvancheri\",\"Guindy\",\"HolidayInnChennaiOMRITExpressway\",\"Injambakkam\",\"K.K.Nagar\",\"Kanathur\",\"Kanchipuram\",\"KanchipuramDistrict\",\"Kandanchavadi\",\"Karapakkam\",\"Kelambakkam\",\"Kilpauk\",\"Kodambakkam\",\"Kolathur\",\"Kottivakkam\",\"Kotturpuram\",\"Kovalam\",\"Koyambedu\",\"MRCNagar\",\"Madhavaram\",\"Madipakkam\",\"Maduravoyal\",\"Mahabalipuram\",\"Mamallapuram\",\"Mandaveli\",\"Medavakkam\",\"Meenambakkam\",\"Mogappair\",\"Muttukadu\",\"Mylapore\",\"Nandanam\",\"Nanganallur\",\"Navallur\",\"Neelangarai\",\"NovotelChennaiSipcot\",\"Nungambakkam\",\"OMR\",\"Okkiyampet\",\"OldMahabalipuramRoad\",\"OldMahabalipuramRoad(OMR)\",\"Oragadam\",\"Padur\",\"Palavakkam\",\"Pallavaram\",\"Pallikaranai\",\"ParkTown\",\"Parrys\",\"Perambur\",\"Perumbakkam\",\"Perungudi\",\"Poonamalle\",\"Porur\",\"Potheri\",\"Purasavakkam\",\"RAPuram\",\"RKSalai(CathedralRoad)\",\"Ramapuram\",\"RedHills\",\"Redhills\",\"Royapettah\",\"Royapuram\",\"Saidapet\",\"Saligramam\",\"Santhome\",\"Selaiyur\",\"Semmancheri\",\"ShenoyNagar\",\"Sholinganallur\",\"SomersetGreenways\",\"Sowcarpet\",\"Sriperumbudur\",\"St.ThomasMount\",\"T.Nagar\",\"Tambaram\",\"Taramani\",\"Teynampet\",\"TheSlate\",\"Thiruvallur\",\"Thiruvanmiyur\",\"ThousandLights\",\"Thuraipakkam\",\"Tiruvottiyur\",\"Triplicane\",\"TuryaaChennai\",\"V7Hotel\",\"Vadapalani\",\"Valasaravakkam\",\"Vandalur\",\"Velachery\",\"Vepery\",\"Vettuvankeni\",\"Virugambakkam\",\"Vivanta Chennai, IT Expressway, Sholinganallur \",\"Washermenpet\",\"WestMambalam\"],\"yaxis\":\"y\",\"type\":\"bar\"}],                        {\"template\":{\"data\":{\"bar\":[{\"error_x\":{\"color\":\"#2a3f5f\"},\"error_y\":{\"color\":\"#2a3f5f\"},\"marker\":{\"line\":{\"color\":\"#E5ECF6\",\"width\":0.5},\"pattern\":{\"fillmode\":\"overlay\",\"size\":10,\"solidity\":0.2}},\"type\":\"bar\"}],\"barpolar\":[{\"marker\":{\"line\":{\"color\":\"#E5ECF6\",\"width\":0.5},\"pattern\":{\"fillmode\":\"overlay\",\"size\":10,\"solidity\":0.2}},\"type\":\"barpolar\"}],\"carpet\":[{\"aaxis\":{\"endlinecolor\":\"#2a3f5f\",\"gridcolor\":\"white\",\"linecolor\":\"white\",\"minorgridcolor\":\"white\",\"startlinecolor\":\"#2a3f5f\"},\"baxis\":{\"endlinecolor\":\"#2a3f5f\",\"gridcolor\":\"white\",\"linecolor\":\"white\",\"minorgridcolor\":\"white\",\"startlinecolor\":\"#2a3f5f\"},\"type\":\"carpet\"}],\"choropleth\":[{\"colorbar\":{\"outlinewidth\":0,\"ticks\":\"\"},\"type\":\"choropleth\"}],\"contour\":[{\"colorbar\":{\"outlinewidth\":0,\"ticks\":\"\"},\"colorscale\":[[0.0,\"#0d0887\"],[0.1111111111111111,\"#46039f\"],[0.2222222222222222,\"#7201a8\"],[0.3333333333333333,\"#9c179e\"],[0.4444444444444444,\"#bd3786\"],[0.5555555555555556,\"#d8576b\"],[0.6666666666666666,\"#ed7953\"],[0.7777777777777778,\"#fb9f3a\"],[0.8888888888888888,\"#fdca26\"],[1.0,\"#f0f921\"]],\"type\":\"contour\"}],\"contourcarpet\":[{\"colorbar\":{\"outlinewidth\":0,\"ticks\":\"\"},\"type\":\"contourcarpet\"}],\"heatmap\":[{\"colorbar\":{\"outlinewidth\":0,\"ticks\":\"\"},\"colorscale\":[[0.0,\"#0d0887\"],[0.1111111111111111,\"#46039f\"],[0.2222222222222222,\"#7201a8\"],[0.3333333333333333,\"#9c179e\"],[0.4444444444444444,\"#bd3786\"],[0.5555555555555556,\"#d8576b\"],[0.6666666666666666,\"#ed7953\"],[0.7777777777777778,\"#fb9f3a\"],[0.8888888888888888,\"#fdca26\"],[1.0,\"#f0f921\"]],\"type\":\"heatmap\"}],\"heatmapgl\":[{\"colorbar\":{\"outlinewidth\":0,\"ticks\":\"\"},\"colorscale\":[[0.0,\"#0d0887\"],[0.1111111111111111,\"#46039f\"],[0.2222222222222222,\"#7201a8\"],[0.3333333333333333,\"#9c179e\"],[0.4444444444444444,\"#bd3786\"],[0.5555555555555556,\"#d8576b\"],[0.6666666666666666,\"#ed7953\"],[0.7777777777777778,\"#fb9f3a\"],[0.8888888888888888,\"#fdca26\"],[1.0,\"#f0f921\"]],\"type\":\"heatmapgl\"}],\"histogram\":[{\"marker\":{\"pattern\":{\"fillmode\":\"overlay\",\"size\":10,\"solidity\":0.2}},\"type\":\"histogram\"}],\"histogram2d\":[{\"colorbar\":{\"outlinewidth\":0,\"ticks\":\"\"},\"colorscale\":[[0.0,\"#0d0887\"],[0.1111111111111111,\"#46039f\"],[0.2222222222222222,\"#7201a8\"],[0.3333333333333333,\"#9c179e\"],[0.4444444444444444,\"#bd3786\"],[0.5555555555555556,\"#d8576b\"],[0.6666666666666666,\"#ed7953\"],[0.7777777777777778,\"#fb9f3a\"],[0.8888888888888888,\"#fdca26\"],[1.0,\"#f0f921\"]],\"type\":\"histogram2d\"}],\"histogram2dcontour\":[{\"colorbar\":{\"outlinewidth\":0,\"ticks\":\"\"},\"colorscale\":[[0.0,\"#0d0887\"],[0.1111111111111111,\"#46039f\"],[0.2222222222222222,\"#7201a8\"],[0.3333333333333333,\"#9c179e\"],[0.4444444444444444,\"#bd3786\"],[0.5555555555555556,\"#d8576b\"],[0.6666666666666666,\"#ed7953\"],[0.7777777777777778,\"#fb9f3a\"],[0.8888888888888888,\"#fdca26\"],[1.0,\"#f0f921\"]],\"type\":\"histogram2dcontour\"}],\"mesh3d\":[{\"colorbar\":{\"outlinewidth\":0,\"ticks\":\"\"},\"type\":\"mesh3d\"}],\"parcoords\":[{\"line\":{\"colorbar\":{\"outlinewidth\":0,\"ticks\":\"\"}},\"type\":\"parcoords\"}],\"pie\":[{\"automargin\":true,\"type\":\"pie\"}],\"scatter\":[{\"marker\":{\"colorbar\":{\"outlinewidth\":0,\"ticks\":\"\"}},\"type\":\"scatter\"}],\"scatter3d\":[{\"line\":{\"colorbar\":{\"outlinewidth\":0,\"ticks\":\"\"}},\"marker\":{\"colorbar\":{\"outlinewidth\":0,\"ticks\":\"\"}},\"type\":\"scatter3d\"}],\"scattercarpet\":[{\"marker\":{\"colorbar\":{\"outlinewidth\":0,\"ticks\":\"\"}},\"type\":\"scattercarpet\"}],\"scattergeo\":[{\"marker\":{\"colorbar\":{\"outlinewidth\":0,\"ticks\":\"\"}},\"type\":\"scattergeo\"}],\"scattergl\":[{\"marker\":{\"colorbar\":{\"outlinewidth\":0,\"ticks\":\"\"}},\"type\":\"scattergl\"}],\"scattermapbox\":[{\"marker\":{\"colorbar\":{\"outlinewidth\":0,\"ticks\":\"\"}},\"type\":\"scattermapbox\"}],\"scatterpolar\":[{\"marker\":{\"colorbar\":{\"outlinewidth\":0,\"ticks\":\"\"}},\"type\":\"scatterpolar\"}],\"scatterpolargl\":[{\"marker\":{\"colorbar\":{\"outlinewidth\":0,\"ticks\":\"\"}},\"type\":\"scatterpolargl\"}],\"scatterternary\":[{\"marker\":{\"colorbar\":{\"outlinewidth\":0,\"ticks\":\"\"}},\"type\":\"scatterternary\"}],\"surface\":[{\"colorbar\":{\"outlinewidth\":0,\"ticks\":\"\"},\"colorscale\":[[0.0,\"#0d0887\"],[0.1111111111111111,\"#46039f\"],[0.2222222222222222,\"#7201a8\"],[0.3333333333333333,\"#9c179e\"],[0.4444444444444444,\"#bd3786\"],[0.5555555555555556,\"#d8576b\"],[0.6666666666666666,\"#ed7953\"],[0.7777777777777778,\"#fb9f3a\"],[0.8888888888888888,\"#fdca26\"],[1.0,\"#f0f921\"]],\"type\":\"surface\"}],\"table\":[{\"cells\":{\"fill\":{\"color\":\"#EBF0F8\"},\"line\":{\"color\":\"white\"}},\"header\":{\"fill\":{\"color\":\"#C8D4E3\"},\"line\":{\"color\":\"white\"}},\"type\":\"table\"}]},\"layout\":{\"annotationdefaults\":{\"arrowcolor\":\"#2a3f5f\",\"arrowhead\":0,\"arrowwidth\":1},\"autotypenumbers\":\"strict\",\"coloraxis\":{\"colorbar\":{\"outlinewidth\":0,\"ticks\":\"\"}},\"colorscale\":{\"diverging\":[[0,\"#8e0152\"],[0.1,\"#c51b7d\"],[0.2,\"#de77ae\"],[0.3,\"#f1b6da\"],[0.4,\"#fde0ef\"],[0.5,\"#f7f7f7\"],[0.6,\"#e6f5d0\"],[0.7,\"#b8e186\"],[0.8,\"#7fbc41\"],[0.9,\"#4d9221\"],[1,\"#276419\"]],\"sequential\":[[0.0,\"#0d0887\"],[0.1111111111111111,\"#46039f\"],[0.2222222222222222,\"#7201a8\"],[0.3333333333333333,\"#9c179e\"],[0.4444444444444444,\"#bd3786\"],[0.5555555555555556,\"#d8576b\"],[0.6666666666666666,\"#ed7953\"],[0.7777777777777778,\"#fb9f3a\"],[0.8888888888888888,\"#fdca26\"],[1.0,\"#f0f921\"]],\"sequentialminus\":[[0.0,\"#0d0887\"],[0.1111111111111111,\"#46039f\"],[0.2222222222222222,\"#7201a8\"],[0.3333333333333333,\"#9c179e\"],[0.4444444444444444,\"#bd3786\"],[0.5555555555555556,\"#d8576b\"],[0.6666666666666666,\"#ed7953\"],[0.7777777777777778,\"#fb9f3a\"],[0.8888888888888888,\"#fdca26\"],[1.0,\"#f0f921\"]]},\"colorway\":[\"#636efa\",\"#EF553B\",\"#00cc96\",\"#ab63fa\",\"#FFA15A\",\"#19d3f3\",\"#FF6692\",\"#B6E880\",\"#FF97FF\",\"#FECB52\"],\"font\":{\"color\":\"#2a3f5f\"},\"geo\":{\"bgcolor\":\"white\",\"lakecolor\":\"white\",\"landcolor\":\"#E5ECF6\",\"showlakes\":true,\"showland\":true,\"subunitcolor\":\"white\"},\"hoverlabel\":{\"align\":\"left\"},\"hovermode\":\"closest\",\"mapbox\":{\"style\":\"light\"},\"paper_bgcolor\":\"white\",\"plot_bgcolor\":\"#E5ECF6\",\"polar\":{\"angularaxis\":{\"gridcolor\":\"white\",\"linecolor\":\"white\",\"ticks\":\"\"},\"bgcolor\":\"#E5ECF6\",\"radialaxis\":{\"gridcolor\":\"white\",\"linecolor\":\"white\",\"ticks\":\"\"}},\"scene\":{\"xaxis\":{\"backgroundcolor\":\"#E5ECF6\",\"gridcolor\":\"white\",\"gridwidth\":2,\"linecolor\":\"white\",\"showbackground\":true,\"ticks\":\"\",\"zerolinecolor\":\"white\"},\"yaxis\":{\"backgroundcolor\":\"#E5ECF6\",\"gridcolor\":\"white\",\"gridwidth\":2,\"linecolor\":\"white\",\"showbackground\":true,\"ticks\":\"\",\"zerolinecolor\":\"white\"},\"zaxis\":{\"backgroundcolor\":\"#E5ECF6\",\"gridcolor\":\"white\",\"gridwidth\":2,\"linecolor\":\"white\",\"showbackground\":true,\"ticks\":\"\",\"zerolinecolor\":\"white\"}},\"shapedefaults\":{\"line\":{\"color\":\"#2a3f5f\"}},\"ternary\":{\"aaxis\":{\"gridcolor\":\"white\",\"linecolor\":\"white\",\"ticks\":\"\"},\"baxis\":{\"gridcolor\":\"white\",\"linecolor\":\"white\",\"ticks\":\"\"},\"bgcolor\":\"#E5ECF6\",\"caxis\":{\"gridcolor\":\"white\",\"linecolor\":\"white\",\"ticks\":\"\"}},\"title\":{\"x\":0.05},\"xaxis\":{\"automargin\":true,\"gridcolor\":\"white\",\"linecolor\":\"white\",\"ticks\":\"\",\"title\":{\"standoff\":15},\"zerolinecolor\":\"white\",\"zerolinewidth\":2},\"yaxis\":{\"automargin\":true,\"gridcolor\":\"white\",\"linecolor\":\"white\",\"ticks\":\"\",\"title\":{\"standoff\":15},\"zerolinecolor\":\"white\",\"zerolinewidth\":2}}},\"xaxis\":{\"anchor\":\"y\",\"domain\":[0.0,1.0],\"title\":{\"text\":\"veg\"},\"side\":\"top\"},\"yaxis\":{\"anchor\":\"x\",\"domain\":[0.0,1.0],\"title\":{\"text\":\"Location\"}},\"legend\":{\"tracegroupgap\":0},\"title\":{\"text\":\"Average vegetarian Food Price by Location\"},\"barmode\":\"group\",\"width\":1000,\"height\":6000},                        {\"responsive\": true}                    ).then(function(){\n",
       "                            \n",
       "var gd = document.getElementById('94dc992b-107a-4ae2-b517-972ea75c582f');\n",
       "var x = new MutationObserver(function (mutations, observer) {{\n",
       "        var display = window.getComputedStyle(gd).display;\n",
       "        if (!display || display === 'none') {{\n",
       "            console.log([gd, 'removed!']);\n",
       "            Plotly.purge(gd);\n",
       "            observer.disconnect();\n",
       "        }}\n",
       "}});\n",
       "\n",
       "// Listen for the removal of the full notebook cells\n",
       "var notebookContainer = gd.closest('#notebook-container');\n",
       "if (notebookContainer) {{\n",
       "    x.observe(notebookContainer, {childList: true});\n",
       "}}\n",
       "\n",
       "// Listen for the clearing of the current output cell\n",
       "var outputEl = gd.closest('.output');\n",
       "if (outputEl) {{\n",
       "    x.observe(outputEl, {childList: true});\n",
       "}}\n",
       "\n",
       "                        })                };                });            </script>        </div>"
      ]
     },
     "metadata": {},
     "output_type": "display_data"
    }
   ],
   "source": [
    "average_prices = zomato_data.groupby(['Location', 'veg_only'])['Price for 2'].mean().unstack().reset_index()\n",
    "fig = px.bar(average_prices, y='Location', x='veg',\n",
    "             title='Average vegetarian Food Price by Location',\n",
    "             labels={'value': 'Average Price'},\n",
    "             barmode='group', orientation='h',\n",
    "             text=[\"Rs.\" + str(val) for val in round(average_prices['veg'], 2)])  # Add this line to show value labels\n",
    "\n",
    "# Customize the value labels\n",
    "fig.update_layout(\n",
    "    width=1000,  # Set your desired width\n",
    "    height=6000  # Set your desired height\n",
    ")\n",
    "fig.update_layout(\n",
    "    xaxis=dict(side='top')\n",
    ")\n",
    "\n",
    "fig.show()"
   ]
  },
  {
   "cell_type": "markdown",
   "id": "2a5e8f7a",
   "metadata": {},
   "source": [
    "### Average Price of Non-vegetarian Restaurant"
   ]
  },
  {
   "cell_type": "code",
   "execution_count": 270,
   "id": "aa6ef205",
   "metadata": {},
   "outputs": [
    {
     "data": {
      "application/vnd.plotly.v1+json": {
       "config": {
        "plotlyServerURL": "https://plot.ly"
       },
       "data": [
        {
         "alignmentgroup": "True",
         "hovertemplate": "non-veg=%{x}<br>Location=%{y}<br>text=%{text}<extra></extra>",
         "legendgroup": "",
         "marker": {
          "color": "#636efa",
          "pattern": {
           "shape": ""
          }
         },
         "name": "",
         "offsetgroup": "",
         "orientation": "h",
         "showlegend": false,
         "text": [
          "Rs.1900.0",
          "Rs.250.0",
          "Rs.297.28",
          "Rs.456.67",
          "Rs.804.17",
          "Rs.443.55",
          "Rs.736.67",
          "Rs.328.26",
          "Rs.369.83",
          "Rs.485.71",
          "Rs.415.28",
          "Rs.367.26",
          "Rs.572.06",
          "Rs.372.82",
          "Rs.373.66",
          "Rs.344.55",
          "Rs.461.29",
          "Rs.394.84",
          "Rs.461.67",
          "Rs.298.39",
          "Rs.349.03",
          "Rs.1350.0",
          "Rs.1500.0",
          "Rs.794.44",
          "Rs.427.27",
          "Rs.523.39",
          "Rs.363.97",
          "Rs.1133.33",
          "Rs.459.94",
          "Rs.305.74",
          "Rs.603.57",
          "Rs.2466.67",
          "Rs.1500.0",
          "Rs.381.82",
          "Rs.966.38",
          "Rs.1900.0",
          "Rs.516.67",
          "Rs.290.0",
          "Rs.489.66",
          "Rs.1850.0",
          "Rs.415.6",
          "Rs.368.18",
          "Rs.334.24",
          "Rs.348.89",
          "Rs.391.61",
          "Rs.355.56",
          "Rs.357.09",
          "Rs.396.25",
          "Rs.488.0",
          "Rs.437.5",
          "Rs.492.86",
          "Rs.1577.27",
          "Rs.322.32",
          "Rs.336.05",
          "Rs.326.44",
          "Rs.607.78",
          "Rs.2300.0",
          "Rs.321.62",
          "Rs.358.13",
          "Rs.341.67",
          "Rs.385.56",
          "Rs.672.22",
          "Rs.430.77",
          "Rs.629.17",
          "Rs.327.16",
          "Rs.358.12",
          "Rs.571.21",
          "Rs.2000.0",
          "Rs.641.42",
          "Rs.1433.33",
          "Rs.278.57",
          "Rs.1150.0",
          "Rs.634.21",
          "Rs.562.5",
          "Rs.382.35",
          "Rs.420.83",
          "Rs.327.78",
          "Rs.352.17",
          "Rs.364.06",
          "Rs.340.0",
          "Rs.327.94",
          "Rs.475.0",
          "Rs.370.98",
          "Rs.404.55",
          "Rs.355.26",
          "Rs.376.36",
          "Rs.328.49",
          "Rs.607.14",
          "Rs.1650.0",
          "Rs.364.3",
          "Rs.297.73",
          "Rs.266.67",
          "Rs.393.81",
          "Rs.348.96",
          "Rs.384.62",
          "Rs.332.58",
          "Rs.516.67",
          "Rs.346.11",
          "Rs.485.94",
          "Rs.325.86",
          "Rs.386.62",
          "Rs.1600.0",
          "Rs.221.62",
          "Rs.2050.0",
          "Rs.551.61",
          "Rs.460.31",
          "Rs.335.26",
          "Rs.354.8",
          "Rs.730.12",
          "Rs.1500.0",
          "Rs.327.69",
          "Rs.332.07",
          "Rs.666.95",
          "Rs.409.96",
          "Rs.254.41",
          "Rs.439.33",
          "Rs.1437.5",
          "Rs.1933.33",
          "Rs.440.94",
          "Rs.336.14",
          "Rs.380.95",
          "Rs.410.99",
          "Rs.285.23",
          "Rs.566.67",
          "Rs.369.23",
          "Rs.2166.67",
          "Rs.314.21",
          "Rs.278.41"
         ],
         "textposition": "auto",
         "type": "bar",
         "x": [
          1900,
          250,
          297.2826086956522,
          456.6666666666667,
          804.1666666666666,
          443.5483870967742,
          736.6666666666666,
          328.25657894736844,
          369.82758620689657,
          485.7142857142857,
          415.28384279475983,
          367.25961538461536,
          572.0588235294117,
          372.8205128205128,
          373.6641221374046,
          344.54545454545456,
          461.2903225806452,
          394.8412698412698,
          461.6666666666667,
          298.38709677419354,
          349.03225806451616,
          1350,
          1500,
          794.4444444444445,
          427.27272727272725,
          523.394495412844,
          363.97058823529414,
          1133.3333333333333,
          459.9431818181818,
          305.73770491803276,
          603.5714285714286,
          2466.6666666666665,
          1500,
          381.8181818181818,
          966.3793103448276,
          1900,
          516.6666666666666,
          290,
          489.6551724137931,
          1850,
          415.60283687943263,
          368.1818181818182,
          334.2391304347826,
          348.8888888888889,
          391.61290322580646,
          355.55555555555554,
          357.0945945945946,
          396.25,
          488,
          437.5,
          492.85714285714283,
          1577.2727272727273,
          322.32142857142856,
          336.04651162790697,
          326.4367816091954,
          607.7777777777778,
          2300,
          321.6216216216216,
          358.130081300813,
          341.6666666666667,
          385.5614973262032,
          672.2222222222222,
          430.7692307692308,
          629.1666666666666,
          327.1604938271605,
          358.1203007518797,
          571.2121212121212,
          2000,
          641.4163090128756,
          1433.3333333333333,
          278.57142857142856,
          1150,
          634.2105263157895,
          562.5,
          382.3529411764706,
          420.8333333333333,
          327.77777777777777,
          352.17391304347825,
          364.0625,
          340,
          327.9399141630901,
          475,
          370.98039215686276,
          404.54545454545456,
          355.2631578947368,
          376.3636363636364,
          328.48837209302326,
          607.1428571428571,
          1650,
          364.30434782608694,
          297.72727272727275,
          266.6666666666667,
          393.8144329896907,
          348.9583333333333,
          384.61538461538464,
          332.57575757575756,
          516.6666666666666,
          346.1139896373057,
          485.9375,
          325.86206896551727,
          386.62420382165607,
          1600,
          221.6216216216216,
          2050,
          551.6129032258065,
          460.3112840466926,
          335.2564102564103,
          354.8,
          730.1204819277109,
          1500,
          327.6923076923077,
          332.0652173913044,
          666.9491525423729,
          409.95515695067263,
          254.41176470588235,
          439.3258426966292,
          1437.5,
          1933.3333333333333,
          440.9375,
          336.13861386138615,
          380.95238095238096,
          410.98870056497174,
          285.22727272727275,
          566.6666666666666,
          369.2307692307692,
          2166.6666666666665,
          314.2105263157895,
          278.40909090909093
         ],
         "xaxis": "x",
         "y": [
          "ARadhaHotel",
          "Abhiramapuram",
          "Adambakkam",
          "Adyar",
          "Akkarai",
          "Alandur",
          "Alwarpet",
          "Ambattur",
          "Aminijikarai",
          "AnnaNagar",
          "AnnaNagarEast",
          "AnnaNagarWest",
          "AnnaSalai",
          "Arumbakkam",
          "AshokNagar",
          "Avadi",
          "BesantNagar",
          "Chengalpattu",
          "Chetpet",
          "Choolaimedu",
          "Chromepet",
          "Citadines",
          "East...",
          "EastCoastRoad(ECR)",
          "Egatoor",
          "Egmore",
          "Ekkaduthangal",
          "FoodiesKitchen",
          "GSTRoad",
          "GeorgeTown",
          "Gopalapuram",
          "GrandbyGRTHotels",
          "GrandeBayResort",
          "Guduvancheri",
          "Guindy",
          "HolidayInnChennaiOMRITExpressway",
          "Injambakkam",
          "K.K.Nagar",
          "Kanathur",
          "Kanchipuram",
          "KanchipuramDistrict",
          "Kandanchavadi",
          "Karapakkam",
          "Kelambakkam",
          "Kilpauk",
          "Kodambakkam",
          "Kolathur",
          "Kottivakkam",
          "Kotturpuram",
          "Kovalam",
          "Koyambedu",
          "MRCNagar",
          "Madhavaram",
          "Madipakkam",
          "Maduravoyal",
          "Mahabalipuram",
          "Mamallapuram",
          "Mandaveli",
          "Medavakkam",
          "Meenambakkam",
          "Mogappair",
          "Muttukadu",
          "Mylapore",
          "Nandanam",
          "Nanganallur",
          "Navallur",
          "Neelangarai",
          "NovotelChennaiSipcot",
          "Nungambakkam",
          "OMR",
          "Okkiyampet",
          "OldMahabalipuramRoad",
          "OldMahabalipuramRoad(OMR)",
          "Oragadam",
          "Padur",
          "Palavakkam",
          "Pallavaram",
          "Pallikaranai",
          "ParkTown",
          "Parrys",
          "Perambur",
          "Perumbakkam",
          "Perungudi",
          "Poonamalle",
          "Porur",
          "Potheri",
          "Purasavakkam",
          "RAPuram",
          "RKSalai(CathedralRoad)",
          "Ramapuram",
          "RedHills",
          "Redhills",
          "Royapettah",
          "Royapuram",
          "Saidapet",
          "Saligramam",
          "Santhome",
          "Selaiyur",
          "Semmancheri",
          "ShenoyNagar",
          "Sholinganallur",
          "SomersetGreenways",
          "Sowcarpet",
          "Sriperumbudur",
          "St.ThomasMount",
          "T.Nagar",
          "Tambaram",
          "Taramani",
          "Teynampet",
          "TheSlate",
          "Thiruvallur",
          "Thiruvanmiyur",
          "ThousandLights",
          "Thuraipakkam",
          "Tiruvottiyur",
          "Triplicane",
          "TuryaaChennai",
          "V7Hotel",
          "Vadapalani",
          "Valasaravakkam",
          "Vandalur",
          "Velachery",
          "Vepery",
          "Vettuvankeni",
          "Virugambakkam",
          "Vivanta Chennai, IT Expressway, Sholinganallur ",
          "Washermenpet",
          "WestMambalam"
         ],
         "yaxis": "y"
        }
       ],
       "layout": {
        "barmode": "group",
        "height": 6000,
        "legend": {
         "tracegroupgap": 0
        },
        "template": {
         "data": {
          "bar": [
           {
            "error_x": {
             "color": "#2a3f5f"
            },
            "error_y": {
             "color": "#2a3f5f"
            },
            "marker": {
             "line": {
              "color": "#E5ECF6",
              "width": 0.5
             },
             "pattern": {
              "fillmode": "overlay",
              "size": 10,
              "solidity": 0.2
             }
            },
            "type": "bar"
           }
          ],
          "barpolar": [
           {
            "marker": {
             "line": {
              "color": "#E5ECF6",
              "width": 0.5
             },
             "pattern": {
              "fillmode": "overlay",
              "size": 10,
              "solidity": 0.2
             }
            },
            "type": "barpolar"
           }
          ],
          "carpet": [
           {
            "aaxis": {
             "endlinecolor": "#2a3f5f",
             "gridcolor": "white",
             "linecolor": "white",
             "minorgridcolor": "white",
             "startlinecolor": "#2a3f5f"
            },
            "baxis": {
             "endlinecolor": "#2a3f5f",
             "gridcolor": "white",
             "linecolor": "white",
             "minorgridcolor": "white",
             "startlinecolor": "#2a3f5f"
            },
            "type": "carpet"
           }
          ],
          "choropleth": [
           {
            "colorbar": {
             "outlinewidth": 0,
             "ticks": ""
            },
            "type": "choropleth"
           }
          ],
          "contour": [
           {
            "colorbar": {
             "outlinewidth": 0,
             "ticks": ""
            },
            "colorscale": [
             [
              0,
              "#0d0887"
             ],
             [
              0.1111111111111111,
              "#46039f"
             ],
             [
              0.2222222222222222,
              "#7201a8"
             ],
             [
              0.3333333333333333,
              "#9c179e"
             ],
             [
              0.4444444444444444,
              "#bd3786"
             ],
             [
              0.5555555555555556,
              "#d8576b"
             ],
             [
              0.6666666666666666,
              "#ed7953"
             ],
             [
              0.7777777777777778,
              "#fb9f3a"
             ],
             [
              0.8888888888888888,
              "#fdca26"
             ],
             [
              1,
              "#f0f921"
             ]
            ],
            "type": "contour"
           }
          ],
          "contourcarpet": [
           {
            "colorbar": {
             "outlinewidth": 0,
             "ticks": ""
            },
            "type": "contourcarpet"
           }
          ],
          "heatmap": [
           {
            "colorbar": {
             "outlinewidth": 0,
             "ticks": ""
            },
            "colorscale": [
             [
              0,
              "#0d0887"
             ],
             [
              0.1111111111111111,
              "#46039f"
             ],
             [
              0.2222222222222222,
              "#7201a8"
             ],
             [
              0.3333333333333333,
              "#9c179e"
             ],
             [
              0.4444444444444444,
              "#bd3786"
             ],
             [
              0.5555555555555556,
              "#d8576b"
             ],
             [
              0.6666666666666666,
              "#ed7953"
             ],
             [
              0.7777777777777778,
              "#fb9f3a"
             ],
             [
              0.8888888888888888,
              "#fdca26"
             ],
             [
              1,
              "#f0f921"
             ]
            ],
            "type": "heatmap"
           }
          ],
          "heatmapgl": [
           {
            "colorbar": {
             "outlinewidth": 0,
             "ticks": ""
            },
            "colorscale": [
             [
              0,
              "#0d0887"
             ],
             [
              0.1111111111111111,
              "#46039f"
             ],
             [
              0.2222222222222222,
              "#7201a8"
             ],
             [
              0.3333333333333333,
              "#9c179e"
             ],
             [
              0.4444444444444444,
              "#bd3786"
             ],
             [
              0.5555555555555556,
              "#d8576b"
             ],
             [
              0.6666666666666666,
              "#ed7953"
             ],
             [
              0.7777777777777778,
              "#fb9f3a"
             ],
             [
              0.8888888888888888,
              "#fdca26"
             ],
             [
              1,
              "#f0f921"
             ]
            ],
            "type": "heatmapgl"
           }
          ],
          "histogram": [
           {
            "marker": {
             "pattern": {
              "fillmode": "overlay",
              "size": 10,
              "solidity": 0.2
             }
            },
            "type": "histogram"
           }
          ],
          "histogram2d": [
           {
            "colorbar": {
             "outlinewidth": 0,
             "ticks": ""
            },
            "colorscale": [
             [
              0,
              "#0d0887"
             ],
             [
              0.1111111111111111,
              "#46039f"
             ],
             [
              0.2222222222222222,
              "#7201a8"
             ],
             [
              0.3333333333333333,
              "#9c179e"
             ],
             [
              0.4444444444444444,
              "#bd3786"
             ],
             [
              0.5555555555555556,
              "#d8576b"
             ],
             [
              0.6666666666666666,
              "#ed7953"
             ],
             [
              0.7777777777777778,
              "#fb9f3a"
             ],
             [
              0.8888888888888888,
              "#fdca26"
             ],
             [
              1,
              "#f0f921"
             ]
            ],
            "type": "histogram2d"
           }
          ],
          "histogram2dcontour": [
           {
            "colorbar": {
             "outlinewidth": 0,
             "ticks": ""
            },
            "colorscale": [
             [
              0,
              "#0d0887"
             ],
             [
              0.1111111111111111,
              "#46039f"
             ],
             [
              0.2222222222222222,
              "#7201a8"
             ],
             [
              0.3333333333333333,
              "#9c179e"
             ],
             [
              0.4444444444444444,
              "#bd3786"
             ],
             [
              0.5555555555555556,
              "#d8576b"
             ],
             [
              0.6666666666666666,
              "#ed7953"
             ],
             [
              0.7777777777777778,
              "#fb9f3a"
             ],
             [
              0.8888888888888888,
              "#fdca26"
             ],
             [
              1,
              "#f0f921"
             ]
            ],
            "type": "histogram2dcontour"
           }
          ],
          "mesh3d": [
           {
            "colorbar": {
             "outlinewidth": 0,
             "ticks": ""
            },
            "type": "mesh3d"
           }
          ],
          "parcoords": [
           {
            "line": {
             "colorbar": {
              "outlinewidth": 0,
              "ticks": ""
             }
            },
            "type": "parcoords"
           }
          ],
          "pie": [
           {
            "automargin": true,
            "type": "pie"
           }
          ],
          "scatter": [
           {
            "marker": {
             "colorbar": {
              "outlinewidth": 0,
              "ticks": ""
             }
            },
            "type": "scatter"
           }
          ],
          "scatter3d": [
           {
            "line": {
             "colorbar": {
              "outlinewidth": 0,
              "ticks": ""
             }
            },
            "marker": {
             "colorbar": {
              "outlinewidth": 0,
              "ticks": ""
             }
            },
            "type": "scatter3d"
           }
          ],
          "scattercarpet": [
           {
            "marker": {
             "colorbar": {
              "outlinewidth": 0,
              "ticks": ""
             }
            },
            "type": "scattercarpet"
           }
          ],
          "scattergeo": [
           {
            "marker": {
             "colorbar": {
              "outlinewidth": 0,
              "ticks": ""
             }
            },
            "type": "scattergeo"
           }
          ],
          "scattergl": [
           {
            "marker": {
             "colorbar": {
              "outlinewidth": 0,
              "ticks": ""
             }
            },
            "type": "scattergl"
           }
          ],
          "scattermapbox": [
           {
            "marker": {
             "colorbar": {
              "outlinewidth": 0,
              "ticks": ""
             }
            },
            "type": "scattermapbox"
           }
          ],
          "scatterpolar": [
           {
            "marker": {
             "colorbar": {
              "outlinewidth": 0,
              "ticks": ""
             }
            },
            "type": "scatterpolar"
           }
          ],
          "scatterpolargl": [
           {
            "marker": {
             "colorbar": {
              "outlinewidth": 0,
              "ticks": ""
             }
            },
            "type": "scatterpolargl"
           }
          ],
          "scatterternary": [
           {
            "marker": {
             "colorbar": {
              "outlinewidth": 0,
              "ticks": ""
             }
            },
            "type": "scatterternary"
           }
          ],
          "surface": [
           {
            "colorbar": {
             "outlinewidth": 0,
             "ticks": ""
            },
            "colorscale": [
             [
              0,
              "#0d0887"
             ],
             [
              0.1111111111111111,
              "#46039f"
             ],
             [
              0.2222222222222222,
              "#7201a8"
             ],
             [
              0.3333333333333333,
              "#9c179e"
             ],
             [
              0.4444444444444444,
              "#bd3786"
             ],
             [
              0.5555555555555556,
              "#d8576b"
             ],
             [
              0.6666666666666666,
              "#ed7953"
             ],
             [
              0.7777777777777778,
              "#fb9f3a"
             ],
             [
              0.8888888888888888,
              "#fdca26"
             ],
             [
              1,
              "#f0f921"
             ]
            ],
            "type": "surface"
           }
          ],
          "table": [
           {
            "cells": {
             "fill": {
              "color": "#EBF0F8"
             },
             "line": {
              "color": "white"
             }
            },
            "header": {
             "fill": {
              "color": "#C8D4E3"
             },
             "line": {
              "color": "white"
             }
            },
            "type": "table"
           }
          ]
         },
         "layout": {
          "annotationdefaults": {
           "arrowcolor": "#2a3f5f",
           "arrowhead": 0,
           "arrowwidth": 1
          },
          "autotypenumbers": "strict",
          "coloraxis": {
           "colorbar": {
            "outlinewidth": 0,
            "ticks": ""
           }
          },
          "colorscale": {
           "diverging": [
            [
             0,
             "#8e0152"
            ],
            [
             0.1,
             "#c51b7d"
            ],
            [
             0.2,
             "#de77ae"
            ],
            [
             0.3,
             "#f1b6da"
            ],
            [
             0.4,
             "#fde0ef"
            ],
            [
             0.5,
             "#f7f7f7"
            ],
            [
             0.6,
             "#e6f5d0"
            ],
            [
             0.7,
             "#b8e186"
            ],
            [
             0.8,
             "#7fbc41"
            ],
            [
             0.9,
             "#4d9221"
            ],
            [
             1,
             "#276419"
            ]
           ],
           "sequential": [
            [
             0,
             "#0d0887"
            ],
            [
             0.1111111111111111,
             "#46039f"
            ],
            [
             0.2222222222222222,
             "#7201a8"
            ],
            [
             0.3333333333333333,
             "#9c179e"
            ],
            [
             0.4444444444444444,
             "#bd3786"
            ],
            [
             0.5555555555555556,
             "#d8576b"
            ],
            [
             0.6666666666666666,
             "#ed7953"
            ],
            [
             0.7777777777777778,
             "#fb9f3a"
            ],
            [
             0.8888888888888888,
             "#fdca26"
            ],
            [
             1,
             "#f0f921"
            ]
           ],
           "sequentialminus": [
            [
             0,
             "#0d0887"
            ],
            [
             0.1111111111111111,
             "#46039f"
            ],
            [
             0.2222222222222222,
             "#7201a8"
            ],
            [
             0.3333333333333333,
             "#9c179e"
            ],
            [
             0.4444444444444444,
             "#bd3786"
            ],
            [
             0.5555555555555556,
             "#d8576b"
            ],
            [
             0.6666666666666666,
             "#ed7953"
            ],
            [
             0.7777777777777778,
             "#fb9f3a"
            ],
            [
             0.8888888888888888,
             "#fdca26"
            ],
            [
             1,
             "#f0f921"
            ]
           ]
          },
          "colorway": [
           "#636efa",
           "#EF553B",
           "#00cc96",
           "#ab63fa",
           "#FFA15A",
           "#19d3f3",
           "#FF6692",
           "#B6E880",
           "#FF97FF",
           "#FECB52"
          ],
          "font": {
           "color": "#2a3f5f"
          },
          "geo": {
           "bgcolor": "white",
           "lakecolor": "white",
           "landcolor": "#E5ECF6",
           "showlakes": true,
           "showland": true,
           "subunitcolor": "white"
          },
          "hoverlabel": {
           "align": "left"
          },
          "hovermode": "closest",
          "mapbox": {
           "style": "light"
          },
          "paper_bgcolor": "white",
          "plot_bgcolor": "#E5ECF6",
          "polar": {
           "angularaxis": {
            "gridcolor": "white",
            "linecolor": "white",
            "ticks": ""
           },
           "bgcolor": "#E5ECF6",
           "radialaxis": {
            "gridcolor": "white",
            "linecolor": "white",
            "ticks": ""
           }
          },
          "scene": {
           "xaxis": {
            "backgroundcolor": "#E5ECF6",
            "gridcolor": "white",
            "gridwidth": 2,
            "linecolor": "white",
            "showbackground": true,
            "ticks": "",
            "zerolinecolor": "white"
           },
           "yaxis": {
            "backgroundcolor": "#E5ECF6",
            "gridcolor": "white",
            "gridwidth": 2,
            "linecolor": "white",
            "showbackground": true,
            "ticks": "",
            "zerolinecolor": "white"
           },
           "zaxis": {
            "backgroundcolor": "#E5ECF6",
            "gridcolor": "white",
            "gridwidth": 2,
            "linecolor": "white",
            "showbackground": true,
            "ticks": "",
            "zerolinecolor": "white"
           }
          },
          "shapedefaults": {
           "line": {
            "color": "#2a3f5f"
           }
          },
          "ternary": {
           "aaxis": {
            "gridcolor": "white",
            "linecolor": "white",
            "ticks": ""
           },
           "baxis": {
            "gridcolor": "white",
            "linecolor": "white",
            "ticks": ""
           },
           "bgcolor": "#E5ECF6",
           "caxis": {
            "gridcolor": "white",
            "linecolor": "white",
            "ticks": ""
           }
          },
          "title": {
           "x": 0.05
          },
          "xaxis": {
           "automargin": true,
           "gridcolor": "white",
           "linecolor": "white",
           "ticks": "",
           "title": {
            "standoff": 15
           },
           "zerolinecolor": "white",
           "zerolinewidth": 2
          },
          "yaxis": {
           "automargin": true,
           "gridcolor": "white",
           "linecolor": "white",
           "ticks": "",
           "title": {
            "standoff": 15
           },
           "zerolinecolor": "white",
           "zerolinewidth": 2
          }
         }
        },
        "title": {
         "text": "Average Non-vegetarian Food Price by Location"
        },
        "width": 1000,
        "xaxis": {
         "anchor": "y",
         "domain": [
          0,
          1
         ],
         "side": "top",
         "title": {
          "text": "non-veg"
         }
        },
        "yaxis": {
         "anchor": "x",
         "domain": [
          0,
          1
         ],
         "title": {
          "text": "Location"
         }
        }
       }
      },
      "text/html": [
       "<div>                            <div id=\"220be00d-4c5b-45d7-a633-4478d2137bc7\" class=\"plotly-graph-div\" style=\"height:6000px; width:1000px;\"></div>            <script type=\"text/javascript\">                require([\"plotly\"], function(Plotly) {                    window.PLOTLYENV=window.PLOTLYENV || {};                                    if (document.getElementById(\"220be00d-4c5b-45d7-a633-4478d2137bc7\")) {                    Plotly.newPlot(                        \"220be00d-4c5b-45d7-a633-4478d2137bc7\",                        [{\"alignmentgroup\":\"True\",\"hovertemplate\":\"non-veg=%{x}<br>Location=%{y}<br>text=%{text}<extra></extra>\",\"legendgroup\":\"\",\"marker\":{\"color\":\"#636efa\",\"pattern\":{\"shape\":\"\"}},\"name\":\"\",\"offsetgroup\":\"\",\"orientation\":\"h\",\"showlegend\":false,\"text\":[\"Rs.1900.0\",\"Rs.250.0\",\"Rs.297.28\",\"Rs.456.67\",\"Rs.804.17\",\"Rs.443.55\",\"Rs.736.67\",\"Rs.328.26\",\"Rs.369.83\",\"Rs.485.71\",\"Rs.415.28\",\"Rs.367.26\",\"Rs.572.06\",\"Rs.372.82\",\"Rs.373.66\",\"Rs.344.55\",\"Rs.461.29\",\"Rs.394.84\",\"Rs.461.67\",\"Rs.298.39\",\"Rs.349.03\",\"Rs.1350.0\",\"Rs.1500.0\",\"Rs.794.44\",\"Rs.427.27\",\"Rs.523.39\",\"Rs.363.97\",\"Rs.1133.33\",\"Rs.459.94\",\"Rs.305.74\",\"Rs.603.57\",\"Rs.2466.67\",\"Rs.1500.0\",\"Rs.381.82\",\"Rs.966.38\",\"Rs.1900.0\",\"Rs.516.67\",\"Rs.290.0\",\"Rs.489.66\",\"Rs.1850.0\",\"Rs.415.6\",\"Rs.368.18\",\"Rs.334.24\",\"Rs.348.89\",\"Rs.391.61\",\"Rs.355.56\",\"Rs.357.09\",\"Rs.396.25\",\"Rs.488.0\",\"Rs.437.5\",\"Rs.492.86\",\"Rs.1577.27\",\"Rs.322.32\",\"Rs.336.05\",\"Rs.326.44\",\"Rs.607.78\",\"Rs.2300.0\",\"Rs.321.62\",\"Rs.358.13\",\"Rs.341.67\",\"Rs.385.56\",\"Rs.672.22\",\"Rs.430.77\",\"Rs.629.17\",\"Rs.327.16\",\"Rs.358.12\",\"Rs.571.21\",\"Rs.2000.0\",\"Rs.641.42\",\"Rs.1433.33\",\"Rs.278.57\",\"Rs.1150.0\",\"Rs.634.21\",\"Rs.562.5\",\"Rs.382.35\",\"Rs.420.83\",\"Rs.327.78\",\"Rs.352.17\",\"Rs.364.06\",\"Rs.340.0\",\"Rs.327.94\",\"Rs.475.0\",\"Rs.370.98\",\"Rs.404.55\",\"Rs.355.26\",\"Rs.376.36\",\"Rs.328.49\",\"Rs.607.14\",\"Rs.1650.0\",\"Rs.364.3\",\"Rs.297.73\",\"Rs.266.67\",\"Rs.393.81\",\"Rs.348.96\",\"Rs.384.62\",\"Rs.332.58\",\"Rs.516.67\",\"Rs.346.11\",\"Rs.485.94\",\"Rs.325.86\",\"Rs.386.62\",\"Rs.1600.0\",\"Rs.221.62\",\"Rs.2050.0\",\"Rs.551.61\",\"Rs.460.31\",\"Rs.335.26\",\"Rs.354.8\",\"Rs.730.12\",\"Rs.1500.0\",\"Rs.327.69\",\"Rs.332.07\",\"Rs.666.95\",\"Rs.409.96\",\"Rs.254.41\",\"Rs.439.33\",\"Rs.1437.5\",\"Rs.1933.33\",\"Rs.440.94\",\"Rs.336.14\",\"Rs.380.95\",\"Rs.410.99\",\"Rs.285.23\",\"Rs.566.67\",\"Rs.369.23\",\"Rs.2166.67\",\"Rs.314.21\",\"Rs.278.41\"],\"textposition\":\"auto\",\"x\":[1900.0,250.0,297.2826086956522,456.6666666666667,804.1666666666666,443.5483870967742,736.6666666666666,328.25657894736844,369.82758620689657,485.7142857142857,415.28384279475983,367.25961538461536,572.0588235294117,372.8205128205128,373.6641221374046,344.54545454545456,461.2903225806452,394.8412698412698,461.6666666666667,298.38709677419354,349.03225806451616,1350.0,1500.0,794.4444444444445,427.27272727272725,523.394495412844,363.97058823529414,1133.3333333333333,459.9431818181818,305.73770491803276,603.5714285714286,2466.6666666666665,1500.0,381.8181818181818,966.3793103448276,1900.0,516.6666666666666,290.0,489.6551724137931,1850.0,415.60283687943263,368.1818181818182,334.2391304347826,348.8888888888889,391.61290322580646,355.55555555555554,357.0945945945946,396.25,488.0,437.5,492.85714285714283,1577.2727272727273,322.32142857142856,336.04651162790697,326.4367816091954,607.7777777777778,2300.0,321.6216216216216,358.130081300813,341.6666666666667,385.5614973262032,672.2222222222222,430.7692307692308,629.1666666666666,327.1604938271605,358.1203007518797,571.2121212121212,2000.0,641.4163090128756,1433.3333333333333,278.57142857142856,1150.0,634.2105263157895,562.5,382.3529411764706,420.8333333333333,327.77777777777777,352.17391304347825,364.0625,340.0,327.9399141630901,475.0,370.98039215686276,404.54545454545456,355.2631578947368,376.3636363636364,328.48837209302326,607.1428571428571,1650.0,364.30434782608694,297.72727272727275,266.6666666666667,393.8144329896907,348.9583333333333,384.61538461538464,332.57575757575756,516.6666666666666,346.1139896373057,485.9375,325.86206896551727,386.62420382165607,1600.0,221.6216216216216,2050.0,551.6129032258065,460.3112840466926,335.2564102564103,354.8,730.1204819277109,1500.0,327.6923076923077,332.0652173913044,666.9491525423729,409.95515695067263,254.41176470588235,439.3258426966292,1437.5,1933.3333333333333,440.9375,336.13861386138615,380.95238095238096,410.98870056497174,285.22727272727275,566.6666666666666,369.2307692307692,2166.6666666666665,314.2105263157895,278.40909090909093],\"xaxis\":\"x\",\"y\":[\"ARadhaHotel\",\"Abhiramapuram\",\"Adambakkam\",\"Adyar\",\"Akkarai\",\"Alandur\",\"Alwarpet\",\"Ambattur\",\"Aminijikarai\",\"AnnaNagar\",\"AnnaNagarEast\",\"AnnaNagarWest\",\"AnnaSalai\",\"Arumbakkam\",\"AshokNagar\",\"Avadi\",\"BesantNagar\",\"Chengalpattu\",\"Chetpet\",\"Choolaimedu\",\"Chromepet\",\"Citadines\",\"East...\",\"EastCoastRoad(ECR)\",\"Egatoor\",\"Egmore\",\"Ekkaduthangal\",\"FoodiesKitchen\",\"GSTRoad\",\"GeorgeTown\",\"Gopalapuram\",\"GrandbyGRTHotels\",\"GrandeBayResort\",\"Guduvancheri\",\"Guindy\",\"HolidayInnChennaiOMRITExpressway\",\"Injambakkam\",\"K.K.Nagar\",\"Kanathur\",\"Kanchipuram\",\"KanchipuramDistrict\",\"Kandanchavadi\",\"Karapakkam\",\"Kelambakkam\",\"Kilpauk\",\"Kodambakkam\",\"Kolathur\",\"Kottivakkam\",\"Kotturpuram\",\"Kovalam\",\"Koyambedu\",\"MRCNagar\",\"Madhavaram\",\"Madipakkam\",\"Maduravoyal\",\"Mahabalipuram\",\"Mamallapuram\",\"Mandaveli\",\"Medavakkam\",\"Meenambakkam\",\"Mogappair\",\"Muttukadu\",\"Mylapore\",\"Nandanam\",\"Nanganallur\",\"Navallur\",\"Neelangarai\",\"NovotelChennaiSipcot\",\"Nungambakkam\",\"OMR\",\"Okkiyampet\",\"OldMahabalipuramRoad\",\"OldMahabalipuramRoad(OMR)\",\"Oragadam\",\"Padur\",\"Palavakkam\",\"Pallavaram\",\"Pallikaranai\",\"ParkTown\",\"Parrys\",\"Perambur\",\"Perumbakkam\",\"Perungudi\",\"Poonamalle\",\"Porur\",\"Potheri\",\"Purasavakkam\",\"RAPuram\",\"RKSalai(CathedralRoad)\",\"Ramapuram\",\"RedHills\",\"Redhills\",\"Royapettah\",\"Royapuram\",\"Saidapet\",\"Saligramam\",\"Santhome\",\"Selaiyur\",\"Semmancheri\",\"ShenoyNagar\",\"Sholinganallur\",\"SomersetGreenways\",\"Sowcarpet\",\"Sriperumbudur\",\"St.ThomasMount\",\"T.Nagar\",\"Tambaram\",\"Taramani\",\"Teynampet\",\"TheSlate\",\"Thiruvallur\",\"Thiruvanmiyur\",\"ThousandLights\",\"Thuraipakkam\",\"Tiruvottiyur\",\"Triplicane\",\"TuryaaChennai\",\"V7Hotel\",\"Vadapalani\",\"Valasaravakkam\",\"Vandalur\",\"Velachery\",\"Vepery\",\"Vettuvankeni\",\"Virugambakkam\",\"Vivanta Chennai, IT Expressway, Sholinganallur \",\"Washermenpet\",\"WestMambalam\"],\"yaxis\":\"y\",\"type\":\"bar\"}],                        {\"template\":{\"data\":{\"bar\":[{\"error_x\":{\"color\":\"#2a3f5f\"},\"error_y\":{\"color\":\"#2a3f5f\"},\"marker\":{\"line\":{\"color\":\"#E5ECF6\",\"width\":0.5},\"pattern\":{\"fillmode\":\"overlay\",\"size\":10,\"solidity\":0.2}},\"type\":\"bar\"}],\"barpolar\":[{\"marker\":{\"line\":{\"color\":\"#E5ECF6\",\"width\":0.5},\"pattern\":{\"fillmode\":\"overlay\",\"size\":10,\"solidity\":0.2}},\"type\":\"barpolar\"}],\"carpet\":[{\"aaxis\":{\"endlinecolor\":\"#2a3f5f\",\"gridcolor\":\"white\",\"linecolor\":\"white\",\"minorgridcolor\":\"white\",\"startlinecolor\":\"#2a3f5f\"},\"baxis\":{\"endlinecolor\":\"#2a3f5f\",\"gridcolor\":\"white\",\"linecolor\":\"white\",\"minorgridcolor\":\"white\",\"startlinecolor\":\"#2a3f5f\"},\"type\":\"carpet\"}],\"choropleth\":[{\"colorbar\":{\"outlinewidth\":0,\"ticks\":\"\"},\"type\":\"choropleth\"}],\"contour\":[{\"colorbar\":{\"outlinewidth\":0,\"ticks\":\"\"},\"colorscale\":[[0.0,\"#0d0887\"],[0.1111111111111111,\"#46039f\"],[0.2222222222222222,\"#7201a8\"],[0.3333333333333333,\"#9c179e\"],[0.4444444444444444,\"#bd3786\"],[0.5555555555555556,\"#d8576b\"],[0.6666666666666666,\"#ed7953\"],[0.7777777777777778,\"#fb9f3a\"],[0.8888888888888888,\"#fdca26\"],[1.0,\"#f0f921\"]],\"type\":\"contour\"}],\"contourcarpet\":[{\"colorbar\":{\"outlinewidth\":0,\"ticks\":\"\"},\"type\":\"contourcarpet\"}],\"heatmap\":[{\"colorbar\":{\"outlinewidth\":0,\"ticks\":\"\"},\"colorscale\":[[0.0,\"#0d0887\"],[0.1111111111111111,\"#46039f\"],[0.2222222222222222,\"#7201a8\"],[0.3333333333333333,\"#9c179e\"],[0.4444444444444444,\"#bd3786\"],[0.5555555555555556,\"#d8576b\"],[0.6666666666666666,\"#ed7953\"],[0.7777777777777778,\"#fb9f3a\"],[0.8888888888888888,\"#fdca26\"],[1.0,\"#f0f921\"]],\"type\":\"heatmap\"}],\"heatmapgl\":[{\"colorbar\":{\"outlinewidth\":0,\"ticks\":\"\"},\"colorscale\":[[0.0,\"#0d0887\"],[0.1111111111111111,\"#46039f\"],[0.2222222222222222,\"#7201a8\"],[0.3333333333333333,\"#9c179e\"],[0.4444444444444444,\"#bd3786\"],[0.5555555555555556,\"#d8576b\"],[0.6666666666666666,\"#ed7953\"],[0.7777777777777778,\"#fb9f3a\"],[0.8888888888888888,\"#fdca26\"],[1.0,\"#f0f921\"]],\"type\":\"heatmapgl\"}],\"histogram\":[{\"marker\":{\"pattern\":{\"fillmode\":\"overlay\",\"size\":10,\"solidity\":0.2}},\"type\":\"histogram\"}],\"histogram2d\":[{\"colorbar\":{\"outlinewidth\":0,\"ticks\":\"\"},\"colorscale\":[[0.0,\"#0d0887\"],[0.1111111111111111,\"#46039f\"],[0.2222222222222222,\"#7201a8\"],[0.3333333333333333,\"#9c179e\"],[0.4444444444444444,\"#bd3786\"],[0.5555555555555556,\"#d8576b\"],[0.6666666666666666,\"#ed7953\"],[0.7777777777777778,\"#fb9f3a\"],[0.8888888888888888,\"#fdca26\"],[1.0,\"#f0f921\"]],\"type\":\"histogram2d\"}],\"histogram2dcontour\":[{\"colorbar\":{\"outlinewidth\":0,\"ticks\":\"\"},\"colorscale\":[[0.0,\"#0d0887\"],[0.1111111111111111,\"#46039f\"],[0.2222222222222222,\"#7201a8\"],[0.3333333333333333,\"#9c179e\"],[0.4444444444444444,\"#bd3786\"],[0.5555555555555556,\"#d8576b\"],[0.6666666666666666,\"#ed7953\"],[0.7777777777777778,\"#fb9f3a\"],[0.8888888888888888,\"#fdca26\"],[1.0,\"#f0f921\"]],\"type\":\"histogram2dcontour\"}],\"mesh3d\":[{\"colorbar\":{\"outlinewidth\":0,\"ticks\":\"\"},\"type\":\"mesh3d\"}],\"parcoords\":[{\"line\":{\"colorbar\":{\"outlinewidth\":0,\"ticks\":\"\"}},\"type\":\"parcoords\"}],\"pie\":[{\"automargin\":true,\"type\":\"pie\"}],\"scatter\":[{\"marker\":{\"colorbar\":{\"outlinewidth\":0,\"ticks\":\"\"}},\"type\":\"scatter\"}],\"scatter3d\":[{\"line\":{\"colorbar\":{\"outlinewidth\":0,\"ticks\":\"\"}},\"marker\":{\"colorbar\":{\"outlinewidth\":0,\"ticks\":\"\"}},\"type\":\"scatter3d\"}],\"scattercarpet\":[{\"marker\":{\"colorbar\":{\"outlinewidth\":0,\"ticks\":\"\"}},\"type\":\"scattercarpet\"}],\"scattergeo\":[{\"marker\":{\"colorbar\":{\"outlinewidth\":0,\"ticks\":\"\"}},\"type\":\"scattergeo\"}],\"scattergl\":[{\"marker\":{\"colorbar\":{\"outlinewidth\":0,\"ticks\":\"\"}},\"type\":\"scattergl\"}],\"scattermapbox\":[{\"marker\":{\"colorbar\":{\"outlinewidth\":0,\"ticks\":\"\"}},\"type\":\"scattermapbox\"}],\"scatterpolar\":[{\"marker\":{\"colorbar\":{\"outlinewidth\":0,\"ticks\":\"\"}},\"type\":\"scatterpolar\"}],\"scatterpolargl\":[{\"marker\":{\"colorbar\":{\"outlinewidth\":0,\"ticks\":\"\"}},\"type\":\"scatterpolargl\"}],\"scatterternary\":[{\"marker\":{\"colorbar\":{\"outlinewidth\":0,\"ticks\":\"\"}},\"type\":\"scatterternary\"}],\"surface\":[{\"colorbar\":{\"outlinewidth\":0,\"ticks\":\"\"},\"colorscale\":[[0.0,\"#0d0887\"],[0.1111111111111111,\"#46039f\"],[0.2222222222222222,\"#7201a8\"],[0.3333333333333333,\"#9c179e\"],[0.4444444444444444,\"#bd3786\"],[0.5555555555555556,\"#d8576b\"],[0.6666666666666666,\"#ed7953\"],[0.7777777777777778,\"#fb9f3a\"],[0.8888888888888888,\"#fdca26\"],[1.0,\"#f0f921\"]],\"type\":\"surface\"}],\"table\":[{\"cells\":{\"fill\":{\"color\":\"#EBF0F8\"},\"line\":{\"color\":\"white\"}},\"header\":{\"fill\":{\"color\":\"#C8D4E3\"},\"line\":{\"color\":\"white\"}},\"type\":\"table\"}]},\"layout\":{\"annotationdefaults\":{\"arrowcolor\":\"#2a3f5f\",\"arrowhead\":0,\"arrowwidth\":1},\"autotypenumbers\":\"strict\",\"coloraxis\":{\"colorbar\":{\"outlinewidth\":0,\"ticks\":\"\"}},\"colorscale\":{\"diverging\":[[0,\"#8e0152\"],[0.1,\"#c51b7d\"],[0.2,\"#de77ae\"],[0.3,\"#f1b6da\"],[0.4,\"#fde0ef\"],[0.5,\"#f7f7f7\"],[0.6,\"#e6f5d0\"],[0.7,\"#b8e186\"],[0.8,\"#7fbc41\"],[0.9,\"#4d9221\"],[1,\"#276419\"]],\"sequential\":[[0.0,\"#0d0887\"],[0.1111111111111111,\"#46039f\"],[0.2222222222222222,\"#7201a8\"],[0.3333333333333333,\"#9c179e\"],[0.4444444444444444,\"#bd3786\"],[0.5555555555555556,\"#d8576b\"],[0.6666666666666666,\"#ed7953\"],[0.7777777777777778,\"#fb9f3a\"],[0.8888888888888888,\"#fdca26\"],[1.0,\"#f0f921\"]],\"sequentialminus\":[[0.0,\"#0d0887\"],[0.1111111111111111,\"#46039f\"],[0.2222222222222222,\"#7201a8\"],[0.3333333333333333,\"#9c179e\"],[0.4444444444444444,\"#bd3786\"],[0.5555555555555556,\"#d8576b\"],[0.6666666666666666,\"#ed7953\"],[0.7777777777777778,\"#fb9f3a\"],[0.8888888888888888,\"#fdca26\"],[1.0,\"#f0f921\"]]},\"colorway\":[\"#636efa\",\"#EF553B\",\"#00cc96\",\"#ab63fa\",\"#FFA15A\",\"#19d3f3\",\"#FF6692\",\"#B6E880\",\"#FF97FF\",\"#FECB52\"],\"font\":{\"color\":\"#2a3f5f\"},\"geo\":{\"bgcolor\":\"white\",\"lakecolor\":\"white\",\"landcolor\":\"#E5ECF6\",\"showlakes\":true,\"showland\":true,\"subunitcolor\":\"white\"},\"hoverlabel\":{\"align\":\"left\"},\"hovermode\":\"closest\",\"mapbox\":{\"style\":\"light\"},\"paper_bgcolor\":\"white\",\"plot_bgcolor\":\"#E5ECF6\",\"polar\":{\"angularaxis\":{\"gridcolor\":\"white\",\"linecolor\":\"white\",\"ticks\":\"\"},\"bgcolor\":\"#E5ECF6\",\"radialaxis\":{\"gridcolor\":\"white\",\"linecolor\":\"white\",\"ticks\":\"\"}},\"scene\":{\"xaxis\":{\"backgroundcolor\":\"#E5ECF6\",\"gridcolor\":\"white\",\"gridwidth\":2,\"linecolor\":\"white\",\"showbackground\":true,\"ticks\":\"\",\"zerolinecolor\":\"white\"},\"yaxis\":{\"backgroundcolor\":\"#E5ECF6\",\"gridcolor\":\"white\",\"gridwidth\":2,\"linecolor\":\"white\",\"showbackground\":true,\"ticks\":\"\",\"zerolinecolor\":\"white\"},\"zaxis\":{\"backgroundcolor\":\"#E5ECF6\",\"gridcolor\":\"white\",\"gridwidth\":2,\"linecolor\":\"white\",\"showbackground\":true,\"ticks\":\"\",\"zerolinecolor\":\"white\"}},\"shapedefaults\":{\"line\":{\"color\":\"#2a3f5f\"}},\"ternary\":{\"aaxis\":{\"gridcolor\":\"white\",\"linecolor\":\"white\",\"ticks\":\"\"},\"baxis\":{\"gridcolor\":\"white\",\"linecolor\":\"white\",\"ticks\":\"\"},\"bgcolor\":\"#E5ECF6\",\"caxis\":{\"gridcolor\":\"white\",\"linecolor\":\"white\",\"ticks\":\"\"}},\"title\":{\"x\":0.05},\"xaxis\":{\"automargin\":true,\"gridcolor\":\"white\",\"linecolor\":\"white\",\"ticks\":\"\",\"title\":{\"standoff\":15},\"zerolinecolor\":\"white\",\"zerolinewidth\":2},\"yaxis\":{\"automargin\":true,\"gridcolor\":\"white\",\"linecolor\":\"white\",\"ticks\":\"\",\"title\":{\"standoff\":15},\"zerolinecolor\":\"white\",\"zerolinewidth\":2}}},\"xaxis\":{\"anchor\":\"y\",\"domain\":[0.0,1.0],\"title\":{\"text\":\"non-veg\"},\"side\":\"top\"},\"yaxis\":{\"anchor\":\"x\",\"domain\":[0.0,1.0],\"title\":{\"text\":\"Location\"}},\"legend\":{\"tracegroupgap\":0},\"title\":{\"text\":\"Average Non-vegetarian Food Price by Location\"},\"barmode\":\"group\",\"width\":1000,\"height\":6000},                        {\"responsive\": true}                    ).then(function(){\n",
       "                            \n",
       "var gd = document.getElementById('220be00d-4c5b-45d7-a633-4478d2137bc7');\n",
       "var x = new MutationObserver(function (mutations, observer) {{\n",
       "        var display = window.getComputedStyle(gd).display;\n",
       "        if (!display || display === 'none') {{\n",
       "            console.log([gd, 'removed!']);\n",
       "            Plotly.purge(gd);\n",
       "            observer.disconnect();\n",
       "        }}\n",
       "}});\n",
       "\n",
       "// Listen for the removal of the full notebook cells\n",
       "var notebookContainer = gd.closest('#notebook-container');\n",
       "if (notebookContainer) {{\n",
       "    x.observe(notebookContainer, {childList: true});\n",
       "}}\n",
       "\n",
       "// Listen for the clearing of the current output cell\n",
       "var outputEl = gd.closest('.output');\n",
       "if (outputEl) {{\n",
       "    x.observe(outputEl, {childList: true});\n",
       "}}\n",
       "\n",
       "                        })                };                });            </script>        </div>"
      ]
     },
     "metadata": {},
     "output_type": "display_data"
    }
   ],
   "source": [
    "average_prices = zomato_data.groupby(['Location', 'veg_only'])['Price for 2'].mean().unstack().reset_index()\n",
    "fig = px.bar(average_prices, y='Location', x='non-veg',\n",
    "             title='Average Non-vegetarian Food Price by Location',\n",
    "             labels={'value': 'Average Price'},\n",
    "             barmode='group', orientation='h',\n",
    "             text=[\"Rs.\" + str(val) for val in round(average_prices['non-veg'], 2)])  # Add this line to show value labels\n",
    "\n",
    "# Customize the value labels\n",
    "fig.update_layout(\n",
    "    width=1000,  # Set your desired width\n",
    "    height=6000  # Set your desired height\n",
    ")\n",
    "fig.update_layout(\n",
    "    xaxis=dict(side='top')\n",
    ")\n",
    "\n",
    "fig.show()"
   ]
  },
  {
   "cell_type": "markdown",
   "id": "2d8bf463",
   "metadata": {},
   "source": [
    "### Average Rating for Each location"
   ]
  },
  {
   "cell_type": "code",
   "execution_count": 271,
   "id": "d10c152c",
   "metadata": {},
   "outputs": [
    {
     "data": {
      "application/vnd.plotly.v1+json": {
       "config": {
        "plotlyServerURL": "https://plot.ly"
       },
       "data": [
        {
         "alignmentgroup": "True",
         "hovertemplate": "Dining Rating=%{x}<br>Location=%{y}<br>text=%{text}<extra></extra>",
         "legendgroup": "",
         "marker": {
          "color": "#636efa",
          "pattern": {
           "shape": ""
          }
         },
         "name": "",
         "offsetgroup": "",
         "orientation": "h",
         "showlegend": false,
         "text": [
          3.93,
          3.6,
          3.18,
          3.58,
          3.55,
          3.14,
          3.8,
          3.3,
          3.42,
          3.22,
          3.6,
          3.47,
          3.2,
          3.18,
          3.42,
          3.29,
          3.64,
          3.25,
          3.49,
          3.4,
          3.35,
          4.05,
          4,
          3.16,
          3.36,
          3.37,
          3.36,
          4.37,
          3.33,
          3.46,
          3.64,
          4.47,
          4,
          3.65,
          3.68,
          3.5,
          3.26,
          3.31,
          3.15,
          2.9,
          3.22,
          3.29,
          3.53,
          3.24,
          3.41,
          3.36,
          3.31,
          3.33,
          3.71,
          3.06,
          3.23,
          3.89,
          3.18,
          3.27,
          3.3,
          3.21,
          3.58,
          3.22,
          3.28,
          3.36,
          3.4,
          3,
          3.54,
          3.33,
          3.31,
          3.38,
          3.47,
          3.6,
          3.72,
          3.77,
          3.2,
          2.98,
          3.44,
          3.8,
          3.26,
          3.23,
          3.26,
          3.14,
          3.14,
          3.26,
          3.36,
          3.85,
          3.37,
          3.35,
          3.23,
          3.48,
          3.41,
          3.55,
          3.88,
          3.38,
          3.25,
          3.47,
          3.49,
          3.49,
          3.19,
          3.37,
          3.26,
          3.31,
          3.52,
          3.35,
          3.34,
          4.3,
          3.67,
          3.55,
          3.28,
          3.46,
          3.4,
          3.3,
          3.45,
          3.8,
          3.28,
          3.29,
          3.39,
          3.43,
          3.24,
          3.36,
          3.58,
          3.7,
          3.43,
          3.3,
          3.12,
          3.43,
          3.36,
          3.19,
          3.2,
          3.93,
          3.41,
          3.37
         ],
         "textposition": "auto",
         "type": "bar",
         "x": [
          3.9333333333333336,
          3.5999999999999996,
          3.180952380952381,
          3.5829268292682928,
          3.5454545454545454,
          3.139130434782609,
          3.8,
          3.3025,
          3.425,
          3.22,
          3.5994475138121547,
          3.4661654135338344,
          3.1999999999999997,
          3.180434782608696,
          3.4176470588235293,
          3.2910714285714286,
          3.641891891891892,
          3.250793650793651,
          3.4892857142857143,
          3.395918367346939,
          3.34950495049505,
          4.05,
          4,
          3.1631578947368424,
          3.357142857142857,
          3.373076923076923,
          3.360606060606061,
          4.366666666666667,
          3.3348837209302324,
          3.4567567567567568,
          3.6441176470588235,
          4.466666666666667,
          4,
          3.646153846153846,
          3.6805555555555554,
          3.5,
          3.256666666666667,
          3.305263157894737,
          3.1523809523809527,
          2.9,
          3.2222222222222223,
          3.2866666666666666,
          3.5279069767441857,
          3.2416666666666667,
          3.4089430894308945,
          3.364864864864865,
          3.307070707070707,
          3.3285714285714287,
          3.7125,
          3.057142857142857,
          3.226923076923077,
          3.888888888888889,
          3.1750000000000003,
          3.265957446808511,
          3.3022727272727277,
          3.2133333333333334,
          3.5799999999999996,
          3.216666666666667,
          3.2827067669172934,
          3.3625,
          3.3983471074380165,
          3,
          3.5442307692307695,
          3.3299999999999996,
          3.314285714285714,
          3.375,
          3.465217391304348,
          3.6,
          3.7214689265536727,
          3.766666666666667,
          3.1999999999999997,
          2.975,
          3.4395348837209303,
          3.8,
          3.261764705882353,
          3.2346153846153842,
          3.264864864864865,
          3.140740740740741,
          3.1374999999999997,
          3.257142857142857,
          3.3554054054054054,
          3.8499999999999996,
          3.3680851063829786,
          3.350537634408602,
          3.2306603773584905,
          3.47972972972973,
          3.4096774193548387,
          3.5533333333333332,
          3.875,
          3.3824324324324326,
          3.2518518518518515,
          3.4666666666666663,
          3.4890243902439027,
          3.487096774193548,
          3.1880952380952383,
          3.3657142857142857,
          3.2625,
          3.309917355371901,
          3.52,
          3.35,
          3.3373493975903616,
          4.3,
          3.6714285714285713,
          3.55,
          3.275,
          3.4571428571428573,
          3.3951219512195125,
          3.304225352112676,
          3.45,
          3.8,
          3.275675675675676,
          3.2930555555555556,
          3.393478260869565,
          3.4333333333333336,
          3.2375000000000003,
          3.3592105263157896,
          3.575,
          3.7,
          3.429761904761905,
          3.3,
          3.117142857142857,
          3.431896551724138,
          3.363888888888889,
          3.1875,
          3.2,
          3.9333333333333336,
          3.4131147540983604,
          3.3674999999999997
         ],
         "xaxis": "x",
         "y": [
          "ARadhaHotel",
          "Abhiramapuram",
          "Adambakkam",
          "Adyar",
          "Akkarai",
          "Alandur",
          "Alwarpet",
          "Ambattur",
          "Aminijikarai",
          "AnnaNagar",
          "AnnaNagarEast",
          "AnnaNagarWest",
          "AnnaSalai",
          "Arumbakkam",
          "AshokNagar",
          "Avadi",
          "BesantNagar",
          "Chengalpattu",
          "Chetpet",
          "Choolaimedu",
          "Chromepet",
          "Citadines",
          "East...",
          "EastCoastRoad(ECR)",
          "Egatoor",
          "Egmore",
          "Ekkaduthangal",
          "FoodiesKitchen",
          "GSTRoad",
          "GeorgeTown",
          "Gopalapuram",
          "GrandbyGRTHotels",
          "GrandeBayResort",
          "Guduvancheri",
          "Guindy",
          "HolidayInnChennaiOMRITExpressway",
          "Injambakkam",
          "K.K.Nagar",
          "Kanathur",
          "Kanchipuram",
          "KanchipuramDistrict",
          "Kandanchavadi",
          "Karapakkam",
          "Kelambakkam",
          "Kilpauk",
          "Kodambakkam",
          "Kolathur",
          "Kottivakkam",
          "Kotturpuram",
          "Kovalam",
          "Koyambedu",
          "MRCNagar",
          "Madhavaram",
          "Madipakkam",
          "Maduravoyal",
          "Mahabalipuram",
          "Mamallapuram",
          "Mandaveli",
          "Medavakkam",
          "Meenambakkam",
          "Mogappair",
          "Muttukadu",
          "Mylapore",
          "Nandanam",
          "Nanganallur",
          "Navallur",
          "Neelangarai",
          "NovotelChennaiSipcot",
          "Nungambakkam",
          "OMR",
          "Okkiyampet",
          "OldMahabalipuramRoad",
          "OldMahabalipuramRoad(OMR)",
          "Oragadam",
          "Padur",
          "Palavakkam",
          "Pallavaram",
          "Pallikaranai",
          "ParkTown",
          "Parrys",
          "Perambur",
          "Perumbakkam",
          "Perungudi",
          "Poonamalle",
          "Porur",
          "Potheri",
          "Purasavakkam",
          "RAPuram",
          "RKSalai(CathedralRoad)",
          "Ramapuram",
          "RedHills",
          "Redhills",
          "Royapettah",
          "Royapuram",
          "Saidapet",
          "Saligramam",
          "Santhome",
          "Selaiyur",
          "Semmancheri",
          "ShenoyNagar",
          "Sholinganallur",
          "SomersetGreenways",
          "Sowcarpet",
          "Sriperumbudur",
          "St.ThomasMount",
          "T.Nagar",
          "Tambaram",
          "Taramani",
          "Teynampet",
          "TheSlate",
          "Thiruvallur",
          "Thiruvanmiyur",
          "ThousandLights",
          "Thuraipakkam",
          "Tiruvottiyur",
          "Triplicane",
          "TuryaaChennai",
          "V7Hotel",
          "Vadapalani",
          "Valasaravakkam",
          "Vandalur",
          "Velachery",
          "Vepery",
          "Vettuvankeni",
          "Virugambakkam",
          "Vivanta Chennai, IT Expressway, Sholinganallur ",
          "Washermenpet",
          "WestMambalam"
         ],
         "yaxis": "y"
        }
       ],
       "layout": {
        "barmode": "group",
        "height": 6000,
        "legend": {
         "tracegroupgap": 0
        },
        "template": {
         "data": {
          "bar": [
           {
            "error_x": {
             "color": "#2a3f5f"
            },
            "error_y": {
             "color": "#2a3f5f"
            },
            "marker": {
             "line": {
              "color": "#E5ECF6",
              "width": 0.5
             },
             "pattern": {
              "fillmode": "overlay",
              "size": 10,
              "solidity": 0.2
             }
            },
            "type": "bar"
           }
          ],
          "barpolar": [
           {
            "marker": {
             "line": {
              "color": "#E5ECF6",
              "width": 0.5
             },
             "pattern": {
              "fillmode": "overlay",
              "size": 10,
              "solidity": 0.2
             }
            },
            "type": "barpolar"
           }
          ],
          "carpet": [
           {
            "aaxis": {
             "endlinecolor": "#2a3f5f",
             "gridcolor": "white",
             "linecolor": "white",
             "minorgridcolor": "white",
             "startlinecolor": "#2a3f5f"
            },
            "baxis": {
             "endlinecolor": "#2a3f5f",
             "gridcolor": "white",
             "linecolor": "white",
             "minorgridcolor": "white",
             "startlinecolor": "#2a3f5f"
            },
            "type": "carpet"
           }
          ],
          "choropleth": [
           {
            "colorbar": {
             "outlinewidth": 0,
             "ticks": ""
            },
            "type": "choropleth"
           }
          ],
          "contour": [
           {
            "colorbar": {
             "outlinewidth": 0,
             "ticks": ""
            },
            "colorscale": [
             [
              0,
              "#0d0887"
             ],
             [
              0.1111111111111111,
              "#46039f"
             ],
             [
              0.2222222222222222,
              "#7201a8"
             ],
             [
              0.3333333333333333,
              "#9c179e"
             ],
             [
              0.4444444444444444,
              "#bd3786"
             ],
             [
              0.5555555555555556,
              "#d8576b"
             ],
             [
              0.6666666666666666,
              "#ed7953"
             ],
             [
              0.7777777777777778,
              "#fb9f3a"
             ],
             [
              0.8888888888888888,
              "#fdca26"
             ],
             [
              1,
              "#f0f921"
             ]
            ],
            "type": "contour"
           }
          ],
          "contourcarpet": [
           {
            "colorbar": {
             "outlinewidth": 0,
             "ticks": ""
            },
            "type": "contourcarpet"
           }
          ],
          "heatmap": [
           {
            "colorbar": {
             "outlinewidth": 0,
             "ticks": ""
            },
            "colorscale": [
             [
              0,
              "#0d0887"
             ],
             [
              0.1111111111111111,
              "#46039f"
             ],
             [
              0.2222222222222222,
              "#7201a8"
             ],
             [
              0.3333333333333333,
              "#9c179e"
             ],
             [
              0.4444444444444444,
              "#bd3786"
             ],
             [
              0.5555555555555556,
              "#d8576b"
             ],
             [
              0.6666666666666666,
              "#ed7953"
             ],
             [
              0.7777777777777778,
              "#fb9f3a"
             ],
             [
              0.8888888888888888,
              "#fdca26"
             ],
             [
              1,
              "#f0f921"
             ]
            ],
            "type": "heatmap"
           }
          ],
          "heatmapgl": [
           {
            "colorbar": {
             "outlinewidth": 0,
             "ticks": ""
            },
            "colorscale": [
             [
              0,
              "#0d0887"
             ],
             [
              0.1111111111111111,
              "#46039f"
             ],
             [
              0.2222222222222222,
              "#7201a8"
             ],
             [
              0.3333333333333333,
              "#9c179e"
             ],
             [
              0.4444444444444444,
              "#bd3786"
             ],
             [
              0.5555555555555556,
              "#d8576b"
             ],
             [
              0.6666666666666666,
              "#ed7953"
             ],
             [
              0.7777777777777778,
              "#fb9f3a"
             ],
             [
              0.8888888888888888,
              "#fdca26"
             ],
             [
              1,
              "#f0f921"
             ]
            ],
            "type": "heatmapgl"
           }
          ],
          "histogram": [
           {
            "marker": {
             "pattern": {
              "fillmode": "overlay",
              "size": 10,
              "solidity": 0.2
             }
            },
            "type": "histogram"
           }
          ],
          "histogram2d": [
           {
            "colorbar": {
             "outlinewidth": 0,
             "ticks": ""
            },
            "colorscale": [
             [
              0,
              "#0d0887"
             ],
             [
              0.1111111111111111,
              "#46039f"
             ],
             [
              0.2222222222222222,
              "#7201a8"
             ],
             [
              0.3333333333333333,
              "#9c179e"
             ],
             [
              0.4444444444444444,
              "#bd3786"
             ],
             [
              0.5555555555555556,
              "#d8576b"
             ],
             [
              0.6666666666666666,
              "#ed7953"
             ],
             [
              0.7777777777777778,
              "#fb9f3a"
             ],
             [
              0.8888888888888888,
              "#fdca26"
             ],
             [
              1,
              "#f0f921"
             ]
            ],
            "type": "histogram2d"
           }
          ],
          "histogram2dcontour": [
           {
            "colorbar": {
             "outlinewidth": 0,
             "ticks": ""
            },
            "colorscale": [
             [
              0,
              "#0d0887"
             ],
             [
              0.1111111111111111,
              "#46039f"
             ],
             [
              0.2222222222222222,
              "#7201a8"
             ],
             [
              0.3333333333333333,
              "#9c179e"
             ],
             [
              0.4444444444444444,
              "#bd3786"
             ],
             [
              0.5555555555555556,
              "#d8576b"
             ],
             [
              0.6666666666666666,
              "#ed7953"
             ],
             [
              0.7777777777777778,
              "#fb9f3a"
             ],
             [
              0.8888888888888888,
              "#fdca26"
             ],
             [
              1,
              "#f0f921"
             ]
            ],
            "type": "histogram2dcontour"
           }
          ],
          "mesh3d": [
           {
            "colorbar": {
             "outlinewidth": 0,
             "ticks": ""
            },
            "type": "mesh3d"
           }
          ],
          "parcoords": [
           {
            "line": {
             "colorbar": {
              "outlinewidth": 0,
              "ticks": ""
             }
            },
            "type": "parcoords"
           }
          ],
          "pie": [
           {
            "automargin": true,
            "type": "pie"
           }
          ],
          "scatter": [
           {
            "marker": {
             "colorbar": {
              "outlinewidth": 0,
              "ticks": ""
             }
            },
            "type": "scatter"
           }
          ],
          "scatter3d": [
           {
            "line": {
             "colorbar": {
              "outlinewidth": 0,
              "ticks": ""
             }
            },
            "marker": {
             "colorbar": {
              "outlinewidth": 0,
              "ticks": ""
             }
            },
            "type": "scatter3d"
           }
          ],
          "scattercarpet": [
           {
            "marker": {
             "colorbar": {
              "outlinewidth": 0,
              "ticks": ""
             }
            },
            "type": "scattercarpet"
           }
          ],
          "scattergeo": [
           {
            "marker": {
             "colorbar": {
              "outlinewidth": 0,
              "ticks": ""
             }
            },
            "type": "scattergeo"
           }
          ],
          "scattergl": [
           {
            "marker": {
             "colorbar": {
              "outlinewidth": 0,
              "ticks": ""
             }
            },
            "type": "scattergl"
           }
          ],
          "scattermapbox": [
           {
            "marker": {
             "colorbar": {
              "outlinewidth": 0,
              "ticks": ""
             }
            },
            "type": "scattermapbox"
           }
          ],
          "scatterpolar": [
           {
            "marker": {
             "colorbar": {
              "outlinewidth": 0,
              "ticks": ""
             }
            },
            "type": "scatterpolar"
           }
          ],
          "scatterpolargl": [
           {
            "marker": {
             "colorbar": {
              "outlinewidth": 0,
              "ticks": ""
             }
            },
            "type": "scatterpolargl"
           }
          ],
          "scatterternary": [
           {
            "marker": {
             "colorbar": {
              "outlinewidth": 0,
              "ticks": ""
             }
            },
            "type": "scatterternary"
           }
          ],
          "surface": [
           {
            "colorbar": {
             "outlinewidth": 0,
             "ticks": ""
            },
            "colorscale": [
             [
              0,
              "#0d0887"
             ],
             [
              0.1111111111111111,
              "#46039f"
             ],
             [
              0.2222222222222222,
              "#7201a8"
             ],
             [
              0.3333333333333333,
              "#9c179e"
             ],
             [
              0.4444444444444444,
              "#bd3786"
             ],
             [
              0.5555555555555556,
              "#d8576b"
             ],
             [
              0.6666666666666666,
              "#ed7953"
             ],
             [
              0.7777777777777778,
              "#fb9f3a"
             ],
             [
              0.8888888888888888,
              "#fdca26"
             ],
             [
              1,
              "#f0f921"
             ]
            ],
            "type": "surface"
           }
          ],
          "table": [
           {
            "cells": {
             "fill": {
              "color": "#EBF0F8"
             },
             "line": {
              "color": "white"
             }
            },
            "header": {
             "fill": {
              "color": "#C8D4E3"
             },
             "line": {
              "color": "white"
             }
            },
            "type": "table"
           }
          ]
         },
         "layout": {
          "annotationdefaults": {
           "arrowcolor": "#2a3f5f",
           "arrowhead": 0,
           "arrowwidth": 1
          },
          "autotypenumbers": "strict",
          "coloraxis": {
           "colorbar": {
            "outlinewidth": 0,
            "ticks": ""
           }
          },
          "colorscale": {
           "diverging": [
            [
             0,
             "#8e0152"
            ],
            [
             0.1,
             "#c51b7d"
            ],
            [
             0.2,
             "#de77ae"
            ],
            [
             0.3,
             "#f1b6da"
            ],
            [
             0.4,
             "#fde0ef"
            ],
            [
             0.5,
             "#f7f7f7"
            ],
            [
             0.6,
             "#e6f5d0"
            ],
            [
             0.7,
             "#b8e186"
            ],
            [
             0.8,
             "#7fbc41"
            ],
            [
             0.9,
             "#4d9221"
            ],
            [
             1,
             "#276419"
            ]
           ],
           "sequential": [
            [
             0,
             "#0d0887"
            ],
            [
             0.1111111111111111,
             "#46039f"
            ],
            [
             0.2222222222222222,
             "#7201a8"
            ],
            [
             0.3333333333333333,
             "#9c179e"
            ],
            [
             0.4444444444444444,
             "#bd3786"
            ],
            [
             0.5555555555555556,
             "#d8576b"
            ],
            [
             0.6666666666666666,
             "#ed7953"
            ],
            [
             0.7777777777777778,
             "#fb9f3a"
            ],
            [
             0.8888888888888888,
             "#fdca26"
            ],
            [
             1,
             "#f0f921"
            ]
           ],
           "sequentialminus": [
            [
             0,
             "#0d0887"
            ],
            [
             0.1111111111111111,
             "#46039f"
            ],
            [
             0.2222222222222222,
             "#7201a8"
            ],
            [
             0.3333333333333333,
             "#9c179e"
            ],
            [
             0.4444444444444444,
             "#bd3786"
            ],
            [
             0.5555555555555556,
             "#d8576b"
            ],
            [
             0.6666666666666666,
             "#ed7953"
            ],
            [
             0.7777777777777778,
             "#fb9f3a"
            ],
            [
             0.8888888888888888,
             "#fdca26"
            ],
            [
             1,
             "#f0f921"
            ]
           ]
          },
          "colorway": [
           "#636efa",
           "#EF553B",
           "#00cc96",
           "#ab63fa",
           "#FFA15A",
           "#19d3f3",
           "#FF6692",
           "#B6E880",
           "#FF97FF",
           "#FECB52"
          ],
          "font": {
           "color": "#2a3f5f"
          },
          "geo": {
           "bgcolor": "white",
           "lakecolor": "white",
           "landcolor": "#E5ECF6",
           "showlakes": true,
           "showland": true,
           "subunitcolor": "white"
          },
          "hoverlabel": {
           "align": "left"
          },
          "hovermode": "closest",
          "mapbox": {
           "style": "light"
          },
          "paper_bgcolor": "white",
          "plot_bgcolor": "#E5ECF6",
          "polar": {
           "angularaxis": {
            "gridcolor": "white",
            "linecolor": "white",
            "ticks": ""
           },
           "bgcolor": "#E5ECF6",
           "radialaxis": {
            "gridcolor": "white",
            "linecolor": "white",
            "ticks": ""
           }
          },
          "scene": {
           "xaxis": {
            "backgroundcolor": "#E5ECF6",
            "gridcolor": "white",
            "gridwidth": 2,
            "linecolor": "white",
            "showbackground": true,
            "ticks": "",
            "zerolinecolor": "white"
           },
           "yaxis": {
            "backgroundcolor": "#E5ECF6",
            "gridcolor": "white",
            "gridwidth": 2,
            "linecolor": "white",
            "showbackground": true,
            "ticks": "",
            "zerolinecolor": "white"
           },
           "zaxis": {
            "backgroundcolor": "#E5ECF6",
            "gridcolor": "white",
            "gridwidth": 2,
            "linecolor": "white",
            "showbackground": true,
            "ticks": "",
            "zerolinecolor": "white"
           }
          },
          "shapedefaults": {
           "line": {
            "color": "#2a3f5f"
           }
          },
          "ternary": {
           "aaxis": {
            "gridcolor": "white",
            "linecolor": "white",
            "ticks": ""
           },
           "baxis": {
            "gridcolor": "white",
            "linecolor": "white",
            "ticks": ""
           },
           "bgcolor": "#E5ECF6",
           "caxis": {
            "gridcolor": "white",
            "linecolor": "white",
            "ticks": ""
           }
          },
          "title": {
           "x": 0.05
          },
          "xaxis": {
           "automargin": true,
           "gridcolor": "white",
           "linecolor": "white",
           "ticks": "",
           "title": {
            "standoff": 15
           },
           "zerolinecolor": "white",
           "zerolinewidth": 2
          },
          "yaxis": {
           "automargin": true,
           "gridcolor": "white",
           "linecolor": "white",
           "ticks": "",
           "title": {
            "standoff": 15
           },
           "zerolinecolor": "white",
           "zerolinewidth": 2
          }
         }
        },
        "title": {
         "text": "Average Non-vegetarian Food Price by Location"
        },
        "width": 1000,
        "xaxis": {
         "anchor": "y",
         "domain": [
          0,
          1
         ],
         "side": "top",
         "title": {
          "text": "Dining Rating"
         }
        },
        "yaxis": {
         "anchor": "x",
         "domain": [
          0,
          1
         ],
         "title": {
          "text": "Location"
         }
        }
       }
      },
      "text/html": [
       "<div>                            <div id=\"ef9640fb-bcba-4203-9ce6-10a53cb75d86\" class=\"plotly-graph-div\" style=\"height:6000px; width:1000px;\"></div>            <script type=\"text/javascript\">                require([\"plotly\"], function(Plotly) {                    window.PLOTLYENV=window.PLOTLYENV || {};                                    if (document.getElementById(\"ef9640fb-bcba-4203-9ce6-10a53cb75d86\")) {                    Plotly.newPlot(                        \"ef9640fb-bcba-4203-9ce6-10a53cb75d86\",                        [{\"alignmentgroup\":\"True\",\"hovertemplate\":\"Dining Rating=%{x}<br>Location=%{y}<br>text=%{text}<extra></extra>\",\"legendgroup\":\"\",\"marker\":{\"color\":\"#636efa\",\"pattern\":{\"shape\":\"\"}},\"name\":\"\",\"offsetgroup\":\"\",\"orientation\":\"h\",\"showlegend\":false,\"text\":[3.93,3.6,3.18,3.58,3.55,3.14,3.8,3.3,3.42,3.22,3.6,3.47,3.2,3.18,3.42,3.29,3.64,3.25,3.49,3.4,3.35,4.05,4.0,3.16,3.36,3.37,3.36,4.37,3.33,3.46,3.64,4.47,4.0,3.65,3.68,3.5,3.26,3.31,3.15,2.9,3.22,3.29,3.53,3.24,3.41,3.36,3.31,3.33,3.71,3.06,3.23,3.89,3.18,3.27,3.3,3.21,3.58,3.22,3.28,3.36,3.4,3.0,3.54,3.33,3.31,3.38,3.47,3.6,3.72,3.77,3.2,2.98,3.44,3.8,3.26,3.23,3.26,3.14,3.14,3.26,3.36,3.85,3.37,3.35,3.23,3.48,3.41,3.55,3.88,3.38,3.25,3.47,3.49,3.49,3.19,3.37,3.26,3.31,3.52,3.35,3.34,4.3,3.67,3.55,3.28,3.46,3.4,3.3,3.45,3.8,3.28,3.29,3.39,3.43,3.24,3.36,3.58,3.7,3.43,3.3,3.12,3.43,3.36,3.19,3.2,3.93,3.41,3.37],\"textposition\":\"auto\",\"x\":[3.9333333333333336,3.5999999999999996,3.180952380952381,3.5829268292682928,3.5454545454545454,3.139130434782609,3.8,3.3025,3.425,3.22,3.5994475138121547,3.4661654135338344,3.1999999999999997,3.180434782608696,3.4176470588235293,3.2910714285714286,3.641891891891892,3.250793650793651,3.4892857142857143,3.395918367346939,3.34950495049505,4.05,4.0,3.1631578947368424,3.357142857142857,3.373076923076923,3.360606060606061,4.366666666666667,3.3348837209302324,3.4567567567567568,3.6441176470588235,4.466666666666667,4.0,3.646153846153846,3.6805555555555554,3.5,3.256666666666667,3.305263157894737,3.1523809523809527,2.9,3.2222222222222223,3.2866666666666666,3.5279069767441857,3.2416666666666667,3.4089430894308945,3.364864864864865,3.307070707070707,3.3285714285714287,3.7125,3.057142857142857,3.226923076923077,3.888888888888889,3.1750000000000003,3.265957446808511,3.3022727272727277,3.2133333333333334,3.5799999999999996,3.216666666666667,3.2827067669172934,3.3625,3.3983471074380165,3.0,3.5442307692307695,3.3299999999999996,3.314285714285714,3.375,3.465217391304348,3.6,3.7214689265536727,3.766666666666667,3.1999999999999997,2.975,3.4395348837209303,3.8,3.261764705882353,3.2346153846153842,3.264864864864865,3.140740740740741,3.1374999999999997,3.257142857142857,3.3554054054054054,3.8499999999999996,3.3680851063829786,3.350537634408602,3.2306603773584905,3.47972972972973,3.4096774193548387,3.5533333333333332,3.875,3.3824324324324326,3.2518518518518515,3.4666666666666663,3.4890243902439027,3.487096774193548,3.1880952380952383,3.3657142857142857,3.2625,3.309917355371901,3.52,3.35,3.3373493975903616,4.3,3.6714285714285713,3.55,3.275,3.4571428571428573,3.3951219512195125,3.304225352112676,3.45,3.8,3.275675675675676,3.2930555555555556,3.393478260869565,3.4333333333333336,3.2375000000000003,3.3592105263157896,3.575,3.7,3.429761904761905,3.3,3.117142857142857,3.431896551724138,3.363888888888889,3.1875,3.2,3.9333333333333336,3.4131147540983604,3.3674999999999997],\"xaxis\":\"x\",\"y\":[\"ARadhaHotel\",\"Abhiramapuram\",\"Adambakkam\",\"Adyar\",\"Akkarai\",\"Alandur\",\"Alwarpet\",\"Ambattur\",\"Aminijikarai\",\"AnnaNagar\",\"AnnaNagarEast\",\"AnnaNagarWest\",\"AnnaSalai\",\"Arumbakkam\",\"AshokNagar\",\"Avadi\",\"BesantNagar\",\"Chengalpattu\",\"Chetpet\",\"Choolaimedu\",\"Chromepet\",\"Citadines\",\"East...\",\"EastCoastRoad(ECR)\",\"Egatoor\",\"Egmore\",\"Ekkaduthangal\",\"FoodiesKitchen\",\"GSTRoad\",\"GeorgeTown\",\"Gopalapuram\",\"GrandbyGRTHotels\",\"GrandeBayResort\",\"Guduvancheri\",\"Guindy\",\"HolidayInnChennaiOMRITExpressway\",\"Injambakkam\",\"K.K.Nagar\",\"Kanathur\",\"Kanchipuram\",\"KanchipuramDistrict\",\"Kandanchavadi\",\"Karapakkam\",\"Kelambakkam\",\"Kilpauk\",\"Kodambakkam\",\"Kolathur\",\"Kottivakkam\",\"Kotturpuram\",\"Kovalam\",\"Koyambedu\",\"MRCNagar\",\"Madhavaram\",\"Madipakkam\",\"Maduravoyal\",\"Mahabalipuram\",\"Mamallapuram\",\"Mandaveli\",\"Medavakkam\",\"Meenambakkam\",\"Mogappair\",\"Muttukadu\",\"Mylapore\",\"Nandanam\",\"Nanganallur\",\"Navallur\",\"Neelangarai\",\"NovotelChennaiSipcot\",\"Nungambakkam\",\"OMR\",\"Okkiyampet\",\"OldMahabalipuramRoad\",\"OldMahabalipuramRoad(OMR)\",\"Oragadam\",\"Padur\",\"Palavakkam\",\"Pallavaram\",\"Pallikaranai\",\"ParkTown\",\"Parrys\",\"Perambur\",\"Perumbakkam\",\"Perungudi\",\"Poonamalle\",\"Porur\",\"Potheri\",\"Purasavakkam\",\"RAPuram\",\"RKSalai(CathedralRoad)\",\"Ramapuram\",\"RedHills\",\"Redhills\",\"Royapettah\",\"Royapuram\",\"Saidapet\",\"Saligramam\",\"Santhome\",\"Selaiyur\",\"Semmancheri\",\"ShenoyNagar\",\"Sholinganallur\",\"SomersetGreenways\",\"Sowcarpet\",\"Sriperumbudur\",\"St.ThomasMount\",\"T.Nagar\",\"Tambaram\",\"Taramani\",\"Teynampet\",\"TheSlate\",\"Thiruvallur\",\"Thiruvanmiyur\",\"ThousandLights\",\"Thuraipakkam\",\"Tiruvottiyur\",\"Triplicane\",\"TuryaaChennai\",\"V7Hotel\",\"Vadapalani\",\"Valasaravakkam\",\"Vandalur\",\"Velachery\",\"Vepery\",\"Vettuvankeni\",\"Virugambakkam\",\"Vivanta Chennai, IT Expressway, Sholinganallur \",\"Washermenpet\",\"WestMambalam\"],\"yaxis\":\"y\",\"type\":\"bar\"}],                        {\"template\":{\"data\":{\"bar\":[{\"error_x\":{\"color\":\"#2a3f5f\"},\"error_y\":{\"color\":\"#2a3f5f\"},\"marker\":{\"line\":{\"color\":\"#E5ECF6\",\"width\":0.5},\"pattern\":{\"fillmode\":\"overlay\",\"size\":10,\"solidity\":0.2}},\"type\":\"bar\"}],\"barpolar\":[{\"marker\":{\"line\":{\"color\":\"#E5ECF6\",\"width\":0.5},\"pattern\":{\"fillmode\":\"overlay\",\"size\":10,\"solidity\":0.2}},\"type\":\"barpolar\"}],\"carpet\":[{\"aaxis\":{\"endlinecolor\":\"#2a3f5f\",\"gridcolor\":\"white\",\"linecolor\":\"white\",\"minorgridcolor\":\"white\",\"startlinecolor\":\"#2a3f5f\"},\"baxis\":{\"endlinecolor\":\"#2a3f5f\",\"gridcolor\":\"white\",\"linecolor\":\"white\",\"minorgridcolor\":\"white\",\"startlinecolor\":\"#2a3f5f\"},\"type\":\"carpet\"}],\"choropleth\":[{\"colorbar\":{\"outlinewidth\":0,\"ticks\":\"\"},\"type\":\"choropleth\"}],\"contour\":[{\"colorbar\":{\"outlinewidth\":0,\"ticks\":\"\"},\"colorscale\":[[0.0,\"#0d0887\"],[0.1111111111111111,\"#46039f\"],[0.2222222222222222,\"#7201a8\"],[0.3333333333333333,\"#9c179e\"],[0.4444444444444444,\"#bd3786\"],[0.5555555555555556,\"#d8576b\"],[0.6666666666666666,\"#ed7953\"],[0.7777777777777778,\"#fb9f3a\"],[0.8888888888888888,\"#fdca26\"],[1.0,\"#f0f921\"]],\"type\":\"contour\"}],\"contourcarpet\":[{\"colorbar\":{\"outlinewidth\":0,\"ticks\":\"\"},\"type\":\"contourcarpet\"}],\"heatmap\":[{\"colorbar\":{\"outlinewidth\":0,\"ticks\":\"\"},\"colorscale\":[[0.0,\"#0d0887\"],[0.1111111111111111,\"#46039f\"],[0.2222222222222222,\"#7201a8\"],[0.3333333333333333,\"#9c179e\"],[0.4444444444444444,\"#bd3786\"],[0.5555555555555556,\"#d8576b\"],[0.6666666666666666,\"#ed7953\"],[0.7777777777777778,\"#fb9f3a\"],[0.8888888888888888,\"#fdca26\"],[1.0,\"#f0f921\"]],\"type\":\"heatmap\"}],\"heatmapgl\":[{\"colorbar\":{\"outlinewidth\":0,\"ticks\":\"\"},\"colorscale\":[[0.0,\"#0d0887\"],[0.1111111111111111,\"#46039f\"],[0.2222222222222222,\"#7201a8\"],[0.3333333333333333,\"#9c179e\"],[0.4444444444444444,\"#bd3786\"],[0.5555555555555556,\"#d8576b\"],[0.6666666666666666,\"#ed7953\"],[0.7777777777777778,\"#fb9f3a\"],[0.8888888888888888,\"#fdca26\"],[1.0,\"#f0f921\"]],\"type\":\"heatmapgl\"}],\"histogram\":[{\"marker\":{\"pattern\":{\"fillmode\":\"overlay\",\"size\":10,\"solidity\":0.2}},\"type\":\"histogram\"}],\"histogram2d\":[{\"colorbar\":{\"outlinewidth\":0,\"ticks\":\"\"},\"colorscale\":[[0.0,\"#0d0887\"],[0.1111111111111111,\"#46039f\"],[0.2222222222222222,\"#7201a8\"],[0.3333333333333333,\"#9c179e\"],[0.4444444444444444,\"#bd3786\"],[0.5555555555555556,\"#d8576b\"],[0.6666666666666666,\"#ed7953\"],[0.7777777777777778,\"#fb9f3a\"],[0.8888888888888888,\"#fdca26\"],[1.0,\"#f0f921\"]],\"type\":\"histogram2d\"}],\"histogram2dcontour\":[{\"colorbar\":{\"outlinewidth\":0,\"ticks\":\"\"},\"colorscale\":[[0.0,\"#0d0887\"],[0.1111111111111111,\"#46039f\"],[0.2222222222222222,\"#7201a8\"],[0.3333333333333333,\"#9c179e\"],[0.4444444444444444,\"#bd3786\"],[0.5555555555555556,\"#d8576b\"],[0.6666666666666666,\"#ed7953\"],[0.7777777777777778,\"#fb9f3a\"],[0.8888888888888888,\"#fdca26\"],[1.0,\"#f0f921\"]],\"type\":\"histogram2dcontour\"}],\"mesh3d\":[{\"colorbar\":{\"outlinewidth\":0,\"ticks\":\"\"},\"type\":\"mesh3d\"}],\"parcoords\":[{\"line\":{\"colorbar\":{\"outlinewidth\":0,\"ticks\":\"\"}},\"type\":\"parcoords\"}],\"pie\":[{\"automargin\":true,\"type\":\"pie\"}],\"scatter\":[{\"marker\":{\"colorbar\":{\"outlinewidth\":0,\"ticks\":\"\"}},\"type\":\"scatter\"}],\"scatter3d\":[{\"line\":{\"colorbar\":{\"outlinewidth\":0,\"ticks\":\"\"}},\"marker\":{\"colorbar\":{\"outlinewidth\":0,\"ticks\":\"\"}},\"type\":\"scatter3d\"}],\"scattercarpet\":[{\"marker\":{\"colorbar\":{\"outlinewidth\":0,\"ticks\":\"\"}},\"type\":\"scattercarpet\"}],\"scattergeo\":[{\"marker\":{\"colorbar\":{\"outlinewidth\":0,\"ticks\":\"\"}},\"type\":\"scattergeo\"}],\"scattergl\":[{\"marker\":{\"colorbar\":{\"outlinewidth\":0,\"ticks\":\"\"}},\"type\":\"scattergl\"}],\"scattermapbox\":[{\"marker\":{\"colorbar\":{\"outlinewidth\":0,\"ticks\":\"\"}},\"type\":\"scattermapbox\"}],\"scatterpolar\":[{\"marker\":{\"colorbar\":{\"outlinewidth\":0,\"ticks\":\"\"}},\"type\":\"scatterpolar\"}],\"scatterpolargl\":[{\"marker\":{\"colorbar\":{\"outlinewidth\":0,\"ticks\":\"\"}},\"type\":\"scatterpolargl\"}],\"scatterternary\":[{\"marker\":{\"colorbar\":{\"outlinewidth\":0,\"ticks\":\"\"}},\"type\":\"scatterternary\"}],\"surface\":[{\"colorbar\":{\"outlinewidth\":0,\"ticks\":\"\"},\"colorscale\":[[0.0,\"#0d0887\"],[0.1111111111111111,\"#46039f\"],[0.2222222222222222,\"#7201a8\"],[0.3333333333333333,\"#9c179e\"],[0.4444444444444444,\"#bd3786\"],[0.5555555555555556,\"#d8576b\"],[0.6666666666666666,\"#ed7953\"],[0.7777777777777778,\"#fb9f3a\"],[0.8888888888888888,\"#fdca26\"],[1.0,\"#f0f921\"]],\"type\":\"surface\"}],\"table\":[{\"cells\":{\"fill\":{\"color\":\"#EBF0F8\"},\"line\":{\"color\":\"white\"}},\"header\":{\"fill\":{\"color\":\"#C8D4E3\"},\"line\":{\"color\":\"white\"}},\"type\":\"table\"}]},\"layout\":{\"annotationdefaults\":{\"arrowcolor\":\"#2a3f5f\",\"arrowhead\":0,\"arrowwidth\":1},\"autotypenumbers\":\"strict\",\"coloraxis\":{\"colorbar\":{\"outlinewidth\":0,\"ticks\":\"\"}},\"colorscale\":{\"diverging\":[[0,\"#8e0152\"],[0.1,\"#c51b7d\"],[0.2,\"#de77ae\"],[0.3,\"#f1b6da\"],[0.4,\"#fde0ef\"],[0.5,\"#f7f7f7\"],[0.6,\"#e6f5d0\"],[0.7,\"#b8e186\"],[0.8,\"#7fbc41\"],[0.9,\"#4d9221\"],[1,\"#276419\"]],\"sequential\":[[0.0,\"#0d0887\"],[0.1111111111111111,\"#46039f\"],[0.2222222222222222,\"#7201a8\"],[0.3333333333333333,\"#9c179e\"],[0.4444444444444444,\"#bd3786\"],[0.5555555555555556,\"#d8576b\"],[0.6666666666666666,\"#ed7953\"],[0.7777777777777778,\"#fb9f3a\"],[0.8888888888888888,\"#fdca26\"],[1.0,\"#f0f921\"]],\"sequentialminus\":[[0.0,\"#0d0887\"],[0.1111111111111111,\"#46039f\"],[0.2222222222222222,\"#7201a8\"],[0.3333333333333333,\"#9c179e\"],[0.4444444444444444,\"#bd3786\"],[0.5555555555555556,\"#d8576b\"],[0.6666666666666666,\"#ed7953\"],[0.7777777777777778,\"#fb9f3a\"],[0.8888888888888888,\"#fdca26\"],[1.0,\"#f0f921\"]]},\"colorway\":[\"#636efa\",\"#EF553B\",\"#00cc96\",\"#ab63fa\",\"#FFA15A\",\"#19d3f3\",\"#FF6692\",\"#B6E880\",\"#FF97FF\",\"#FECB52\"],\"font\":{\"color\":\"#2a3f5f\"},\"geo\":{\"bgcolor\":\"white\",\"lakecolor\":\"white\",\"landcolor\":\"#E5ECF6\",\"showlakes\":true,\"showland\":true,\"subunitcolor\":\"white\"},\"hoverlabel\":{\"align\":\"left\"},\"hovermode\":\"closest\",\"mapbox\":{\"style\":\"light\"},\"paper_bgcolor\":\"white\",\"plot_bgcolor\":\"#E5ECF6\",\"polar\":{\"angularaxis\":{\"gridcolor\":\"white\",\"linecolor\":\"white\",\"ticks\":\"\"},\"bgcolor\":\"#E5ECF6\",\"radialaxis\":{\"gridcolor\":\"white\",\"linecolor\":\"white\",\"ticks\":\"\"}},\"scene\":{\"xaxis\":{\"backgroundcolor\":\"#E5ECF6\",\"gridcolor\":\"white\",\"gridwidth\":2,\"linecolor\":\"white\",\"showbackground\":true,\"ticks\":\"\",\"zerolinecolor\":\"white\"},\"yaxis\":{\"backgroundcolor\":\"#E5ECF6\",\"gridcolor\":\"white\",\"gridwidth\":2,\"linecolor\":\"white\",\"showbackground\":true,\"ticks\":\"\",\"zerolinecolor\":\"white\"},\"zaxis\":{\"backgroundcolor\":\"#E5ECF6\",\"gridcolor\":\"white\",\"gridwidth\":2,\"linecolor\":\"white\",\"showbackground\":true,\"ticks\":\"\",\"zerolinecolor\":\"white\"}},\"shapedefaults\":{\"line\":{\"color\":\"#2a3f5f\"}},\"ternary\":{\"aaxis\":{\"gridcolor\":\"white\",\"linecolor\":\"white\",\"ticks\":\"\"},\"baxis\":{\"gridcolor\":\"white\",\"linecolor\":\"white\",\"ticks\":\"\"},\"bgcolor\":\"#E5ECF6\",\"caxis\":{\"gridcolor\":\"white\",\"linecolor\":\"white\",\"ticks\":\"\"}},\"title\":{\"x\":0.05},\"xaxis\":{\"automargin\":true,\"gridcolor\":\"white\",\"linecolor\":\"white\",\"ticks\":\"\",\"title\":{\"standoff\":15},\"zerolinecolor\":\"white\",\"zerolinewidth\":2},\"yaxis\":{\"automargin\":true,\"gridcolor\":\"white\",\"linecolor\":\"white\",\"ticks\":\"\",\"title\":{\"standoff\":15},\"zerolinecolor\":\"white\",\"zerolinewidth\":2}}},\"xaxis\":{\"anchor\":\"y\",\"domain\":[0.0,1.0],\"title\":{\"text\":\"Dining Rating\"},\"side\":\"top\"},\"yaxis\":{\"anchor\":\"x\",\"domain\":[0.0,1.0],\"title\":{\"text\":\"Location\"}},\"legend\":{\"tracegroupgap\":0},\"title\":{\"text\":\"Average Non-vegetarian Food Price by Location\"},\"barmode\":\"group\",\"width\":1000,\"height\":6000},                        {\"responsive\": true}                    ).then(function(){\n",
       "                            \n",
       "var gd = document.getElementById('ef9640fb-bcba-4203-9ce6-10a53cb75d86');\n",
       "var x = new MutationObserver(function (mutations, observer) {{\n",
       "        var display = window.getComputedStyle(gd).display;\n",
       "        if (!display || display === 'none') {{\n",
       "            console.log([gd, 'removed!']);\n",
       "            Plotly.purge(gd);\n",
       "            observer.disconnect();\n",
       "        }}\n",
       "}});\n",
       "\n",
       "// Listen for the removal of the full notebook cells\n",
       "var notebookContainer = gd.closest('#notebook-container');\n",
       "if (notebookContainer) {{\n",
       "    x.observe(notebookContainer, {childList: true});\n",
       "}}\n",
       "\n",
       "// Listen for the clearing of the current output cell\n",
       "var outputEl = gd.closest('.output');\n",
       "if (outputEl) {{\n",
       "    x.observe(outputEl, {childList: true});\n",
       "}}\n",
       "\n",
       "                        })                };                });            </script>        </div>"
      ]
     },
     "metadata": {},
     "output_type": "display_data"
    }
   ],
   "source": [
    "average_rating = zomato_data.groupby(['Location'])['Dining Rating'].mean().reset_index()\n",
    "fig = px.bar(average_rating, y='Location', x='Dining Rating',\n",
    "             title='Average Non-vegetarian Food Price by Location',\n",
    "             labels={'value': 'Average Price'},\n",
    "             barmode='group', orientation='h',\n",
    "             text=round(average_rating['Dining Rating'], 2))  # Add this line to show value labels\n",
    "\n",
    "# Customize the value labels\n",
    "fig.update_layout(\n",
    "    width=1000,  # Set your desired width\n",
    "    height=6000  # Set your desired height\n",
    ")\n",
    "fig.update_layout(\n",
    "    xaxis=dict(side='top')\n",
    ")\n",
    "\n",
    "fig.show()"
   ]
  },
  {
   "cell_type": "markdown",
   "id": "6e308be5",
   "metadata": {},
   "source": [
    "### Popular Restaurant in Chennai"
   ]
  },
  {
   "cell_type": "code",
   "execution_count": 272,
   "id": "f5104494",
   "metadata": {},
   "outputs": [],
   "source": [
    "average_rating = zomato_data.groupby(['Location'])['Dining Rating'].mean().reset_index()"
   ]
  },
  {
   "cell_type": "code",
   "execution_count": 235,
   "id": "025ba3f4",
   "metadata": {},
   "outputs": [
    {
     "data": {
      "text/html": [
       "<div>\n",
       "<style scoped>\n",
       "    .dataframe tbody tr th:only-of-type {\n",
       "        vertical-align: middle;\n",
       "    }\n",
       "\n",
       "    .dataframe tbody tr th {\n",
       "        vertical-align: top;\n",
       "    }\n",
       "\n",
       "    .dataframe thead th {\n",
       "        text-align: right;\n",
       "    }\n",
       "</style>\n",
       "<table border=\"1\" class=\"dataframe\">\n",
       "  <thead>\n",
       "    <tr style=\"text-align: right;\">\n",
       "      <th></th>\n",
       "      <th>Name of Restaurant</th>\n",
       "      <th>Location</th>\n",
       "      <th>Dining Rating Count</th>\n",
       "      <th>Delivery Rating Count</th>\n",
       "    </tr>\n",
       "  </thead>\n",
       "  <tbody>\n",
       "    <tr>\n",
       "      <th>89</th>\n",
       "      <td>Coal Barbecues</td>\n",
       "      <td>Velachery</td>\n",
       "      <td>9410.0</td>\n",
       "      <td>NaN</td>\n",
       "    </tr>\n",
       "    <tr>\n",
       "      <th>9233</th>\n",
       "      <td>Barbeque Nation</td>\n",
       "      <td>T.Nagar</td>\n",
       "      <td>5821.0</td>\n",
       "      <td>NaN</td>\n",
       "    </tr>\n",
       "    <tr>\n",
       "      <th>74</th>\n",
       "      <td>Onesta</td>\n",
       "      <td>Semmancheri</td>\n",
       "      <td>5407.0</td>\n",
       "      <td>4375</td>\n",
       "    </tr>\n",
       "    <tr>\n",
       "      <th>9030</th>\n",
       "      <td>Paradise Biryani</td>\n",
       "      <td>Perungudi</td>\n",
       "      <td>5317.0</td>\n",
       "      <td>18200</td>\n",
       "    </tr>\n",
       "    <tr>\n",
       "      <th>9026</th>\n",
       "      <td>Copper Kitchen</td>\n",
       "      <td>Porur</td>\n",
       "      <td>5073.0</td>\n",
       "      <td>26800</td>\n",
       "    </tr>\n",
       "    <tr>\n",
       "      <th>9038</th>\n",
       "      <td>Palmshore</td>\n",
       "      <td>Ramapuram</td>\n",
       "      <td>4805.0</td>\n",
       "      <td>17300</td>\n",
       "    </tr>\n",
       "    <tr>\n",
       "      <th>9040</th>\n",
       "      <td>Palmshore</td>\n",
       "      <td>AshokNagar</td>\n",
       "      <td>4478.0</td>\n",
       "      <td>19800</td>\n",
       "    </tr>\n",
       "    <tr>\n",
       "      <th>8757</th>\n",
       "      <td>Yaa Mohaideen Biryani</td>\n",
       "      <td>Pallavaram</td>\n",
       "      <td>3414.0</td>\n",
       "      <td>NaN</td>\n",
       "    </tr>\n",
       "    <tr>\n",
       "      <th>1</th>\n",
       "      <td>Sukkubhai Biriyani</td>\n",
       "      <td>Alandur</td>\n",
       "      <td>3059.0</td>\n",
       "      <td>39200</td>\n",
       "    </tr>\n",
       "    <tr>\n",
       "      <th>9039</th>\n",
       "      <td>Palmshore</td>\n",
       "      <td>Santhome</td>\n",
       "      <td>3056.0</td>\n",
       "      <td>11100</td>\n",
       "    </tr>\n",
       "  </tbody>\n",
       "</table>\n",
       "</div>"
      ],
      "text/plain": [
       "         Name of Restaurant     Location  Dining Rating Count  \\\n",
       "89           Coal Barbecues    Velachery               9410.0   \n",
       "9233        Barbeque Nation      T.Nagar               5821.0   \n",
       "74                   Onesta  Semmancheri               5407.0   \n",
       "9030       Paradise Biryani    Perungudi               5317.0   \n",
       "9026         Copper Kitchen        Porur               5073.0   \n",
       "9038              Palmshore    Ramapuram               4805.0   \n",
       "9040              Palmshore   AshokNagar               4478.0   \n",
       "8757  Yaa Mohaideen Biryani   Pallavaram               3414.0   \n",
       "1        Sukkubhai Biriyani      Alandur               3059.0   \n",
       "9039              Palmshore     Santhome               3056.0   \n",
       "\n",
       "     Delivery Rating Count  \n",
       "89                     NaN  \n",
       "9233                   NaN  \n",
       "74                    4375  \n",
       "9030                 18200  \n",
       "9026                 26800  \n",
       "9038                 17300  \n",
       "9040                 19800  \n",
       "8757                   NaN  \n",
       "1                    39200  \n",
       "9039                 11100  "
      ]
     },
     "execution_count": 235,
     "metadata": {},
     "output_type": "execute_result"
    }
   ],
   "source": [
    "zomato_data[\"Dining Rating Count\"] = zomato_data[\"Dining Rating Count\"].apply(lambda x: float(x))\n",
    "zomato_data.loc[zomato_data['Dining Rating Count'].nlargest(10).index][['Name of Restaurant','Location','Dining Rating Count','Delivery Rating Count']]"
   ]
  },
  {
   "cell_type": "markdown",
   "id": "f2378cf5",
   "metadata": {},
   "source": [
    "### Conclusion\n",
    "\n",
    "Finally, we come to conclusion that in our journey to understand Chennai's restaurants, we used Python to dig into the data. We found interesting things about the food scene in the city. By using special tools, we looked at the data closely and made pictures that helped people understand it better.\n",
    "We explored about the most popular places for food, the different types of cuisines people like, and how much people like each restaurant and many more."
   ]
  }
 ],
 "metadata": {
  "kernelspec": {
   "display_name": "Python 3 (ipykernel)",
   "language": "python",
   "name": "python3"
  },
  "language_info": {
   "codemirror_mode": {
    "name": "ipython",
    "version": 3
   },
   "file_extension": ".py",
   "mimetype": "text/x-python",
   "name": "python",
   "nbconvert_exporter": "python",
   "pygments_lexer": "ipython3",
   "version": "3.9.12"
  }
 },
 "nbformat": 4,
 "nbformat_minor": 5
}
